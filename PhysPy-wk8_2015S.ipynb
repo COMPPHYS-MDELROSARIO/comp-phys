{
 "cells": [
  {
   "cell_type": "markdown",
   "metadata": {},
   "source": [
    "# Topics\n",
    "## 1. Matrix Manipulation in Python\n",
    "## 2. Relaxation Method and the Laplace Equation.\n"
   ]
  },
  {
   "cell_type": "markdown",
   "metadata": {},
   "source": [
    "## 1. Matrix Manipulation in Python"
   ]
  },
  {
   "cell_type": "code",
   "execution_count": 2,
   "metadata": {
    "collapsed": false
   },
   "outputs": [
    {
     "name": "stdout",
     "output_type": "stream",
     "text": [
      "M_sum [ 2.          2.5         3.33333333]\n",
      "dot_product: 3.0\n"
     ]
    }
   ],
   "source": [
    "'''Important:\n",
    "\n",
    "For most purposes, \n",
    "\n",
    "M = np.matrix([[1., 1.5, 3.],\n",
    "              [-1., 11., -1.],\n",
    "              [0., -1., 10.]])\n",
    "\n",
    "and\n",
    "\n",
    "M = np.array([[1., 1.5, 3.],\n",
    "              [-1., 11., -1.],\n",
    "              [0., -1., 10.]])\n",
    "\n",
    "give you the same thing.  But certain matrix methods don't apply to a numpy array \n",
    "(such as the inverse; note: .I and .getI() both give you the inverse.).\n",
    "\n",
    "For the whole list of methods:\n",
    "\n",
    "http://docs.scipy.org/doc/numpy/reference/generated/numpy.matrix.html\n",
    "\n",
    "or do \n",
    "\n",
    ">>> dir(M)\n",
    "\n",
    "'''\n",
    "\n",
    "import numpy as np\n",
    "M1 = np.matrix([[1., 1.5, 3.],\n",
    "              [-1., 11., -1.],\n",
    "              [0., -1., 10.]])\n",
    "\n",
    "M2 = np.matrix([[10., 1., 2.],\n",
    "              [1., 1., 4.3],\n",
    "              [2., -1., 10.]])\n",
    "\n",
    "a = np.array([1., 2., 3.])\n",
    "b = np.array([1., 1/2., 1/3.])\n",
    "\n",
    "M_sum = a + b\n",
    "print 'M_sum', M_sum\n",
    "\n",
    "# np.dot\n",
    "# for 1D -- dot product\n",
    "dot_product = np.dot(a, b)\n",
    "print 'dot_product:', dot_product\n",
    "\n"
   ]
  },
  {
   "cell_type": "code",
   "execution_count": null,
   "metadata": {
    "collapsed": false
   },
   "outputs": [],
   "source": [
    "# Note: attributes are listed first, before the dunder (special) methods.\n",
    "print dir(M1)"
   ]
  },
  {
   "cell_type": "code",
   "execution_count": 4,
   "metadata": {
    "collapsed": false
   },
   "outputs": [
    {
     "name": "stdout",
     "output_type": "stream",
     "text": [
      "M_multip:\n",
      "[[ 17.5   -0.5   38.45]\n",
      " [ -1.    11.    35.3 ]\n",
      " [ 19.   -11.    95.7 ]]\n",
      "M1_op_a:\n",
      "[[ 13.  18.  28.]]\n",
      "Transposed M1:\n",
      "[[  1.   -1.    0. ]\n",
      " [  1.5  11.   -1. ]\n",
      " [  3.   -1.   10. ]]\n",
      "M1_trace [[ 22.]]\n",
      "M1_inverse:\n",
      "[[ 0.85826772 -0.14173228 -0.27165354]\n",
      " [ 0.07874016  0.07874016 -0.01574803]\n",
      " [ 0.00787402  0.00787402  0.0984252 ]]\n",
      "...to verify (M1*M1_inverse):\n",
      "[[  1.00000000e+00   0.00000000e+00   4.44089210e-16]\n",
      " [  0.00000000e+00   1.00000000e+00   0.00000000e+00]\n",
      " [  0.00000000e+00   0.00000000e+00   1.00000000e+00]]\n"
     ]
    }
   ],
   "source": [
    "# for 2D -- matrix multiplication\n",
    "M_multip = np.dot(M1, M2)\n",
    "print 'M_multip:'\n",
    "print M_multip\n",
    "\n",
    "# another example of matrix multiplication\n",
    "M1_op_a = np.dot(M1, a)\n",
    "print 'M1_op_a:'\n",
    "print M1_op_a\n",
    "\n",
    "# transpose\n",
    "M1_T = M1.T\n",
    "print 'Transposed M1:'\n",
    "print M1_T\n",
    "\n",
    "# trace\n",
    "print 'M1_trace', M1.trace()\n",
    "\n",
    "# inverse\n",
    "print 'M1_inverse:' \n",
    "print M1.I\n",
    "print '...to verify (M1*M1_inverse):'\n",
    "# Note: for most python operations, the numerical error is on the level of 1e-16.\n",
    "print np.dot(M1.I, M1)"
   ]
  },
  {
   "cell_type": "code",
   "execution_count": null,
   "metadata": {
    "collapsed": false
   },
   "outputs": [],
   "source": [
    "# To get the determinant\n",
    "import numpy.linalg as LA\n",
    "import numpy as np\n",
    "M1 = np.matrix([[1., 1.5, 3.],\n",
    "              [-1., 11., -1.],\n",
    "              [0., -1., 10.]])\n",
    "print \"Determinant of M1\", LA.det(M1)"
   ]
  },
  {
   "cell_type": "markdown",
   "metadata": {},
   "source": [
    "## Quick Breakout\n",
    "\n",
    "### Write a function, solve_eqn() that solves the following matrix equations.  You should catch the expected exception of a non-invertible matrix.\n",
    "\n",
    "### Mx = b\n",
    "\n",
    "### A) \n",
    "M1 = np.matrix([[1., 1.5, 3.],[-1., 11., -1.],[0., -1., 10.]]) and b = np.array([1., 1/2., 1/3.])\n",
    "\n",
    "### B) \n",
    "M2 = np.matrix([[1.,0., 0.],[-2., 0., 0.],[4., 6., 1.]]) and c = np.array([1., 2., 3.])\n",
    "\n",
    "### C) \n",
    "M3 = np.matrix([[1., 1.5, 3.],[-1., 11., -1.],[0., -1., 10.]]) and d = np.array([1., 2., 3.])"
   ]
  },
  {
   "cell_type": "code",
   "execution_count": null,
   "metadata": {
    "collapsed": false
   },
   "outputs": [],
   "source": [
    "M1 = np.matrix([[1., 1.5, 3.],[-1., 10., -1.],[0., -1., 10.]]) \n",
    "b = np.array([1., 1/2., 1/3.])\n",
    "soln = solve_eqn(M1, b)\n",
    "print 'Solution:', soln"
   ]
  },
  {
   "cell_type": "code",
   "execution_count": null,
   "metadata": {
    "collapsed": false
   },
   "outputs": [],
   "source": [
    "M2 = np.matrix([[1.,0., 0.],[-2., 0., 0.],[4., 6., 1.]]) \n",
    "c = np.array([1., 2., 3.])\n",
    "soln = solve_eqn(M2, c)\n",
    "print 'Solution:', soln"
   ]
  },
  {
   "cell_type": "code",
   "execution_count": null,
   "metadata": {
    "collapsed": false
   },
   "outputs": [],
   "source": [
    "M3 = np.matrix([[-3. , -5., 1.], [9. ,14., 1.],  [18., 29., -2.]])\n",
    "d = np.array([3., 2., 1.])\n",
    "soln = solve_eqn(M3, d)\n",
    "print 'Solution:', soln\n",
    "# print M2.I\n",
    "# print LA.det(M2)"
   ]
  },
  {
   "cell_type": "markdown",
   "metadata": {},
   "source": [
    "## 2. Relaxation Method and the Laplace Equation.\n",
    "\n",
    "\n",
    "### The name, \"Relaxation Method\":\n",
    "\n",
    "### For example, for the diffusion equation, an initial temperature distribution u(x, t) \"relaxes\" to an equilibrium solution as t -> inf.\n",
    "\n",
    "(See Numerical Recipes 3rd. Ed. p. 1059)"
   ]
  },
  {
   "cell_type": "markdown",
   "metadata": {},
   "source": [
    "## Relaxation Methods: The Jacobi Method\n",
    "### Solving a linear set of equations"
   ]
  },
  {
   "cell_type": "code",
   "execution_count": 17,
   "metadata": {
    "collapsed": false
   },
   "outputs": [
    {
     "name": "stdout",
     "output_type": "stream",
     "text": [
      "The diagonal elements:\n",
      "[ 10.  11.  10.   8.]\n",
      "The diagonal matrix:\n",
      "[[ 10.   0.   0.   0.]\n",
      " [  0.  11.   0.   0.]\n",
      " [  0.   0.  10.   0.]\n",
      " [  0.   0.   0.   8.]]\n",
      "The remainder matrix:\n",
      "[[ 0. -1.  2.  0.]\n",
      " [-1.  0. -1.  3.]\n",
      " [ 2. -1.  0. -1.]\n",
      " [ 0.  3. -1.  0.]]\n",
      "System of Linear Equations:\n",
      "10.0*x1 + -1.0*x2 + 2.0*x3 + 0.0*x4=6.0\n",
      "-1.0*x1 + 11.0*x2 + -1.0*x3 + 3.0*x4=25.0\n",
      "2.0*x1 + -1.0*x2 + 10.0*x3 + -1.0*x4=-11.0\n",
      "0.0*x1 + 3.0*x2 + -1.0*x3 + 8.0*x4=15.0\n",
      "\n",
      "\n",
      "\n",
      "Starting Jacobi method iterations...\n",
      "Iteration 0:[ 0.  0.  0.  0.]\n",
      "Iteration 1:[ 0.6         2.27272727 -1.1         1.875     ]\n",
      "Iteration 2:[ 1.04727273  1.71590909 -0.80522727  0.88522727]\n",
      "Iteration 3:[ 0.93263636  2.05330579 -1.04934091  1.13088068]\n",
      "Iteration 4:[ 1.01519876  1.95369576 -0.96810863  0.97384272]\n",
      "Iteration 5:[ 0.9889913   2.01141473 -1.0102859   1.02135051]\n",
      "Iteration 6:[ 1.00319865  1.99224126 -0.99452174  0.99443374]\n",
      "Iteration 7:[ 0.99812847  2.00230688 -1.00197223  1.00359431]\n",
      "Iteration 8:[ 1.00062513  1.9986703  -0.99903558  0.99888839]\n",
      "Iteration 9:[ 0.99967415  2.00044767 -1.00036916  1.00061919]\n",
      "Iteration 10:[ 1.0001186   1.99976795 -0.99982814  0.99978598]\n",
      "Iteration 11:[ 0.99994242  2.00008477 -1.00006833  1.0001085 ]\n",
      "Iteration 12:[ 1.00002214  1.99995896 -0.99996916  0.99995967]\n",
      "Tolerance achieved.  Printing results...\n",
      "\n",
      "\n",
      "\n",
      "Solution: [ 1.00002214  1.99995896 -0.99996916  0.99995967]\n",
      "Estimated Error: [  5.40253742e-05  -2.50155983e-05  -3.94622250e-05  -3.17737171e-05]\n"
     ]
    }
   ],
   "source": [
    "'''\n",
    "\n",
    "The Jacobi Method: The matrix approach.\n",
    "\n",
    "This cell is copied verbatim from last class (wk7-2)\n",
    "\n",
    "'''\n",
    "\n",
    "\n",
    "import numpy as np\n",
    "\n",
    "max_iter = 100\n",
    "\n",
    "# initialize the matrix\n",
    "A = np.array([[10., -1., 2., 0.],\n",
    "              [-1., 11., -1., 3.],\n",
    "              [2., -1., 10., -1.],\n",
    "              [0.0, 3., -1., 8.]])\n",
    "\n",
    "D = np.diag(A)\n",
    "print \"The diagonal elements:\\n\", D\n",
    "print \"The diagonal matrix:\\n\", np.diagflat(D)\n",
    "R = A - np.diagflat(D)\n",
    "print \"The remainder matrix:\\n\", R\n",
    "\n",
    "# initialize the RHS vector\n",
    "b = np.array([6., 25., -11., 15.])\n",
    "\n",
    "\n",
    "# prints the linear system\n",
    "print(\"System of Linear Equations:\")\n",
    "for i in range(A.shape[0]):\n",
    "    row = [\"{}*x{}\".format(A[i, j], j + 1) for j in range(A.shape[1])]\n",
    "    print \" + \".join(row) + \"=\" + str(b[i])\n",
    "print '\\n\\n'\n",
    "\n",
    "# Initial Guess: Usually you would want an \"educated\" guess, \n",
    "# typcially x_guess = D^(-1)b. \n",
    "# But because the method is so robust, it hardly matters...\n",
    "# We will try all 0's and a set of random numbers.\n",
    "x = np.zeros(b.shape)\n",
    "#x = np.random.rand(b.shape[0])\n",
    "# specify tolerance\n",
    "tol = 1e-4\n",
    "\n",
    "counter = 0\n",
    "print 'Starting Jacobi method iterations...'\n",
    "while counter < max_iter:\n",
    "    print \"Iteration {:d}:{}\".format(counter, x)\n",
    "    # Just to create a numpy array that has the same dimension as x.\n",
    "    x_new = np.empty(x.shape)\n",
    "\n",
    "    for i in range(A.shape[0]):\n",
    "        # np.dot computes dot product\n",
    "        \n",
    "        s = np.dot(R[i,], x)\n",
    "        x_new[i] = (b[i] - s) / A[i, i]\n",
    "            \n",
    "    counter += 1      \n",
    "    # Returns True if two arrays are element-wise equal within a tolerance.\n",
    "    if np.allclose(x, x_new, rtol=tol):\n",
    "        print 'Tolerance achieved.  Printing results...'\n",
    "        break      \n",
    "    else:\n",
    "        if counter == max_iter:\n",
    "            raise Exception('max_iter exceeded!')\n",
    "\n",
    "    x = x_new\n",
    "\n",
    "print '\\n\\n'\n",
    "print \"Solution:\", x \n",
    "print \"Estimated Error:\", (np.dot(A, x) - b)/b "
   ]
  },
  {
   "cell_type": "markdown",
   "metadata": {},
   "source": [
    "## Relaxation Methods: The Laplace Equation\n"
   ]
  },
  {
   "cell_type": "markdown",
   "metadata": {},
   "source": [
    "More at http://en.wikipedia.org/wiki/Relaxation_(iterative_method)"
   ]
  },
  {
   "cell_type": "code",
   "execution_count": 4,
   "metadata": {
    "collapsed": false
   },
   "outputs": [
    {
     "name": "stdout",
     "output_type": "stream",
     "text": [
      "[ 0.          0.09999645  0.19999358  0.2999916   0.39999061  0.49999061\n",
      "  0.5999915   0.69999313  0.79999525  0.89999763  1.        ]\n"
     ]
    },
    {
     "data": {
      "image/png": "[encoded data removed]",
      "text/plain": [
       "<matplotlib.figure.Figure at 0x10aea6cd0>"
      ]
     },
     "metadata": {},
     "output_type": "display_data"
    }
   ],
   "source": [
    "%matplotlib inline\n",
    "'''\n",
    "\n",
    "Jacobi Method: the for-loop approach -- 1D example.\n",
    "\n",
    "Note how the initial guess of all zeros over a number of iterations \"relaxes\" to the final solution -- not unlike\n",
    "an initial temperature distribution relaxes to the steady-state distribution (solution).\n",
    "\n",
    "'''\n",
    "\n",
    "\n",
    "\n",
    "import numpy as np\n",
    "import matplotlib.pyplot as plt\n",
    "\n",
    "NX = 11\n",
    "\n",
    "#initialization\n",
    "V = np.zeros(NX)\n",
    "\n",
    "\n",
    "#Boundary Conditions:\n",
    "V[NX-1] = 1.\n",
    "V[0] = 0\n",
    "maxdiff = 1e-6\n",
    "diff = 1\n",
    "x = np.arange(NX)\n",
    "\n",
    "while diff > maxdiff:\n",
    "    diff = 0.         #crucial!!\n",
    "    # start from 1 and end at NX-2: because you don't want to change the BC!!\n",
    "    for i in range(1, NX-1):    \n",
    "        newV = (V[i-1]+V[i+1])/2\n",
    "        prev_diff = abs(newV - V[i])\n",
    "        # to find the maximum difference in each loop (going over all interior points).\n",
    "        V[i] = newV\n",
    "        if diff < prev_diff:    \n",
    "            diff = prev_diff\n",
    "  \n",
    "            \n",
    "print V\n",
    "plt.plot(x, V)\n",
    "plt.show()\n",
    "          "
   ]
  },
  {
   "cell_type": "markdown",
   "metadata": {},
   "source": [
    "## The Physics:\n",
    "### This corresponds to the electric potential of a parallel plate capacitor \n",
    "### (length, width >> thickness)"
   ]
  },
  {
   "cell_type": "markdown",
   "metadata": {},
   "source": [
    "## Breakout Problem:\n",
    "### For a long rectangular tube, the potential on two opposite sides = 1 volt, and the potential on the other two sides = 0.  \n",
    "### Write a program to find V(x, y) in the interior of the tube.   Start with (2x2) interior grid points.\n",
    "### Then plot the result as a surface plot."
   ]
  },
  {
   "cell_type": "code",
   "execution_count": 21,
   "metadata": {
    "collapsed": false
   },
   "outputs": [
    {
     "name": "stdout",
     "output_type": "stream",
     "text": [
      "[[ 0.          1.          1.          1.          1.          1.          1.\n",
      "   1.          1.          1.          1.          1.          1.          1.\n",
      "   1.          1.          1.          1.          1.          0.        ]\n",
      " [ 0.          0.49999879  0.69751046  0.79004784  0.84010044  0.87006448\n",
      "   0.88903959  0.90115182  0.90842014  0.91184454  0.91184463  0.9084204\n",
      "   0.90115223  0.88904012  0.87006508  0.84010104  0.79004839  0.6975109\n",
      "   0.49999904  0.        ]\n",
      " [ 0.          0.30248484  0.49999543  0.62258075  0.7002898   0.75111835\n",
      "   0.78494254  0.80714808  0.82068474  0.82711392  0.8271141   0.82068524\n",
      "   0.80714888  0.78494356  0.7511195   0.70029098  0.62258183  0.49999628\n",
      "   0.30248533  0.        ]\n",
      " [ 0.          0.20994537  0.37740602  0.49999044  0.5873603   0.64917727\n",
      "   0.69246492  0.72181404  0.74005767  0.74881318  0.74881343  0.7400584\n",
      "   0.7218152   0.6924664   0.64917894  0.587362    0.499992    0.37740726\n",
      "   0.20994608  0.        ]\n",
      " [ 0.          0.15989091  0.29969336  0.41261536  0.49998451  0.56576647\n",
      "   0.6139269   0.64758662  0.66891988  0.67926886  0.67926918  0.66892081\n",
      "   0.64758809  0.61392879  0.5657686   0.49998668  0.41261735  0.29969493\n",
      "   0.15989181  0.        ]\n",
      " [ 0.          0.12992529  0.24886177  0.35079397  0.43419693  0.49997838\n",
      "   0.54989089  0.58568702  0.60876777  0.62007461  0.62007499  0.60876888\n",
      "   0.58568876  0.54989312  0.49998089  0.43419949  0.35079633  0.24886362\n",
      "   0.12992636  0.        ]\n",
      " [ 0.          0.11094894  0.21503514  0.3075028   0.38603202  0.45006057\n",
      "   0.49997276  0.53650439  0.56039121  0.57218846  0.57218889  0.56039244\n",
      "   0.53650634  0.49997526  0.45006339  0.3860349   0.30750544  0.21503722\n",
      "   0.11095013  0.        ]\n",
      " [ 0.          0.0988358   0.19282784  0.27815114  0.35236906  0.41426061\n",
      "   0.46343684  0.49996829  0.52410599  0.53610093  0.53610139  0.52410733\n",
      "   0.49997039  0.46343953  0.41426365  0.35237216  0.27815398  0.19283008\n",
      "   0.09883709  0.        ]\n",
      " [ 0.          0.09156693  0.17929012  0.25990597  0.33103384  0.39117755\n",
      "   0.43954742  0.47582779  0.49996543  0.51200978  0.51201026  0.49996683\n",
      "   0.47582999  0.43955024  0.39118073  0.33103709  0.25990894  0.17929246\n",
      "   0.09156828  0.        ]\n",
      " [ 0.          0.08814236  0.17286058  0.25114995  0.32068421  0.37986994\n",
      "   0.42774931  0.46383192  0.48792011  0.49996445  0.49996494  0.48792153\n",
      "   0.46383415  0.42775216  0.37987316  0.3206875   0.25115297  0.17286295\n",
      "   0.08814372  0.        ]\n",
      " [ 0.          0.08814244  0.17286075  0.2511502   0.32068453  0.37987032\n",
      "   0.42774973  0.46383238  0.48792059  0.49996494  0.49996542  0.48792198\n",
      "   0.46383458  0.42775254  0.3798735   0.32068778  0.25115318  0.17286309\n",
      "   0.08814379  0.        ]\n",
      " [ 0.          0.0915672   0.17929062  0.25990671  0.33103478  0.39117865\n",
      "   0.43954866  0.47582913  0.49996683  0.5120112   0.51201165  0.49996816\n",
      "   0.47583124  0.43955136  0.3911817   0.33103789  0.25990956  0.17929287\n",
      "   0.09156849  0.        ]\n",
      " [ 0.          0.09883621  0.19282864  0.27815229  0.35237053  0.41426235\n",
      "   0.46343879  0.49997039  0.52410819  0.53610316  0.53610359  0.52410943\n",
      "   0.49997236  0.4634413   0.41426519  0.35237343  0.27815495  0.19283073\n",
      "   0.09883741  0.        ]\n",
      " [ 0.          0.11094946  0.21503616  0.30750428  0.3860339   0.45006279\n",
      "   0.49997526  0.53650708  0.56039402  0.57219131  0.5721917   0.56039514\n",
      "   0.53650885  0.49997753  0.45006536  0.38603651  0.30750668  0.21503805\n",
      "   0.11095055  0.        ]\n",
      " [ 0.          0.12992589  0.24886292  0.35079565  0.43419905  0.49998089\n",
      "   0.54989372  0.58569007  0.60877095  0.62007784  0.62007817  0.60877193\n",
      "   0.5856916   0.54989568  0.49998311  0.43420132  0.35079772  0.24886456\n",
      "   0.12992683  0.        ]\n",
      " [ 0.          0.15989152  0.29969454  0.41261707  0.49998668  0.56576904\n",
      "   0.61392978  0.64758972  0.66892312  0.67927215  0.67927242  0.66892392\n",
      "   0.64759099  0.6139314   0.56577087  0.49998855  0.41261878  0.29969589\n",
      "   0.15989229  0.        ]\n",
      " [ 0.          0.20994592  0.37740711  0.499992    0.58736229  0.64917962\n",
      "   0.69246756  0.72181689  0.74006064  0.74881619  0.7488164   0.74006126\n",
      "   0.72181785  0.6924688   0.64918102  0.58736372  0.49999331  0.37740814\n",
      "   0.20994652  0.        ]\n",
      " [ 0.          0.30248528  0.49999628  0.62258198  0.70029137  0.7511202\n",
      "   0.78494462  0.80715032  0.82068708  0.8271163   0.82711644  0.82068749\n",
      "   0.80715097  0.78494545  0.75112114  0.70029233  0.62258286  0.49999697\n",
      "   0.30248568  0.        ]\n",
      " [ 0.          0.49999904  0.69751095  0.79004854  0.84010134  0.87006555\n",
      "   0.88904079  0.90115311  0.90842149  0.9118459   0.91184597  0.90842169\n",
      "   0.90115344  0.8890412   0.87006602  0.84010182  0.79004898  0.69751129\n",
      "   0.49999924  0.        ]\n",
      " [ 0.          1.          1.          1.          1.          1.          1.\n",
      "   1.          1.          1.          1.          1.          1.          1.\n",
      "   1.          1.          1.          1.          1.          0.        ]]\n"
     ]
    }
   ],
   "source": [
    "%matplotlib osx\n",
    "import numpy as np\n",
    "import matplotlib.pyplot as plt\n",
    "from mpl_toolkits.mplot3d import axes3d\n",
    "from matplotlib import cm\n",
    "\n",
    "NX = 20\n",
    "NY = 20\n",
    "\n",
    "#initialization\n",
    "V = np.zeros((NX,NY))\n",
    "\n",
    "\n",
    "#Boundary Conditions:\n",
    "V[NX-1,:] = 1.\n",
    "V[0,:] = 1.\n",
    "V[:,NY-1] = 0\n",
    "V[:,0] = 0\n",
    "maxdiff = 1e-6\n",
    "diff = 1\n",
    "x = np.arange(NX)\n",
    "y = np.arange(NY)\n",
    "\n",
    "while diff > maxdiff:\n",
    "    diff = 0.         #crucial!!\n",
    "    # start from 1 and end at NX-2: because you don't want to change the BC!!\n",
    "    for i in range(1, NX-1):\n",
    "        for j in range(1, NY-1):\n",
    "            newV = (V[i-1,j]+V[i+1,j]+V[i,j-1]+V[i,j+1])/4.\n",
    "            prev_diff = abs(newV - V[i][j])\n",
    "            # to find the maximum difference in each loop (going over all interior points).\n",
    "            V[i][j] = newV\n",
    "            if diff < prev_diff:    \n",
    "                diff = prev_diff\n",
    "\n",
    "            \n",
    "print V\n",
    "#plt.plot(x, V)\n",
    "#plt.show()\n",
    "\n",
    "\n",
    "fig = plt.figure()\n",
    "ax = fig.add_subplot(111, projection='3d')\n",
    "#x = y = np.linspace(-5, 5, 100)\n",
    "xv, yv = np.meshgrid(x,y) #Gives 2d plane of points\n",
    "#z = func(xv, yv)\n",
    "#ax.plot_wireframe(xv, yv, z, rstride=4, cstride=4, linewidth=1)\n",
    "ax.plot_surface(xv, yv, V, rstride =1, cstride =1, cmap=cm.coolwarm, linewidth=0)\n",
    "plt.show()\n"
   ]
  },
  {
   "cell_type": "markdown",
   "metadata": {},
   "source": [
    "## Connection between the \"2-for-loop\" way and the matrix way -- go to slides."
   ]
  },
  {
   "cell_type": "markdown",
   "metadata": {},
   "source": [
    "## Breakout Problem:\n",
    "\n",
    "### Write a function, jacobi_meth() that takes two positional argument A and b.  It should also take max_iter, tol, and x_guess as keyword argument.  Set the default values as such: max_iter = 100, tol = 1e-6, and the default value of x_guess should be a zero vector.   Finally inside each iteration, no loops allowed.\n",
    "\n",
    "### Apply this function to the Laplace Equation problem.\n",
    "\n",
    "### Using the answer we obtained before (for the system of algebraic equations) as the doctest."
   ]
  },
  {
   "cell_type": "markdown",
   "metadata": {
    "collapsed": false,
    "scrolled": true
   },
   "source": [
    "## Breakout Solution: See jacobi_meth.py"
   ]
  },
  {
   "cell_type": "markdown",
   "metadata": {},
   "source": [
    "## End of week 8-1"
   ]
  },
  {
   "cell_type": "code",
   "execution_count": 3,
   "metadata": {
    "collapsed": false
   },
   "outputs": [
    {
     "name": "stdout",
     "output_type": "stream",
     "text": [
      "Iteration 0:[[ 0.  0.  0.  0.]]\n"
     ]
    },
    {
     "ename": "AttributeError",
     "evalue": "'numpy.ndarray' object has no attribute 'I'",
     "output_type": "error",
     "traceback": [
      "\u001b[0;31m---------------------------------------------------------------------------\u001b[0m",
      "\u001b[0;31mAttributeError\u001b[0m                            Traceback (most recent call last)",
      "\u001b[0;32m<ipython-input-3-b54cc5462450>\u001b[0m in \u001b[0;36m<module>\u001b[0;34m()\u001b[0m\n\u001b[1;32m     38\u001b[0m \u001b[0;34m\u001b[0m\u001b[0m\n\u001b[1;32m     39\u001b[0m \u001b[0;34m\u001b[0m\u001b[0m\n\u001b[0;32m---> 40\u001b[0;31m \u001b[0mjacobi_meth\u001b[0m\u001b[0;34m(\u001b[0m\u001b[0mA\u001b[0m\u001b[0;34m,\u001b[0m \u001b[0mb\u001b[0m\u001b[0;34m)\u001b[0m\u001b[0;34m\u001b[0m\u001b[0m\n\u001b[0m",
      "\u001b[0;32m<ipython-input-3-b54cc5462450>\u001b[0m in \u001b[0;36mjacobi_meth\u001b[0;34m(A, b, max_iter, tol, x_guess)\u001b[0m\n\u001b[1;32m     24\u001b[0m         '''\n\u001b[1;32m     25\u001b[0m \u001b[0;34m\u001b[0m\u001b[0m\n\u001b[0;32m---> 26\u001b[0;31m         \u001b[0mx_new\u001b[0m \u001b[0;34m=\u001b[0m \u001b[0mD\u001b[0m\u001b[0;34m.\u001b[0m\u001b[0mI\u001b[0m\u001b[0;34m(\u001b[0m\u001b[0mb\u001b[0m\u001b[0;34m-\u001b[0m\u001b[0mnp\u001b[0m\u001b[0;34m.\u001b[0m\u001b[0mdot\u001b[0m\u001b[0;34m(\u001b[0m\u001b[0mR\u001b[0m\u001b[0;34m,\u001b[0m\u001b[0mx_guess\u001b[0m\u001b[0;34m)\u001b[0m\u001b[0;34m)\u001b[0m\u001b[0;34m\u001b[0m\u001b[0m\n\u001b[0m\u001b[1;32m     27\u001b[0m \u001b[0;34m\u001b[0m\u001b[0m\n\u001b[1;32m     28\u001b[0m         \u001b[0mcounter\u001b[0m \u001b[0;34m+=\u001b[0m \u001b[0;36m1\u001b[0m\u001b[0;34m\u001b[0m\u001b[0m\n",
      "\u001b[0;31mAttributeError\u001b[0m: 'numpy.ndarray' object has no attribute 'I'"
     ]
    }
   ],
   "source": [
    "import numpy as np\n",
    "A = np.matrix([[10., -1., 2., 0.],\n",
    "              [-1., 11., -1., 3.],\n",
    "              [2., -1., 10., -1.],\n",
    "              [0.0, 3., -1., 8.]])\n",
    "\n",
    "b = np.array([6., 25., -11., 15.])\n",
    "\n",
    "\n",
    "def jacobi_meth(A, b, max_iter = 100, tol = 1e-6, x_guess = np.zeros(b.shape)):\n",
    "    counter = 0\n",
    "    D = np.diag(A)\n",
    "    R = A - np.diagflat(D)\n",
    "    while counter < max_iter:\n",
    "        print \"Iteration {:d}:{}\".format(counter, x_guess)\n",
    "        # Just to create a numpy array that has the same dimension as x.\n",
    "        x_new = np.empty(x_guess.shape)\n",
    "        '''\n",
    "        for i in range(A.shape[0]):\n",
    "            # np.dot computes dot product\n",
    "\n",
    "            s = np.dot(R[i,], x_guess)\n",
    "            x_new[i] = (b[i] - s) / A[i, i]\n",
    "        '''\n",
    "        \n",
    "        x_new = D.I(b-np.dot(R,x_guess))\n",
    "        \n",
    "        counter += 1      \n",
    "        # Returns True if two arrays are element-wise equal within a tolerance.\n",
    "        if np.allclose(x_guess, x_new, rtol=tol):\n",
    "            print 'Tolerance achieved.  Printing results...'\n",
    "            break      \n",
    "        else:\n",
    "            if counter == max_iter:\n",
    "                raise Exception('max_iter exceeded!')\n",
    "\n",
    "        x_guess = x_new\n",
    "    \n",
    "\n",
    "jacobi_meth(A, b)"
   ]
  },
  {
   "cell_type": "code",
   "execution_count": 14,
   "metadata": {
    "collapsed": false
   },
   "outputs": [
    {
     "name": "stdout",
     "output_type": "stream",
     "text": [
      "[ 0.  0.  0.  0.]\n"
     ]
    }
   ],
   "source": [
    "b = np.array([6., 25., -11., 15.])\n",
    "x_guess = np.zeros(b.shape)\n",
    "print x_guess"
   ]
  }
 ],
 "metadata": {
  "kernelspec": {
   "display_name": "Python 2",
   "language": "python",
   "name": "python2"
  },
  "language_info": {
   "codemirror_mode": {
    "name": "ipython",
    "version": 2
   },
   "file_extension": ".py",
   "mimetype": "text/x-python",
   "name": "python",
   "nbconvert_exporter": "python",
   "pygments_lexer": "ipython2",
   "version": "2.7.9"
  }
 },
 "nbformat": 4,
 "nbformat_minor": 0
}
