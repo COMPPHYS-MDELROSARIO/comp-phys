{
 "metadata": {
  "name": "",
  "signature": "sha256:d123a3e80a8e8d58bbc6390eeca1d0e6537550d972e11fab0af2ab64c0c00bd2"
 },
 "nbformat": 3,
 "nbformat_minor": 0,
 "worksheets": [
  {
   "cells": [
    {
     "cell_type": "code",
     "collapsed": false,
     "input": [
      "from math import factorial \n",
      "from pprint import pprint\n",
      "\n",
      "def gamma_factorial(t):\n",
      "    if t >= 1:\n",
      "        fact = factorial(t - 1)\n",
      "    return fact\n",
      "\n",
      "pprint(gamma_factorial)\n",
      "        "
     ],
     "language": "python",
     "metadata": {},
     "outputs": []
    }
   ],
   "metadata": {}
  }
 ]
}