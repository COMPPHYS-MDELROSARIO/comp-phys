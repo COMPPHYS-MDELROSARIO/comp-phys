{
 "metadata": {
  "name": "",
  "signature": "sha256:3aa5428a5ecea40b3d714e05a22a9d0c8311d206889807cf47501c8dc9b9f0bc"
 },
 "nbformat": 3,
 "nbformat_minor": 0,
 "worksheets": [
  {
   "cells": [
    {
     "cell_type": "code",
     "collapsed": false,
     "input": [
      "from pprint import pprint\n",
      "\n",
      "#Name, Distance, Apparent Brightness, Absolute Brightness\n",
      "data = [\n",
      "('Alpha Centauri A',    4.3, 0.26,     1.56),\n",
      "('Alpha Centauri B',    4.3, 0.077,    0.45),\n",
      "('Alpha Centauri C',    4.2, 0.00001,  0.00006),\n",
      "(\"Barnard's Star\",      6.0, 0.00004,  0.0005),\n",
      "('Wolf 359',            7.7, 0.000001, 0.00002),\n",
      "('BD +36 degrees 2147', 8.2, 0.003,    0.006),\n",
      "('Luyten 726-8 A',      8.4, 0.000003, 0.00006),\n",
      "('Luyten 726-8 B',      8.4, 0.000002, 0.00004),\n",
      "('Sirius A',            8.6, 1.00,     23.6),\n",
      "('Sirius B',            8.6, 0.001,    0.003),\n",
      "('Ross 154',            9.4, 0.0002,   0.0005),\n",
      "]\n",
      "\n",
      "x = 0\n",
      "y = 1\n",
      "dist_sort = []\n",
      "app_sort = []\n",
      "abs_sort = []\n",
      "'''\n",
      "while x < len(newList)):\n",
      "    while y < len(newList[x])):\n",
      "        if y == 1:\n",
      "            \n",
      "        elif y == 2:\n",
      "        \n",
      "        else:\n",
      "        \n",
      "'''\n",
      "\n",
      "newList = sorted(data)\n",
      "pprint(newList)\n"
     ],
     "language": "python",
     "metadata": {},
     "outputs": [
      {
       "output_type": "stream",
       "stream": "stdout",
       "text": [
        "[('Alpha Centauri A', 4.3, 0.26, 1.56),\n",
        " ('Alpha Centauri B', 4.3, 0.077, 0.45),\n",
        " ('Alpha Centauri C', 4.2, 1e-05, 6e-05),\n",
        " ('BD +36 degrees 2147', 8.2, 0.003, 0.006),\n",
        " (\"Barnard's Star\", 6.0, 4e-05, 0.0005),\n",
        " ('Luyten 726-8 A', 8.4, 3e-06, 6e-05),\n",
        " ('Luyten 726-8 B', 8.4, 2e-06, 4e-05),\n",
        " ('Ross 154', 9.4, 0.0002, 0.0005),\n",
        " ('Sirius A', 8.6, 1.0, 23.6),\n",
        " ('Sirius B', 8.6, 0.001, 0.003),\n",
        " ('Wolf 359', 7.7, 1e-06, 2e-05)]\n"
       ]
      }
     ],
     "prompt_number": 21
    }
   ],
   "metadata": {}
  }
 ]
}