{
 "metadata": {
  "name": "",
  "signature": "sha256:3d04abaaf6a76410b55c4e8f3d10d091365a75acc1a1295ce4295f7f6d987744"
 },
 "nbformat": 3,
 "nbformat_minor": 0,
 "worksheets": [
  {
   "cells": [
    {
     "cell_type": "raw",
     "metadata": {},
     "source": [
      "1. Dictionaries"
     ]
    },
    {
     "cell_type": "raw",
     "metadata": {},
     "source": [
      "2. Class"
     ]
    },
    {
     "cell_type": "code",
     "collapsed": false,
     "input": [
      "temps_lst = [45., 50., 54., 60.]                   #  list\n",
      "temps_dict = {0:45., 1:50., 2:54., 3:60.}          #  dictionary: key-value pairs; \n",
      "## Notice the usage of curly brackets:  {}"
     ],
     "language": "python",
     "metadata": {},
     "outputs": [],
     "prompt_number": 1
    },
    {
     "cell_type": "code",
     "collapsed": false,
     "input": [
      "print type(temps_lst), type(temps_dict)\n",
      "print temps_lst[0], temps_dict[0]   # a key acts as an index"
     ],
     "language": "python",
     "metadata": {},
     "outputs": [
      {
       "output_type": "stream",
       "stream": "stdout",
       "text": [
        "<type 'list'> <type 'dict'>\n",
        "45.0 45.0\n"
       ]
      }
     ],
     "prompt_number": 2
    },
    {
     "cell_type": "code",
     "collapsed": false,
     "input": [
      "'''\n",
      "So, in a sense, a list is a dictionary with implied keys being 0-indexed integers.\n",
      "Dictionaries are much, much more flexible:\n",
      "One can use any kind of number or text as the keys.\n",
      "'''"
     ],
     "language": "python",
     "metadata": {},
     "outputs": []
    },
    {
     "cell_type": "code",
     "collapsed": false,
     "input": [
      "temps_dict = {'Seattle':45., 'Portland':50., 'San Francisco':54., 'Los Angeles':60.}"
     ],
     "language": "python",
     "metadata": {},
     "outputs": [],
     "prompt_number": 3
    },
    {
     "cell_type": "code",
     "collapsed": false,
     "input": [
      "print temps_dict['Portland']"
     ],
     "language": "python",
     "metadata": {},
     "outputs": [
      {
       "output_type": "stream",
       "stream": "stdout",
       "text": [
        "50.0\n"
       ]
      }
     ],
     "prompt_number": 4
    },
    {
     "cell_type": "code",
     "collapsed": false,
     "input": [
      "print 'Dictionary:'\n",
      "for city in temps_dict:      #note: my order may be different from yours\n",
      "                             # dictionary is inherently orderless.\n",
      "    print temps_dict[city]    \n",
      "# This does the same as \n",
      "print 'List:'\n",
      "for i in range(len(temps_lst)):\n",
      "    print temps_lst[i]"
     ],
     "language": "python",
     "metadata": {},
     "outputs": [
      {
       "output_type": "stream",
       "stream": "stdout",
       "text": [
        "Dictionary:\n",
        "54.0\n",
        "50.0\n",
        "45.0\n",
        "60.0\n",
        "List:\n",
        "45.0\n",
        "50.0\n",
        "54.0\n",
        "60.0\n"
       ]
      }
     ],
     "prompt_number": 5
    },
    {
     "cell_type": "code",
     "collapsed": false,
     "input": [
      "temps_sorted = sorted(temps_dict)   # the keys are sorted.\n",
      "print temps_sorted                  # no longer a dictionary!  A dictionary is inherently orderless."
     ],
     "language": "python",
     "metadata": {},
     "outputs": [
      {
       "output_type": "stream",
       "stream": "stdout",
       "text": [
        "['Los Angeles', 'Portland', 'San Francisco', 'Seattle']\n"
       ]
      }
     ],
     "prompt_number": 6
    },
    {
     "cell_type": "code",
     "collapsed": false,
     "input": [
      "for city in sorted(temps_dict):\n",
      "    print city, temps_dict[city]  "
     ],
     "language": "python",
     "metadata": {},
     "outputs": [
      {
       "output_type": "stream",
       "stream": "stdout",
       "text": [
        "Los Angeles 60.0\n",
        "Portland 50.0\n",
        "San Francisco 54.0\n",
        "Seattle 45.0\n"
       ]
      }
     ],
     "prompt_number": 7
    },
    {
     "cell_type": "code",
     "collapsed": false,
     "input": [
      "#Adding a key-value pair:\n",
      "temps_dict['San Diego'] = 63.0\n",
      "print temps_dict"
     ],
     "language": "python",
     "metadata": {},
     "outputs": [
      {
       "output_type": "stream",
       "stream": "stdout",
       "text": [
        "{'San Francisco': 54.0, 'Portland': 50.0, 'Seattle': 45.0, 'San Diego': 63.0, 'Los Angeles': 60.0}\n"
       ]
      }
     ],
     "prompt_number": 8
    },
    {
     "cell_type": "code",
     "collapsed": false,
     "input": [
      "#Removing a key-value pair\n",
      "del temps_dict['Seattle']\n",
      "temps_dict"
     ],
     "language": "python",
     "metadata": {},
     "outputs": [
      {
       "metadata": {},
       "output_type": "pyout",
       "prompt_number": 9,
       "text": [
        "{'Los Angeles': 60.0,\n",
        " 'Portland': 50.0,\n",
        " 'San Diego': 63.0,\n",
        " 'San Francisco': 54.0}"
       ]
      }
     ],
     "prompt_number": 9
    },
    {
     "cell_type": "code",
     "collapsed": false,
     "input": [
      "#Extracting the keys and values as lists\n",
      "cities = temps_dict.keys()\n",
      "temps = temps_dict.values()\n",
      "print cities, type(cities)\n",
      "print temps, type(temps)"
     ],
     "language": "python",
     "metadata": {},
     "outputs": [
      {
       "output_type": "stream",
       "stream": "stdout",
       "text": [
        "['San Francisco', 'Portland', 'San Diego', 'Los Angeles'] <type 'list'>\n",
        "[54.0, 50.0, 63.0, 60.0] <type 'list'>\n"
       ]
      }
     ],
     "prompt_number": 10
    },
    {
     "cell_type": "code",
     "collapsed": false,
     "input": [
      "# Copy vs. \"is\"\n",
      "temps_dict2 = temps_dict\n",
      "temps_dict_copy = temps_dict.copy()   # a dictionary has the method .copy()\n",
      "                                      # analogous to lst_copy = copy.copy(lst) for a list.\n",
      "temps_dict['San Diego'] = 100.0\n",
      "print temps_dict2 is temps_dict, temps_dict_copy is temps_dict"
     ],
     "language": "python",
     "metadata": {},
     "outputs": [
      {
       "output_type": "stream",
       "stream": "stdout",
       "text": [
        "True False\n"
       ]
      }
     ],
     "prompt_number": 11
    },
    {
     "cell_type": "code",
     "collapsed": false,
     "input": [
      "import copy\n",
      "lst = [1,2]\n",
      "lst_copy = copy.copy(lst)\n",
      "lst2 = lst\n",
      "print lst is lst2, lst_copy is lst"
     ],
     "language": "python",
     "metadata": {},
     "outputs": [
      {
       "output_type": "stream",
       "stream": "stdout",
       "text": [
        "True False\n"
       ]
      }
     ],
     "prompt_number": 12
    },
    {
     "cell_type": "code",
     "collapsed": false,
     "input": [
      "temps_dict['Santa Barbara'] = 58.\n",
      "print temps_dict\n",
      "print temps_dict2\n",
      "print temps_dict_copy"
     ],
     "language": "python",
     "metadata": {},
     "outputs": [
      {
       "output_type": "stream",
       "stream": "stdout",
       "text": [
        "{'San Diego': 100.0, 'Los Angeles': 60.0, 'San Francisco': 54.0, 'Portland': 50.0, 'Santa Barbara': 58.0}\n",
        "{'San Diego': 100.0, 'Los Angeles': 60.0, 'San Francisco': 54.0, 'Portland': 50.0, 'Santa Barbara': 58.0}\n",
        "{'San Francisco': 54.0, 'Portland': 50.0, 'San Diego': 63.0, 'Los Angeles': 60.0}\n"
       ]
      }
     ],
     "prompt_number": 13
    },
    {
     "cell_type": "code",
     "collapsed": false,
     "input": [
      "#How to iterate through a dictionary"
     ],
     "language": "python",
     "metadata": {},
     "outputs": []
    },
    {
     "cell_type": "code",
     "collapsed": false,
     "input": [
      "'''Approach 1'''\n",
      "for key in temps_dict:\n",
      "    print key, temps_dict[key]"
     ],
     "language": "python",
     "metadata": {},
     "outputs": [
      {
       "output_type": "stream",
       "stream": "stdout",
       "text": [
        "San Diego 100.0\n",
        "Los Angeles 60.0\n",
        "San Francisco 54.0\n",
        "Portland 50.0\n",
        "Santa Barbara 58.0\n"
       ]
      }
     ],
     "prompt_number": 14
    },
    {
     "cell_type": "code",
     "collapsed": false,
     "input": [
      "'''Approach 2'''\n",
      "# Note the result of hitting tab after the dot -- all methods are shown!\n",
      "for key, value in temps_dict.items():\n",
      "    print key, value"
     ],
     "language": "python",
     "metadata": {},
     "outputs": [
      {
       "output_type": "stream",
       "stream": "stdout",
       "text": [
        "San Diego 100.0\n",
        "Los Angeles 60.0\n",
        "San Francisco 54.0\n",
        "Portland 50.0\n",
        "Santa Barbara 58.0\n"
       ]
      }
     ],
     "prompt_number": 15
    },
    {
     "cell_type": "code",
     "collapsed": false,
     "input": [
      "'''Approach 3'''\n",
      "# Note the result of hitting tab after the dot -- all methods are shown!\n",
      "for key in temps_dict.keys():\n",
      "    print key, temps_dict[key]"
     ],
     "language": "python",
     "metadata": {},
     "outputs": [
      {
       "output_type": "stream",
       "stream": "stdout",
       "text": [
        "San Diego 100.0\n",
        "Los Angeles 60.0\n",
        "San Francisco 54.0\n",
        "Portland 50.0\n",
        "Santa Barbara 58.0\n"
       ]
      }
     ],
     "prompt_number": 16
    },
    {
     "cell_type": "code",
     "collapsed": false,
     "input": [
      "'''Approach 4'''\n",
      "# Note the result of hitting tab after the dot -- all methods are shown!\n",
      "for key, value in zip(temps_dict.keys(), temps_dict.values()):\n",
      "    print key, value\n",
      "## It's a very explicity approach -- so it will help you understand how python does things.\n",
      "## But it's not elegant -- it accomplishs the same as Approach 2, but is much lengthier."
     ],
     "language": "python",
     "metadata": {},
     "outputs": [
      {
       "output_type": "stream",
       "stream": "stdout",
       "text": [
        "San Diego 100.0\n",
        "Los Angeles 60.0\n",
        "San Francisco 54.0\n",
        "Portland 50.0\n",
        "Santa Barbara 58.0\n"
       ]
      }
     ],
     "prompt_number": 17
    },
    {
     "cell_type": "code",
     "collapsed": false,
     "input": [
      "'''\n",
      "Example of Using Dictionaries: Computing the value of a polynomial\n",
      "a*x^-3 + b + c*x^2 + d*x^5\n",
      "'''\n",
      "coeffs = {-3:5.5, 0: 2.3, 2: 7.1, 5: 0.2}  ## key:value -- power:coeff\n",
      "def polynom(coeffs, x):\n",
      "    total = 0.\n",
      "    # pwr is the key, and coeff is the value\n",
      "    for pwr in coeffs:\n",
      "        total += coeffs[pwr]*x**pwr\n",
      "    return total\n",
      "print polynom(coeffs, 2.0)"
     ],
     "language": "python",
     "metadata": {},
     "outputs": [
      {
       "output_type": "stream",
       "stream": "stdout",
       "text": [
        "37.7875\n"
       ]
      }
     ],
     "prompt_number": 18
    },
    {
     "cell_type": "code",
     "collapsed": false,
     "input": [
      "'''Combining Dictionary with Numpy Array'''\n",
      "coeffs = {-3:5.5, 0: 2.3, 2: 7.1, 5: 0.2}  ## key-value: power-coeff\n",
      "import numpy as np\n",
      "x = np.linspace(1., 2., 5)\n",
      "print 'x: {:.3f}, {:.3f}, {:.3f}'.format(*x)\n",
      "print 'a*x^-3 + b + c*x^2 + d*x^5: {:.3f}, {:.3f}, {:.3f}'.format(*polynom(coeffs, x))"
     ],
     "language": "python",
     "metadata": {},
     "outputs": [
      {
       "output_type": "stream",
       "stream": "stdout",
       "text": [
        "x: 1.000, 1.250, 1.500\n",
        "a*x^-3 + b + c*x^2 + d*x^5: 15.100, 16.820, 21.423\n"
       ]
      }
     ],
     "prompt_number": 19
    },
    {
     "cell_type": "raw",
     "metadata": {},
     "source": [
      "\n",
      "Breakout Problem: Find the values (y) of the following cosine series for 100 values between x = 0 and pi:\n",
      "y = 0.5 + 0.2cos(\u03c0x/2.) + 0.15cos(2\u03c0x/2.) + 0.1cos(4\u03c0x/2.) + 0.05cos(8\u03c0x/2.)\n",
      "Plot y vs. x as an inline plot"
     ]
    },
    {
     "cell_type": "raw",
     "metadata": {},
     "source": [
      "Class"
     ]
    },
    {
     "cell_type": "code",
     "collapsed": false,
     "input": [
      "%matplotlib inline\n",
      "import matplotlib.pyplot as plt\n",
      "import numpy as np\n",
      "from matplotlib import cm #color map\n",
      "coeffs = {0:0.5, 0.5:0.2, 1:0.15, 2:0.1, 4:0.05}\n",
      "x = np.linspace(0, np.pi, 100)\n",
      "\n",
      "def polynom(coeffs, x):\n",
      "    total = 0.\n",
      "    # pwr is the key, and coeff is the value\n",
      "    for n in coeffs:\n",
      "        total += coeffs[n]*(np.cos(n*np.pi*x))\n",
      "    return total\n",
      "\n",
      "y = polynom(coeffs, x)\n",
      "\n",
      "plt.xlabel('X')\n",
      "plt.ylabel('Y')\n",
      "plt.title('Cosine Series')\n",
      "plt.plot(x,y, '-', lw=2) #'-' is used to indicate a line with default\n",
      "plt.show()"
     ],
     "language": "python",
     "metadata": {},
     "outputs": [
      {
       "metadata": {},
       "output_type": "display_data",
       "png": "[encoded data removed]",
       "text": [
        "<matplotlib.figure.Figure at 0x6e02ed0>"
       ]
      }
     ],
     "prompt_number": 30
    },
    {
     "cell_type": "code",
     "collapsed": false,
     "input": [
      "'''\n",
      "A class of rocket that has a certain initial velocity v0. \n",
      "'''\n",
      "\n",
      "class Y:\n",
      "    def __init__(self, v0):\n",
      "        self.v0 = v0     # a variable parameter: can be changed programmatically.\n",
      "        self.g = 9.81    # a constant parameter: cannot be changed programmatically, but only by hand.\n",
      "    \n",
      "    def value(self, t):\n",
      "        return self.v0*t - 0.5*self.g*t**2\n",
      "    \n",
      "# Now we can create an instance of the class Y:\n",
      "y = Y(10)    # y --> self, 3 --> v0\n",
      "print y.value(2.)"
     ],
     "language": "python",
     "metadata": {},
     "outputs": []
    },
    {
     "cell_type": "code",
     "collapsed": false,
     "input": [
      "'''To make code more readable and therefore easier to modify and debug.\n",
      "Unlike functions, an instance of a class is \"introspective\".\n",
      "\n",
      "'''\n",
      "class Y:\n",
      "# The \"Constructor\"\n",
      "# It is a good habit always to have a constructor in a class and to initialize class attributes\n",
      "    def __init__(self, v0):\n",
      "        self.v0 = v0     # a variable parameter: can be changed programmatically.\n",
      "        self.g = 9.81    # a constant parameter: cannot be changed programmatically, but only by hand.\n",
      "\n",
      "# .v0 and .g are called attributes.  \n",
      "# They are basically assignment statements that initialized varaibles or constant.\n",
      "\n",
      "    def value(self, t):\n",
      "        return self.v0*t - 0.5*self.g*t**2\n",
      "    def formula(self):\n",
      "        return 'v0*t - 0.5*g*t**2; parameters: v0 = {:g}, g = {:g} (constant).'.format(self.v0, self.g)\n",
      "\n",
      "# .value and .formula are called methods\n",
      "# They are like functions: they do \"stuff\" and return outputs\n",
      "# -- here they return either the result of a calculation or a string.\n",
      " \n",
      "y = Y(10.)\n",
      "t = 2.\n",
      "h = y.value(t)\n",
      "print 'h(t = {:g}; v0 = {:g}) = {:g}'.format(t, y.v0, h)\n",
      "print 'Formula:', y.formula()\n",
      "print 'Initial velocity', y.v0\n",
      "print \"Gravity\", y.g"
     ],
     "language": "python",
     "metadata": {},
     "outputs": [
      {
       "output_type": "stream",
       "stream": "stdout",
       "text": [
        "h(t = 2; v0 = 10) = 0.38\n",
        "Formula: v0*t - 0.5*g*t**2; parameters: v0 = 10, g = 9.81 (constant).\n",
        "Initial velocity 10.0\n",
        "Gravity 9.81\n"
       ]
      }
     ],
     "prompt_number": 31
    },
    {
     "cell_type": "code",
     "collapsed": false,
     "input": [
      "'''\n",
      "Keyword arguments for class.\n",
      "\n",
      "'''\n",
      "class Y:\n",
      "    def __init__(self, g = 9.81, v0 = 10.):\n",
      "        self.g = g    \n",
      "        self.v0 = v0\n",
      "            \n",
      "    def value(self, t):\n",
      "        return self.v0*t - 0.5*self.g*t**2\n",
      "    def formula(self):\n",
      "        return 'v0*t - 0.5*g*t**2; parameters: v0 = {:g}, g = {:g} (constant).'.format(self.v0, self.g)\n",
      "\n",
      "#y = Y() \n",
      "# or \n",
      "y = Y(g = 9.81/6, v0 = 10)\n",
      "\n",
      "t = 2.\n",
      "h = y.value(t)\n",
      "print 'h(t = {:g}; v0 = {:g}) = {:g}'.format(t, y.v0, h)\n",
      "print 'Formula:', y.formula()\n",
      "print 'Initial velocity', y.v0\n",
      "print \"Gravity\", y.g"
     ],
     "language": "python",
     "metadata": {},
     "outputs": [
      {
       "output_type": "stream",
       "stream": "stdout",
       "text": [
        "h(t = 2; v0 = 10) = 16.73\n",
        "Formula: v0*t - 0.5*g*t**2; parameters: v0 = 10, g = 1.635 (constant).\n",
        "Initial velocity 10\n",
        "Gravity 1.635\n"
       ]
      }
     ],
     "prompt_number": 33
    },
    {
     "cell_type": "code",
     "collapsed": false,
     "input": [
      "'''Can think of the definition of the attributes as the definition of a dictionary:\n",
      "{'v0':v0, 'g':9.81}\n",
      "in fact every class instance has a dictionary: __dict__\n",
      "'''\n",
      "y = Y()   ### here v0 has been assigned the value 2.0.\n",
      "print y.__dict__"
     ],
     "language": "python",
     "metadata": {},
     "outputs": [
      {
       "output_type": "stream",
       "stream": "stdout",
       "text": [
        "{'v0': 10.0, 'g': 9.81}\n"
       ]
      }
     ],
     "prompt_number": 34
    },
    {
     "cell_type": "code",
     "collapsed": false,
     "input": [
      "#Short Breakout\n",
      "\n",
      "class Y:\n",
      "    def __init__(self, g = 9.81, v0 = 10.):\n",
      "        self.g = g    \n",
      "        self.v0 = v0\n",
      "            \n",
      "    def value(self, t):\n",
      "        return self.v0*t - 0.5*self.g*t**2\n",
      "    def formula(self):\n",
      "        return 'v0*t - 0.5*g*t**2; parameters: v0 = {:g}, g = {:g} (constant).'.format(self.v0, self.g)\n",
      "    \n",
      "\n",
      "#y = Y() \n",
      "# or \n",
      "y = Y(g = 9.81/6, v0 = 10)\n",
      "\n",
      "t = 2.\n",
      "h = y.value(t)\n",
      "print 'h(t = {:g}; v0 = {:g}) = {:g}'.format(t, y.v0, h)\n",
      "print 'Formula:', y.formula()\n",
      "print 'Initial velocity', y.v0\n",
      "print \"Gravity\", y.g"
     ],
     "language": "python",
     "metadata": {},
     "outputs": []
    },
    {
     "cell_type": "code",
     "collapsed": false,
     "input": [
      "'''\n",
      "Another example:\n",
      "'''\n",
      "\n",
      "class BankAccount:\n",
      "    def __init__(self, name, account_number, initial_amount):\n",
      "        # This will be printed at the time of the creation an instance of this class.\n",
      "        # Because method __init__ get called immediately (and implicitly).\n",
      "        print 'A bank account is created: {:s}'.format(name)\n",
      "        \n",
      "        self.name = name\n",
      "        self.no = account_number\n",
      "        self.balance = initial_amount  # the attribute balance is initialized\n",
      "                                       # and changes depending on whether a deposit or\n",
      "                                       # withdraw is made.\n",
      "    \n",
      "    def deposit(self, amount):\n",
      "        self.balance += amount\n",
      "        return   # return is optional when there is nothing to return, just as for a function\n",
      "    \n",
      "    def withdraw(self, amount):\n",
      "        self.balance -= amount\n",
      "        \n",
      "    def dump(self):\n",
      "        s = '{:s} {:s}, balance: {:g}'.format(self.name, self.no, self.balance)\n",
      "        print s"
     ],
     "language": "python",
     "metadata": {},
     "outputs": [],
     "prompt_number": 36
    },
    {
     "cell_type": "code",
     "collapsed": false,
     "input": [
      "b1 = BankAccount('Fernando Perez', '11112222', 100000)\n",
      "b2 = BankAccount('Guido van Rossum', '22223333', 200000)\n",
      "b1.deposit(1500)\n",
      "print b1.balance\n",
      "b1.dump()"
     ],
     "language": "python",
     "metadata": {},
     "outputs": [
      {
       "output_type": "stream",
       "stream": "stdout",
       "text": [
        "A bank account is created: Fernando Perez\n",
        "A bank account is created: Guido van Rossum\n",
        "101500\n",
        "Fernando Perez 11112222, balance: 101500\n"
       ]
      }
     ],
     "prompt_number": 37
    },
    {
     "cell_type": "raw",
     "metadata": {},
     "source": [
      "From this example, I hope you can see the utility of defining classes: you now can apply the same structure (the attributes \"data\" and the methods) to many people."
     ]
    },
    {
     "cell_type": "code",
     "collapsed": false,
     "input": [
      "'''\n",
      "if you want to change the identity of a1, \n",
      "you can certainly do a1 = AmazonAccount('New Name', 'New Number', new_initial_points)\n",
      "But you can also do this:\n",
      "'''\n",
      "\n",
      "b1.__init__('Bugs Bunny', '123', 200)\n",
      "b1.name"
     ],
     "language": "python",
     "metadata": {},
     "outputs": [
      {
       "output_type": "stream",
       "stream": "stdout",
       "text": [
        "A bank account is created: Bugs Bunny\n"
       ]
      },
      {
       "metadata": {},
       "output_type": "pyout",
       "prompt_number": 38,
       "text": [
        "'Bugs Bunny'"
       ]
      }
     ],
     "prompt_number": 38
    },
    {
     "cell_type": "code",
     "collapsed": false,
     "input": [
      "# In other words, when you do \n",
      "a1 = AmazonAccount('Bugs Bunny', '123', 200)\n",
      "# you are implicitly calling the method __init__."
     ],
     "language": "python",
     "metadata": {},
     "outputs": [
      {
       "ename": "NameError",
       "evalue": "name 'AmazonAccount' is not defined",
       "output_type": "pyerr",
       "traceback": [
        "\u001b[0;31m---------------------------------------------------------------------------\u001b[0m\n\u001b[0;31mNameError\u001b[0m                                 Traceback (most recent call last)",
        "\u001b[0;32m<ipython-input-39-2b04edc2edf9>\u001b[0m in \u001b[0;36m<module>\u001b[0;34m()\u001b[0m\n\u001b[1;32m      1\u001b[0m \u001b[0;31m# In other words, when you do\u001b[0m\u001b[0;34m\u001b[0m\u001b[0;34m\u001b[0m\u001b[0m\n\u001b[0;32m----> 2\u001b[0;31m \u001b[0ma1\u001b[0m \u001b[0;34m=\u001b[0m \u001b[0mAmazonAccount\u001b[0m\u001b[0;34m(\u001b[0m\u001b[0;34m'Bugs Bunny'\u001b[0m\u001b[0;34m,\u001b[0m \u001b[0;34m'123'\u001b[0m\u001b[0;34m,\u001b[0m \u001b[0;36m200\u001b[0m\u001b[0;34m)\u001b[0m\u001b[0;34m\u001b[0m\u001b[0m\n\u001b[0m\u001b[1;32m      3\u001b[0m \u001b[0;31m# you are implicitly calling the method __init__.\u001b[0m\u001b[0;34m\u001b[0m\u001b[0;34m\u001b[0m\u001b[0m\n",
        "\u001b[0;31mNameError\u001b[0m: name 'AmazonAccount' is not defined"
       ]
      }
     ],
     "prompt_number": 39
    },
    {
     "cell_type": "raw",
     "metadata": {},
     "source": [
      "\n",
      "Breakout Problem: Create a class Turtle that\n",
      "has attributes: name and weight.\n",
      "when an instance of this class is created, immediately announce to the world its creation by printing a statement in a way that you want.\n",
      "has methods:\n",
      "  i) eat -- you can specify the amount that will be added to its weight.\n",
      "    ii) hibernate -- an object that is an instance of this class will lose 10% \n",
      "           of its weight every time this method is called."
     ]
    },
    {
     "cell_type": "code",
     "collapsed": false,
     "input": [
      "class turtle:\n",
      "    def __init__(self, name, initial_weight):\n",
      "        print 'A turtle has been summoned: {:s}'.format(name)\n",
      "        \n",
      "        self.name = name\n",
      "        self.weight = initial_weight\n",
      "        \n",
      "    def eat(self, food):\n",
      "        self.weight += food\n",
      "        return self.weight    # return is optional when there is nothing to return, just as for a function\n",
      "    \n",
      "    def hibernate(self):\n",
      "        self.weight -= self.weight * 0.1\n",
      "        return self.weight\n",
      "        \n",
      "t1 = turtle('Squirtle', 15)\n",
      "print t1.eat(10)\n",
      "print t1.hibernate()"
     ],
     "language": "python",
     "metadata": {},
     "outputs": [
      {
       "output_type": "stream",
       "stream": "stdout",
       "text": [
        "A turtle has been summoned: Squirtle\n",
        "25\n",
        "22.5\n"
       ]
      }
     ],
     "prompt_number": 49
    },
    {
     "cell_type": "code",
     "collapsed": false,
     "input": [
      "isinstiance(2, int)"
     ],
     "language": "python",
     "metadata": {},
     "outputs": []
    },
    {
     "cell_type": "code",
     "collapsed": false,
     "input": [
      "# can delete an existing instance of a class:\n",
      "#if isinstance(t, Turtle):\n",
      "#    del t\n",
      "t = Turtle('Crush', 150)  \n",
      "\n",
      "# From Finding Nemo, but actually sea turtles generally don't hibernate.\n",
      "# Oh well!"
     ],
     "language": "python",
     "metadata": {},
     "outputs": []
    },
    {
     "cell_type": "code",
     "collapsed": false,
     "input": [
      "t.eat(5)\n",
      "t.weight"
     ],
     "language": "python",
     "metadata": {},
     "outputs": []
    },
    {
     "cell_type": "code",
     "collapsed": false,
     "input": [
      "# can use tab completion\n",
      "t.hibernate()\n",
      "t.weight"
     ],
     "language": "python",
     "metadata": {},
     "outputs": []
    },
    {
     "cell_type": "raw",
     "metadata": {},
     "source": [
      "\n",
      "Special Methods\n",
      "__init__ is called a special method.\n",
      "All methods that start and end with __ are special methods.\n",
      "Their invocation is implicity.\n",
      "Here's another example of a special: the method __call__"
     ]
    },
    {
     "cell_type": "code",
     "collapsed": false,
     "input": [
      "class Y:\n",
      "    def __init__(self, v0, g = 9.81):   \n",
      "        self.v0 = v0     \n",
      "        self.g = g    \n",
      "        \n",
      "    def value(self, t):\n",
      "        v0, g = self.v0, self.g   # if you want...\n",
      "        return v0*t - 0.5*g*t**2\n",
      "\n",
      "    def formula(self):\n",
      "        return 'h = v0*t - 0.5*g*t**2; parameters: v0 = {:g}, g = {:g} (constant).'.format(self.v0, self.g)\n",
      "\n",
      " \n",
      "y = Y(10.)\n",
      "t = 2.\n",
      "h = y.value(t)\n",
      "print 'h(t = {:g}; v0 = {:g}) = {:g}'.format(t, y.v0, h)\n",
      "print callable(y)\n"
     ],
     "language": "python",
     "metadata": {},
     "outputs": []
    },
    {
     "cell_type": "code",
     "collapsed": false,
     "input": [
      "class Y:\n",
      "    def __init__(self, v0, g = 9.81):   \n",
      "        self.v0 = v0     \n",
      "        self.g = g    \n",
      "        \n",
      "    def value(self, t):\n",
      "        v0, g = self.v0, self.g   # if you want...\n",
      "        return v0*t - 0.5*g*t**2\n",
      "\n",
      "    def __call__(self, t):\n",
      "        return self.v0*t - 0.5*self.g*t**2\n",
      "\n",
      "    def formula(self):\n",
      "        return 'h = v0*t - 0.5*g*t**2; parameters: v0 = {:g}, g = {:g} (constant).'.format(self.v0, self.g)\n",
      "\n",
      " \n",
      "\n",
      "y = Y(10)\n",
      "t = 2.\n",
      "h = y(t)\n",
      "print 'h(t = {:g}; v0 = {:g}) = {:g}'.format(t, y.v0, h)\n",
      "print type(y)\n",
      "print callable(y)"
     ],
     "language": "python",
     "metadata": {},
     "outputs": []
    },
    {
     "cell_type": "code",
     "collapsed": false,
     "input": [
      "'''\n",
      "When you do h = y(t), you are implicitly invoking the method __call__;\n",
      "i.e., it's the same as h = y.__call__(t):\n",
      "'''\n",
      "\n",
      "y = Y(10)\n",
      "t = 2.\n",
      "h = y(t)\n",
      "print h\n",
      "h2 = y.__call__(t)\n",
      "print h2"
     ],
     "language": "python",
     "metadata": {},
     "outputs": []
    },
    {
     "cell_type": "raw",
     "metadata": {},
     "source": [
      "\n",
      "The difference between a regular method and .__call__() is that .value() is not a special method and has to be called explicitly whereas .__call__() is a special method and can be invoked implicitly.\n",
      "This implicitity makes the code more elegant, and very importantly, more readable."
     ]
    },
    {
     "cell_type": "code",
     "collapsed": false,
     "input": [
      "'''Using functions and classes together'''\n",
      "\n",
      "def vert_dist(g, v0, t):\n",
      "    return v0*t - 0.5*g*t**2\n",
      "\n",
      "class Y:\n",
      "    def __init__(self, v0, g = 9.81):   # The \"Constructor\"\n",
      "        self.v0 = v0     # a variable parameter: can be changed programmatically.\n",
      "        self.g = g    # a constant parameter: cannot be changed programmatically, but only by hand.\n",
      "\n",
      "    def value(self, t):\n",
      "        v0, g = self.v0, self.g   # if you want...\n",
      "        return vert_dist(g, v0, t)\n",
      "\n",
      "    def __call__(self, t):\n",
      "        v0, g = self.v0, self.g   \n",
      "        return vert_dist(g, v0, t)\n",
      "\n",
      "    def formula(self):\n",
      "        return 'h = v0*t - 0.5*g*t**2; parameters: v0 = {:g}, g = {:g} (constant).'.format(self.v0, self.g)\n",
      "\n",
      "y = Y(10)\n",
      "t = 2.\n",
      "h = y(t)\n",
      "print 'h(t = {:g}; v0 = {:g}) = {:g}'.format(t, y.v0, h)\n",
      "print type(y)\n",
      "print callable(y)"
     ],
     "language": "python",
     "metadata": {},
     "outputs": []
    },
    {
     "cell_type": "raw",
     "metadata": {},
     "source": [
      "One way to think of the above cell considered as a python program:\n",
      "At the heart of the program (or more accurately, the \"brain\" of the program) is the function vert_dist()\n",
      "The class Y is a \"wrapper\" around that function. The idea of a wrapper is very important in python. It provides \"bells and whistles\" to an otherwise barebone function:\n",
      "a) It provides nice peripherals/introspection to the barebone function, e.g., one can do\n",
      ">>> y.formula\n",
      "b) It provides different ways of calling the function and making it more versatile. E.g., as written vert_dist() doesn't work with diff(). But using the class Y, this can be done easily:\n"
     ]
    },
    {
     "cell_type": "code",
     "collapsed": false,
     "input": [
      "diff = lambda f, x, h = 1e-10:(f(x+h) - f(x-h))/(2*h)\n",
      "\n",
      "diff(y.value, 0.1)"
     ],
     "language": "python",
     "metadata": {},
     "outputs": []
    },
    {
     "cell_type": "code",
     "collapsed": false,
     "input": [
      "#Since we defined the method __call__, it can be done with better visual:\n",
      "diff = lambda f, x, h = 1e-10:(f(x+h) - f(x-h))/(2*h)\n",
      "\n",
      "diff(y, 0.1)"
     ],
     "language": "python",
     "metadata": {},
     "outputs": []
    },
    {
     "cell_type": "code",
     "collapsed": false,
     "input": [
      "#To this with a barebone function, you need to define it this way:\n",
      "def vert_dist_rigid(t):\n",
      "    v0 = 10.\n",
      "    g = 9.81\n",
      "    return v0*t - 0.5*g*t**2\n",
      "diff(vert_dist_rigid, 0.1)\n",
      "# But then you cannot change v0 and g programmatically; you have to do it \"by hand\".  \n",
      "# -- not elegant, nor convenient!"
     ],
     "language": "python",
     "metadata": {},
     "outputs": []
    },
    {
     "cell_type": "code",
     "collapsed": false,
     "input": [
      "''' \n",
      "One more special method: __str__\n",
      "If __str__ is not defined\n",
      ">>> print y\n",
      "gives \n",
      "\n",
      "<__main__.Y instance at 0x4fbee68>\n",
      "\n",
      "If it is, whatever in the body of the method\n",
      "will be printed\n",
      "'''\n",
      "\n",
      "def vert_dist(g, v0, t):\n",
      "    return v0*t - 0.5*g*t**2\n",
      "\n",
      "class Y:\n",
      "    def __init__(self, v0, g = 9.81):   \n",
      "        self.v0 = v0     # a variable parameter: can be changed programmatically.\n",
      "        self.g = g    # a constant parameter: cannot be changed programmatically, but only by hand.\n",
      "\n",
      "    def __call__(self, t):\n",
      "        v0, g = self.v0, self.g   ### if you want...\n",
      "        return vert_dist(g, v0, t)\n",
      "\n",
      "    def __str__(self):\n",
      "        return 'h = v0*t - 0.5*g*t**2; parameters: v0 = {:g}, g = {:g} (constant).'.format(self.v0, self.g)\n",
      "        \n",
      "\n",
      "\n",
      "y = Y(10)\n",
      "t = 2.\n",
      "print y\n",
      "### this is the same as\n",
      "print y.__str__()\n"
     ],
     "language": "python",
     "metadata": {},
     "outputs": []
    },
    {
     "cell_type": "raw",
     "metadata": {},
     "source": [
      "\n",
      "What have we achieved with the class Y:\n",
      "Self-inspection\n",
      "Can be called just like a function\n",
      "But can also be treated as string!\n",
      "Can be used as argument for another funciton\n",
      "A function can only do #2 above."
     ]
    }
   ],
   "metadata": {}
  }
 ]
}