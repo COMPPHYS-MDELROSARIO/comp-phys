{
 "metadata": {
  "name": "",
  "signature": "sha256:8a448e8c7ac87cf619458dc41a8af41f6ff7e980944b09e6808972e70e4d077f"
 },
 "nbformat": 3,
 "nbformat_minor": 0,
 "worksheets": [
  {
   "cells": [
    {
     "cell_type": "code",
     "collapsed": false,
     "input": [],
     "language": "python",
     "metadata": {},
     "outputs": []
    }
   ],
   "metadata": {}
  }
 ]
}