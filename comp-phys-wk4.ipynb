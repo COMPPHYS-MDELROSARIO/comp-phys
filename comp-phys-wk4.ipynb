{
 "metadata": {
  "name": "",
  "signature": "sha256:b7ec1677983e256e589ba46e32e950870fa6d6b2212703e743b28791ef8ed308"
 },
 "nbformat": 3,
 "nbformat_minor": 0,
 "worksheets": []
}