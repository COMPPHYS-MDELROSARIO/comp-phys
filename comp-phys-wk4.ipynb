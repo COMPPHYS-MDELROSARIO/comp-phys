{
 "metadata": {
  "name": "",
  "signature": "sha256:49779dff3681d3f656377cd924ade3feb65a58d3f575e1da061916f98d5f7eb6"
 },
 "nbformat": 3,
 "nbformat_minor": 0,
 "worksheets": [
  {
   "cells": [
    {
     "cell_type": "raw",
     "metadata": {},
     "source": [
      "An array object can be viewed as a variant of a list, but with the following assumptions and features:\n",
      "-All elements must be of the sme type\n",
      "-The number of elements must be known when the array is created\n",
      "-Arrays are not part of standard Python. One needs an additional package called Numerical Python: NumPy\n",
      "-With numpy, a wide range of mathematical operations can be done directly on complete arrays, thereby removing the need for loop over array elements. This is commonly called vectorization and may cause a dramatic speed up of Python programs and greatly enhance the readability of your code\n",
      "-Arrays with one index are often calle dvectors. Arrays with two indices are used as an efficient data structure for tables, instead of lists of lists. Arrays can lso have three or more indices\n"
     ]
    },
    {
     "cell_type": "code",
     "collapsed": false,
     "input": [
      "import numpy as np\n",
      "# turning a list into a numpy array\n",
      "r = range(1,10)\n",
      "a = np.array(r) # a is an array; or in the CS lingo: a vector\n",
      "print type(r), type(a)\n",
      "print a"
     ],
     "language": "python",
     "metadata": {},
     "outputs": []
    },
    {
     "cell_type": "code",
     "collapsed": false,
     "input": [
      "b = np.zeros(10)\n",
      "print b, type (b)\n"
     ],
     "language": "python",
     "metadata": {},
     "outputs": []
    },
    {
     "cell_type": "code",
     "collapsed": false,
     "input": [
      "c = np.ones(10)\n",
      "print c, type(c)"
     ],
     "language": "python",
     "metadata": {},
     "outputs": []
    },
    {
     "cell_type": "code",
     "collapsed": false,
     "input": [
      "d = np.linspace(1, 12.4, 20)\n",
      "print d, type(d)"
     ],
     "language": "python",
     "metadata": {},
     "outputs": []
    },
    {
     "cell_type": "code",
     "collapsed": false,
     "input": [
      "#Access individual elements of an array\n",
      "a[3]"
     ],
     "language": "python",
     "metadata": {},
     "outputs": []
    },
    {
     "cell_type": "code",
     "collapsed": false,
     "input": [
      "#Array slicing\n",
      "d = b[1:-1]\n",
      "d[3] = 0.2\n",
      "print 'd=', d\n",
      "print 'b=', b\n"
     ],
     "language": "python",
     "metadata": {},
     "outputs": []
    },
    {
     "cell_type": "code",
     "collapsed": false,
     "input": [
      "#Why arrays are convenient\n",
      "x = np.linspace(-1, 1., 100)\n",
      "y = np.exp(x)\n",
      "print y"
     ],
     "language": "python",
     "metadata": {},
     "outputs": []
    },
    {
     "cell_type": "code",
     "collapsed": false,
     "input": [
      "#Breakout Problem\n",
      "from pprint import pprint\n",
      "\n",
      "def convert(Tstart, Tend, numsteps):\n",
      "    Cdegrees = np.linspace(Tstart, Tend, numsteps)\n",
      "    Fdegrees = [(9.0/5)*(-5 + 0.5*i) + 32. for i in Cdegrees]\n",
      "    return Fdegrees\n",
      "\n",
      "pprint(convert(0,100,100))\n"
     ],
     "language": "python",
     "metadata": {},
     "outputs": []
    },
    {
     "cell_type": "code",
     "collapsed": false,
     "input": [
      "#Pracitce list comprehension\n",
      "def conversion(Tstart, Tend, numsteps):\n",
      "    cdegrees = [(Tstart + numsteps) for i in range(numsteps)]\n",
      "    fdegrees = [(9.0/5)*(-5 + 0.5*i) + 32. for i in cdegrees]\n",
      "    return fdegrees\n",
      "    \n",
      "print conversion(0,100,100)"
     ],
     "language": "python",
     "metadata": {},
     "outputs": []
    },
    {
     "cell_type": "code",
     "collapsed": false,
     "input": [
      "#Explicit specification of numpy data type\n",
      "x = np.arange(1.,10.,1.)\n",
      "print type(x), x.dtype\n",
      "print x\n",
      "y = np.arange(1.,10.,1., dtype = np.int64)\n",
      "print type(y), y.dtype\n",
      "print y"
     ],
     "language": "python",
     "metadata": {},
     "outputs": []
    },
    {
     "cell_type": "code",
     "collapsed": false,
     "input": [
      "import numpy as np\n",
      "np.__version__"
     ],
     "language": "python",
     "metadata": {},
     "outputs": []
    },
    {
     "cell_type": "code",
     "collapsed": false,
     "input": [
      "#Array Indexing\n",
      "x = np.linspace(1,10,10)\n",
      "idx = x > 5\n",
      "print idx\n",
      "print 'number of elements with value greater than 5:', sum(idx)\n",
      "y = x[idx]\n",
      "print y\n"
     ],
     "language": "python",
     "metadata": {},
     "outputs": []
    },
    {
     "cell_type": "code",
     "collapsed": false,
     "input": [
      "#Alternatively use np.where\n",
      "\n",
      "x = np.linspace(1,10,10)\n",
      "idx = np.where(x>5)\n",
      "print idx\n",
      "#Could have been a bug\n",
      "print 'number of elements with value greater than 5:', sum(idx)\n",
      "#print 'number of elements with value greater than 5:', len(idx[0])\n",
      "y = x[idx]\n",
      "print y\n"
     ],
     "language": "python",
     "metadata": {},
     "outputs": []
    },
    {
     "cell_type": "code",
     "collapsed": false,
     "input": [
      "#matplotlib\n",
      "#%matplotlib inline\n",
      "%matplotlib osx\n",
      "import matplotlib.pyplot as plt\n",
      "y = np.linspace(1,100,10)\n",
      "#x is assumed to be the index\n",
      "plt.plot(y)\n",
      "plt.show()"
     ],
     "language": "python",
     "metadata": {},
     "outputs": []
    },
    {
     "cell_type": "code",
     "collapsed": false,
     "input": [
      "%matplotlib inline\n",
      "import numpy as np\n",
      "import matplotlib.pyplot as plt\n",
      "y = np.linspace(1e-6, 15, 1000)\n",
      "b = y**3/(np.exp(y)-1)\n",
      "plt.plot(y,b)\n",
      "plt.xlabel('Freqency')\n",
      "plt.ylabel('Energy Density')\n",
      "plt.title('Black Body Spectrum')\n",
      "plt.savefig('planck.pdf')\n",
      "plt.show()\n",
      "#introduce the where function in numpy here"
     ],
     "language": "python",
     "metadata": {},
     "outputs": []
    },
    {
     "cell_type": "code",
     "collapsed": false,
     "input": [
      "#Breakout Problem\n",
      "%matplotlib inline\n",
      "import numpy as np\n",
      "import matplotlib.pyplot as plt\n",
      "y = np.linspace(1e-6, np.pi, 1000)\n",
      "b = np.cos(-np.exp(y))\n",
      "plt.plot(y,b)\n",
      "plt.xlabel('X')\n",
      "plt.ylabel('Y')\n",
      "plt.title('Frequency Modulation')\n",
      "plt.savefig('Frequency Modulation.pdf')\n",
      "plt.text(0.5, 0.8, 'y = cos(-exp(x))', fontsize = 14)\n",
      "plt.plot(y,b, '-', lw=2) #'-' is used to indicate a line with default\n",
      "plt.show()"
     ],
     "language": "python",
     "metadata": {},
     "outputs": []
    },
    {
     "cell_type": "code",
     "collapsed": false,
     "input": [
      "#Multiple ways ofacomplishing the same thing\n",
      "\n",
      "Xmin = -5.0; Xmax = 5.0\n",
      "Npoints = 500\n",
      "DelX = (Xmax-Xmin)/Npoints\n",
      "x = np.arange(Xmin,Xmax, DelX)\n",
      "y1 = -np.sin(x)*np.cos(x**2)\n",
      "y2 = np.exp(-x/4.)*np.sin(x)\n",
      "\n",
      "fig = plt.figure()\n",
      "#fig = plt.figure(figsize = (15, 5)) #Specific figure size\n",
      "ax = fig.add_subplot(211) #2 Subplots by 1 arrangement #2 Rows 1 column; Wants the first of the two\n",
      "fig.subplots_adjust(top=0.85) #Without this, you won't be able to see the plot #Moves plots down so title fits\n",
      "plt.title('Two Functions')\n",
      "\n",
      "#plt.plot(x,y1,'r', lw=2)\n",
      "plt.plot(x,y1, 'r.', lw=2)\n",
      "plt.grid(True) #Has to come after plot\n",
      "ax.set_ylabel('y1')\n",
      "\n",
      "plt.subplot(212) #Second subplot out of 2 #Another method of adding as subplot\n",
      "#plt.plot(x,y2, 'g', lw=2)\n",
      "plt.plot(x, y2, 'g--', lw=2)\n",
      "plt.xlabel('x')\n",
      "plt.ylabel('y')\n",
      "\n",
      "plt.show()"
     ],
     "language": "python",
     "metadata": {},
     "outputs": []
    },
    {
     "cell_type": "code",
     "collapsed": false,
     "input": [
      "#Functions with two independent variables\n",
      "def g(x,y):\n",
      "    return x**2+y**2\n",
      "z = g(2.,3.)\n",
      "print z\n"
     ],
     "language": "python",
     "metadata": {},
     "outputs": []
    },
    {
     "cell_type": "code",
     "collapsed": false,
     "input": [
      "%matplotlib osx\n",
      "#%matplotlib inline\n",
      "from mpl_toolkits.mplot3d import axes3d\n",
      "import matplotlib.pyplot as plt\n",
      "import numpy as np\n",
      "from matplotlib import cm #color map\n",
      "\n",
      "fig = plt.figure()\n",
      "ax = fig.add_subplot(111, projection='3d')\n",
      "x = y = np.linspace(-5, 5, 100)\n",
      "xv, yv = np.meshgrid(x,y) #Gives 2d plane of points\n",
      "z = g(xv, yv)\n",
      "#ax.plot_wireframe(xv, yv, z, rstride=4, cstride=4, linewidth=1)\n",
      "ax.plot_surface(xv, yv, z, rstride =1, cstride =1, cmap=cm.coolwarm, linewidth=0)\n",
      "plt.show()"
     ],
     "language": "python",
     "metadata": {},
     "outputs": []
    },
    {
     "cell_type": "code",
     "collapsed": false,
     "input": [
      "%matplotlib inline\n",
      "import matplotlib.pyplot as plt\n",
      "import numpy as np\n",
      "from matplotlib import cm #color map\n",
      "\n",
      "def func(x, y, a = 1., b = 1, R = -10):\n",
      "    new = a*x**2 - b*y**2 - R**2\n",
      "    return new\n",
      "\n",
      "fig = plt.figure()\n",
      "ax = fig.add_subplot(111, projection='3d')\n",
      "x = y = np.linspace(-5, 5, 100)\n",
      "xv, yv = np.meshgrid(x,y) #Gives 2d plane of points\n",
      "z = func(xv, yv)\n",
      "#ax.plot_wireframe(xv, yv, z, rstride=4, cstride=4, linewidth=1)\n",
      "ax.plot_surface(xv, yv, z, rstride =1, cstride =1, cmap=cm.coolwarm, linewidth=0)\n",
      "plt.show()"
     ],
     "language": "python",
     "metadata": {},
     "outputs": []
    },
    {
     "cell_type": "code",
     "collapsed": false,
     "input": [
      "'''\n",
      "Write a function that finds the prime number in any given range of integers\n",
      "'''\n",
      "import numpy as np\n",
      "def prime(a, b):\n",
      "    odd = []\n",
      "    prime = []\n",
      "    num = np.arange(a,b+1)\n",
      "    for n in num:\n",
      "        if n % 2 == 1:\n",
      "            odd.append(n)\n",
      "    for o in odd:\n",
      "        if o % 3 == 1:\n",
      "            prime.append(o)\n",
      "  \n",
      "    return odd\n",
      "            \n",
      "        \n",
      "print(prime(0,100))"
     ],
     "language": "python",
     "metadata": {},
     "outputs": [
      {
       "output_type": "stream",
       "stream": "stdout",
       "text": [
        "[1, 3, 5, 7, 9, 11, 13, 15, 17, 19, 21, 23, 25, 27, 29, 31, 33, 35, 37, 39, 41, 43, 45, 47, 49, 51, 53, 55, 57, 59, 61, 63, 65, 67, 69, 71, 73, 75, 77, 79, 81, 83, 85, 87, 89, 91, 93, 95, 97, 99]\n"
       ]
      }
     ],
     "prompt_number": 122
    },
    {
     "cell_type": "code",
     "collapsed": false,
     "input": [
      "#Errors and Exceptions\n",
      "\n",
      "def inverse(x):\n",
      "    if x == 0:\n",
      "        raise ZeroDivisionError('Cannot divide by 0')\n",
      "        return 1./x\n",
      "    \n",
      "y = inverse(0)\n",
      "print y\n"
     ],
     "language": "python",
     "metadata": {},
     "outputs": []
    },
    {
     "cell_type": "code",
     "collapsed": false,
     "input": [
      "#String is a sequence in python:\n",
      "\n",
      "s = 'Hey Yo'\n",
      "print s[0]\n",
      "print len(s)\n",
      "\n",
      "print '\\nCharacters in the string a:'\n",
      "\n",
      "for c in s:\n",
      "    print c\n",
      "\n",
      "s[1] = 'H'\n"
     ],
     "language": "python",
     "metadata": {},
     "outputs": []
    },
    {
     "cell_type": "code",
     "collapsed": false,
     "input": [
      "a = [3, 6, 10.]\n",
      "sum(a)\n",
      "a.append('Hey Yo')\n",
      "a.append([1,2,3])"
     ],
     "language": "python",
     "metadata": {},
     "outputs": []
    },
    {
     "cell_type": "code",
     "collapsed": false,
     "input": [
      "#Line Continuation Character\n",
      "\n",
      "print 'this is a very long sentence \\\n",
      "at least I am trying to make it appear so \\\n",
      "by using \"\\\\\" at the end of each line; without \\\n",
      "the backslash, python will report an error --try it!'\n",
      "\n"
     ],
     "language": "python",
     "metadata": {},
     "outputs": [
      {
       "output_type": "stream",
       "stream": "stdout",
       "text": [
        "this is a very long sentence at least I am trying to make it appear so by using \"\\\" at the end of each line; without the backslash, python will report an error --try it!\n"
       ]
      }
     ],
     "prompt_number": 106
    },
    {
     "cell_type": "code",
     "collapsed": false,
     "input": [],
     "language": "python",
     "metadata": {},
     "outputs": []
    }
   ],
   "metadata": {}
  }
 ]
}