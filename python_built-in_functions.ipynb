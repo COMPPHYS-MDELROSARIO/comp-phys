{
 "metadata": {
  "name": "",
  "signature": "sha256:c80c703fce494c5075e2e48c4a71fca231b146733b454e11e7c1bf4972e37fe3"
 },
 "nbformat": 3,
 "nbformat_minor": 0,
 "worksheets": [
  {
   "cells": [
    {
     "cell_type": "raw",
     "metadata": {},
     "source": [
      "HW03"
     ]
    },
    {
     "cell_type": "raw",
     "metadata": {},
     "source": [
      "abs()"
     ]
    },
    {
     "cell_type": "raw",
     "metadata": {},
     "source": [
      "all()"
     ]
    },
    {
     "cell_type": "raw",
     "metadata": {},
     "source": [
      "any()"
     ]
    },
    {
     "cell_type": "raw",
     "metadata": {},
     "source": [
      "bin()"
     ]
    },
    {
     "cell_type": "raw",
     "metadata": {},
     "source": [
      "callable()"
     ]
    },
    {
     "cell_type": "raw",
     "metadata": {},
     "source": [
      "chr()"
     ]
    },
    {
     "cell_type": "raw",
     "metadata": {},
     "source": [
      "divmod()"
     ]
    },
    {
     "cell_type": "raw",
     "metadata": {},
     "source": [
      "enumerate()"
     ]
    },
    {
     "cell_type": "raw",
     "metadata": {},
     "source": [
      "eval()"
     ]
    },
    {
     "cell_type": "raw",
     "metadata": {},
     "source": [
      "execfile()"
     ]
    },
    {
     "cell_type": "raw",
     "metadata": {},
     "source": [
      "help()"
     ]
    },
    {
     "cell_type": "raw",
     "metadata": {},
     "source": [
      "hex()"
     ]
    },
    {
     "cell_type": "raw",
     "metadata": {},
     "source": [
      "int()"
     ]
    },
    {
     "cell_type": "raw",
     "metadata": {},
     "source": [
      "isinstance()"
     ]
    },
    {
     "cell_type": "raw",
     "metadata": {},
     "source": [
      "list()"
     ]
    },
    {
     "cell_type": "raw",
     "metadata": {},
     "source": [
      "long()"
     ]
    },
    {
     "cell_type": "raw",
     "metadata": {},
     "source": [
      "map()"
     ]
    },
    {
     "cell_type": "raw",
     "metadata": {},
     "source": [
      "max()"
     ]
    },
    {
     "cell_type": "raw",
     "metadata": {},
     "source": [
      "min()"
     ]
    },
    {
     "cell_type": "raw",
     "metadata": {},
     "source": [
      "oct()"
     ]
    },
    {
     "cell_type": "raw",
     "metadata": {},
     "source": [
      "reduce()"
     ]
    },
    {
     "cell_type": "raw",
     "metadata": {},
     "source": [
      "reversed()"
     ]
    },
    {
     "cell_type": "raw",
     "metadata": {},
     "source": [
      "round()"
     ]
    },
    {
     "cell_type": "raw",
     "metadata": {},
     "source": [
      "sum()"
     ]
    },
    {
     "cell_type": "raw",
     "metadata": {},
     "source": [
      "tuple()"
     ]
    },
    {
     "cell_type": "raw",
     "metadata": {},
     "source": [
      "xr"
     ]
    }
   ],
   "metadata": {}
  }
 ]
}