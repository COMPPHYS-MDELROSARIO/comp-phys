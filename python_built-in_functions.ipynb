{
 "metadata": {
  "name": "",
  "signature": "sha256:09c58dea77631aeb4508d976ff62a28831ed7dd15d6b7a8a7243d6c788faa499"
 },
 "nbformat": 3,
 "nbformat_minor": 0,
 "worksheets": [
  {
   "cells": [
    {
     "cell_type": "raw",
     "metadata": {},
     "source": [
      "HW03\n"
     ]
    },
    {
     "cell_type": "raw",
     "metadata": {},
     "source": [
      "abs()"
     ]
    },
    {
     "cell_type": "code",
     "collapsed": false,
     "input": [
      "x = abs(-5)\n",
      "print x"
     ],
     "language": "python",
     "metadata": {},
     "outputs": [
      {
       "output_type": "stream",
       "stream": "stdout",
       "text": [
        "5\n"
       ]
      }
     ],
     "prompt_number": 1
    },
    {
     "cell_type": "raw",
     "metadata": {},
     "source": [
      "all()"
     ]
    },
    {
     "cell_type": "code",
     "collapsed": false,
     "input": [
      "x = [1, 2, 3, 4, 5, 6, 7, 8, 9]\n",
      "if all(x):\n",
      "    print x\n",
      "print all(x)"
     ],
     "language": "python",
     "metadata": {},
     "outputs": [
      {
       "output_type": "stream",
       "stream": "stdout",
       "text": [
        "[1, 2, 3, 4, 5, 6, 7, 8, 9]\n",
        "True\n"
       ]
      }
     ],
     "prompt_number": 13
    },
    {
     "cell_type": "raw",
     "metadata": {},
     "source": [
      "any()"
     ]
    },
    {
     "cell_type": "code",
     "collapsed": false,
     "input": [
      "x = [1, 2, 3, 4, 5, 6, 7, 8, 9]\n",
      "y = []\n",
      "print any(x)\n",
      "print any(y)"
     ],
     "language": "python",
     "metadata": {},
     "outputs": [
      {
       "output_type": "stream",
       "stream": "stdout",
       "text": [
        "True\n",
        "False\n"
       ]
      }
     ],
     "prompt_number": 11
    },
    {
     "cell_type": "raw",
     "metadata": {},
     "source": [
      "bin()"
     ]
    },
    {
     "cell_type": "code",
     "collapsed": false,
     "input": [
      "num = 15\n",
      "num_bin = bin(num)\n",
      "print num_bin"
     ],
     "language": "python",
     "metadata": {},
     "outputs": [
      {
       "output_type": "stream",
       "stream": "stdout",
       "text": [
        "0b1111\n"
       ]
      }
     ],
     "prompt_number": 15
    },
    {
     "cell_type": "raw",
     "metadata": {},
     "source": [
      "callable()"
     ]
    },
    {
     "cell_type": "code",
     "collapsed": false,
     "input": [
      "n = 32\n",
      "print callable(n)\n",
      "\n",
      "def call():\n",
      "    print 'hello'\n",
      "\n",
      "print callable(call)"
     ],
     "language": "python",
     "metadata": {},
     "outputs": [
      {
       "output_type": "stream",
       "stream": "stdout",
       "text": [
        "False\n",
        "True\n"
       ]
      }
     ],
     "prompt_number": 17
    },
    {
     "cell_type": "raw",
     "metadata": {},
     "source": [
      "chr()"
     ]
    },
    {
     "cell_type": "code",
     "collapsed": false,
     "input": [
      "print chr(97), chr(10), chr(100), chr(9), chr(105)"
     ],
     "language": "python",
     "metadata": {},
     "outputs": [
      {
       "output_type": "stream",
       "stream": "stdout",
       "text": [
        "a \n",
        "d \ti\n"
       ]
      }
     ],
     "prompt_number": 18
    },
    {
     "cell_type": "code",
     "collapsed": false,
     "input": [
      "print chr(10)"
     ],
     "language": "python",
     "metadata": {},
     "outputs": [
      {
       "output_type": "stream",
       "stream": "stdout",
       "text": [
        "\n",
        "\n"
       ]
      }
     ],
     "prompt_number": 19
    },
    {
     "cell_type": "code",
     "collapsed": false,
     "input": [
      "print chr(9)"
     ],
     "language": "python",
     "metadata": {},
     "outputs": [
      {
       "output_type": "stream",
       "stream": "stdout",
       "text": [
        "\t\n"
       ]
      }
     ],
     "prompt_number": 20
    },
    {
     "cell_type": "raw",
     "metadata": {},
     "source": [
      "divmod()"
     ]
    },
    {
     "cell_type": "code",
     "collapsed": false,
     "input": [
      "print divmod(3,2)\n",
      "print divmod(5,2)"
     ],
     "language": "python",
     "metadata": {},
     "outputs": [
      {
       "output_type": "stream",
       "stream": "stdout",
       "text": [
        "(1, 1)\n",
        "(2, 1)\n"
       ]
      }
     ],
     "prompt_number": 24
    },
    {
     "cell_type": "raw",
     "metadata": {},
     "source": [
      "enumerate()"
     ]
    },
    {
     "cell_type": "code",
     "collapsed": false,
     "input": [
      "sports = ['football', 'basketball', 'baseball', 'boxing']\n",
      "print list(enumerate(sports))"
     ],
     "language": "python",
     "metadata": {},
     "outputs": [
      {
       "output_type": "stream",
       "stream": "stdout",
       "text": [
        "[(0, 'football'), (1, 'basketball'), (2, 'baseball'), (3, 'boxing')]\n"
       ]
      }
     ],
     "prompt_number": 26
    },
    {
     "cell_type": "raw",
     "metadata": {},
     "source": [
      "eval()"
     ]
    },
    {
     "cell_type": "code",
     "collapsed": false,
     "input": [
      "a = 12\n",
      "print eval('a*5')"
     ],
     "language": "python",
     "metadata": {},
     "outputs": [
      {
       "output_type": "stream",
       "stream": "stdout",
       "text": [
        "60\n"
       ]
      }
     ],
     "prompt_number": 28
    },
    {
     "cell_type": "raw",
     "metadata": {},
     "source": [
      "execfile()"
     ]
    },
    {
     "cell_type": "code",
     "collapsed": false,
     "input": [
      "execfile('sorted_stars.py')"
     ],
     "language": "python",
     "metadata": {},
     "outputs": [
      {
       "output_type": "stream",
       "stream": "stdout",
       "text": [
        "Ranking by Distance:\n",
        "[['Alpha Centauri C', 4.2],\n",
        " ['Alpha Centauri A', 4.3],\n",
        " ['Alpha Centauri B', 4.3],\n",
        " [\"Barnard's Star\", 6.0],\n",
        " ['Wolf 359', 7.7],\n",
        " ['BD +36 degrees 2147', 8.2],\n",
        " ['Luyten 726-8 A', 8.4],\n",
        " ['Luyten 726-8 B', 8.4],\n",
        " ['Sirius A', 8.6],\n",
        " ['Sirius B', 8.6],\n",
        " ['Ross 154', 9.4]]\n",
        "Ranking by Apparent Brightness:\n",
        "[['Wolf 359', 1e-06],\n",
        " ['Luyten 726-8 B', 2e-06],\n",
        " ['Luyten 726-8 A', 3e-06],\n",
        " ['Alpha Centauri C', 1e-05],\n",
        " [\"Barnard's Star\", 4e-05],\n",
        " ['Ross 154', 0.0002],\n",
        " ['Sirius B', 0.001],\n",
        " ['BD +36 degrees 2147', 0.003],\n",
        " ['Alpha Centauri B', 0.077],\n",
        " ['Alpha Centauri A', 0.26],\n",
        " ['Sirius A', 1.0]]\n",
        "Ranking by Absolute Brightness:\n",
        "[['Wolf 359', 2e-05],\n",
        " ['Luyten 726-8 B', 4e-05],\n",
        " ['Alpha Centauri C', 6e-05],\n",
        " ['Luyten 726-8 A', 6e-05],\n",
        " [\"Barnard's Star\", 0.0005],\n",
        " ['Ross 154', 0.0005],\n",
        " ['Sirius B', 0.003],\n",
        " ['BD +36 degrees 2147', 0.006],\n",
        " ['Alpha Centauri B', 0.45],\n",
        " ['Alpha Centauri A', 1.56],\n",
        " ['Sirius A', 23.6]]\n"
       ]
      }
     ],
     "prompt_number": 96
    },
    {
     "cell_type": "raw",
     "metadata": {},
     "source": [
      "help()"
     ]
    },
    {
     "cell_type": "code",
     "collapsed": false,
     "input": [
      "help()"
     ],
     "language": "python",
     "metadata": {},
     "outputs": [
      {
       "output_type": "stream",
       "stream": "stdout",
       "text": [
        "\n",
        "Welcome to Python 2.7!  This is the online help utility.\n",
        "\n",
        "If this is your first time using Python, you should definitely check out\n",
        "the tutorial on the Internet at http://docs.python.org/2.7/tutorial/.\n",
        "\n",
        "Enter the name of any keyword, or topic to get help on writing Python\n",
        "programs and using Python.  To quit this help utility and return to the\n",
        "interpreter, just type \"quit\".\n",
        "\n",
        "To get a list of available modules, keywords, or topics, type \"keywords\",\n",
        "or \"topics\".\n",
        "\n"
       ]
      },
      {
       "output_type": "stream",
       "stream": "stdout",
       "text": [
        "\n",
        "You are now leaving help and returning to the Python interpreter.\n",
        "If you want to ask for help on a particular object directly from the\n",
        "interpreter, you can type \"help(object)\".  Executing \"help('string')\"\n",
        "has the same effect as typing a particular string at the help> prompt.\n"
       ]
      }
     ],
     "prompt_number": 29
    },
    {
     "cell_type": "raw",
     "metadata": {},
     "source": [
      "hex()"
     ]
    },
    {
     "cell_type": "code",
     "collapsed": false,
     "input": [
      "x = hex(100)\n",
      "y = hex(299)\n",
      "print x, y"
     ],
     "language": "python",
     "metadata": {},
     "outputs": [
      {
       "output_type": "stream",
       "stream": "stdout",
       "text": [
        "0x64 0x12b\n"
       ]
      }
     ],
     "prompt_number": 35
    },
    {
     "cell_type": "raw",
     "metadata": {},
     "source": [
      "int()"
     ]
    },
    {
     "cell_type": "code",
     "collapsed": false,
     "input": [
      "x = 5.2\n",
      "print int(x)"
     ],
     "language": "python",
     "metadata": {},
     "outputs": [
      {
       "output_type": "stream",
       "stream": "stdout",
       "text": [
        "5\n"
       ]
      }
     ],
     "prompt_number": 36
    },
    {
     "cell_type": "raw",
     "metadata": {},
     "source": [
      "isinstance()"
     ]
    },
    {
     "cell_type": "code",
     "collapsed": false,
     "input": [
      "list1 = type('string')\n",
      "mystr = 'hello'\n",
      "print isinstance(mystr, list1)"
     ],
     "language": "python",
     "metadata": {},
     "outputs": [
      {
       "output_type": "stream",
       "stream": "stdout",
       "text": [
        "True\n"
       ]
      }
     ],
     "prompt_number": 95
    },
    {
     "cell_type": "raw",
     "metadata": {},
     "source": [
      "list()"
     ]
    },
    {
     "cell_type": "code",
     "collapsed": false,
     "input": [
      "print list('hello world')"
     ],
     "language": "python",
     "metadata": {},
     "outputs": [
      {
       "output_type": "stream",
       "stream": "stdout",
       "text": [
        "['h', 'e', 'l', 'l', 'o', ' ', 'w', 'o', 'r', 'l', 'd']\n"
       ]
      }
     ],
     "prompt_number": 37
    },
    {
     "cell_type": "raw",
     "metadata": {},
     "source": [
      "long()"
     ]
    },
    {
     "cell_type": "code",
     "collapsed": false,
     "input": [
      "print long('589')"
     ],
     "language": "python",
     "metadata": {},
     "outputs": [
      {
       "output_type": "stream",
       "stream": "stdout",
       "text": [
        "589\n"
       ]
      }
     ],
     "prompt_number": 38
    },
    {
     "cell_type": "raw",
     "metadata": {},
     "source": [
      "map()"
     ]
    },
    {
     "cell_type": "code",
     "collapsed": false,
     "input": [
      "def fahrenheit(T):\n",
      "    return ((float(9)/5)*T + 32)\n",
      "def celsius(T):\n",
      "    return (float(5)/9)*(T-32)\n",
      "temp = (36.5, 37, 37.5,39)\n",
      "\n",
      "F = map(fahrenheit, temp)\n",
      "C = map(celsius, F)\n",
      "print F, C"
     ],
     "language": "python",
     "metadata": {},
     "outputs": [
      {
       "output_type": "stream",
       "stream": "stdout",
       "text": [
        "[97.7, 98.60000000000001, 99.5, 102.2] [36.5, 37.00000000000001, 37.5, 39.0]\n"
       ]
      }
     ],
     "prompt_number": 63
    },
    {
     "cell_type": "raw",
     "metadata": {},
     "source": [
      "max()"
     ]
    },
    {
     "cell_type": "code",
     "collapsed": false,
     "input": [
      "print max(newlist)"
     ],
     "language": "python",
     "metadata": {},
     "outputs": [
      {
       "output_type": "stream",
       "stream": "stdout",
       "text": [
        "9\n"
       ]
      }
     ],
     "prompt_number": 44
    },
    {
     "cell_type": "raw",
     "metadata": {},
     "source": [
      "min()"
     ]
    },
    {
     "cell_type": "code",
     "collapsed": false,
     "input": [
      "print min(newlist)"
     ],
     "language": "python",
     "metadata": {},
     "outputs": [
      {
       "output_type": "stream",
       "stream": "stdout",
       "text": [
        "1\n"
       ]
      }
     ],
     "prompt_number": 45
    },
    {
     "cell_type": "raw",
     "metadata": {},
     "source": [
      "oct()"
     ]
    },
    {
     "cell_type": "code",
     "collapsed": false,
     "input": [
      "print (oct(100))"
     ],
     "language": "python",
     "metadata": {},
     "outputs": [
      {
       "output_type": "stream",
       "stream": "stdout",
       "text": [
        "0144\n"
       ]
      }
     ],
     "prompt_number": 46
    },
    {
     "cell_type": "raw",
     "metadata": {},
     "source": [
      "reduce()"
     ]
    },
    {
     "cell_type": "code",
     "collapsed": false,
     "input": [
      "x = [1,2,3,4,5]\n",
      "g = lambda x,y: x*2 + y*2\n",
      "\n",
      "\n",
      "#f = lambda a,b: a if (a > b) else b\n",
      "#reduce(f, [47,11,42,102,13])\n"
     ],
     "language": "python",
     "metadata": {},
     "outputs": [
      {
       "output_type": "stream",
       "stream": "stdout",
       "text": [
        "98\n"
       ]
      }
     ],
     "prompt_number": 89
    },
    {
     "cell_type": "raw",
     "metadata": {},
     "source": [
      "reversed()"
     ]
    },
    {
     "cell_type": "code",
     "collapsed": false,
     "input": [
      "y = 'hello'\n",
      "print list(reversed(y))"
     ],
     "language": "python",
     "metadata": {},
     "outputs": [
      {
       "output_type": "stream",
       "stream": "stdout",
       "text": [
        "['o', 'l', 'l', 'e', 'h']\n"
       ]
      }
     ],
     "prompt_number": 97
    },
    {
     "cell_type": "raw",
     "metadata": {},
     "source": [
      "round()"
     ]
    },
    {
     "cell_type": "code",
     "collapsed": false,
     "input": [
      "print round(55.25837, 1)\n",
      "print round(55.25837, 2)\n",
      "print round(55.25837, 3)"
     ],
     "language": "python",
     "metadata": {},
     "outputs": [
      {
       "output_type": "stream",
       "stream": "stdout",
       "text": [
        "55.3\n",
        "55.26\n",
        "55.258\n"
       ]
      }
     ],
     "prompt_number": 50
    },
    {
     "cell_type": "raw",
     "metadata": {},
     "source": [
      "sum()"
     ]
    },
    {
     "cell_type": "code",
     "collapsed": false,
     "input": [
      "sumlist = (5,5,10,20,50,10)\n",
      "print sum(sumlist)"
     ],
     "language": "python",
     "metadata": {},
     "outputs": [
      {
       "output_type": "stream",
       "stream": "stdout",
       "text": [
        "100\n"
       ]
      }
     ],
     "prompt_number": 51
    },
    {
     "cell_type": "raw",
     "metadata": {},
     "source": [
      "tuple()"
     ]
    },
    {
     "cell_type": "code",
     "collapsed": false,
     "input": [
      "testlist = ['hello', 10, 'dog', 52.3]\n",
      "print tuple(testlist)"
     ],
     "language": "python",
     "metadata": {},
     "outputs": [
      {
       "output_type": "stream",
       "stream": "stdout",
       "text": [
        "('hello', 10, 'dog', 52.3)\n"
       ]
      }
     ],
     "prompt_number": 52
    },
    {
     "cell_type": "raw",
     "metadata": {},
     "source": [
      "xrange()"
     ]
    },
    {
     "cell_type": "code",
     "collapsed": false,
     "input": [
      "ran = xrange(0,100, 2)\n",
      "print list(ran)"
     ],
     "language": "python",
     "metadata": {},
     "outputs": [
      {
       "output_type": "stream",
       "stream": "stdout",
       "text": [
        "[0, 2, 4, 6, 8, 10, 12, 14, 16, 18, 20, 22, 24, 26, 28, 30, 32, 34, 36, 38, 40, 42, 44, 46, 48, 50, 52, 54, 56, 58, 60, 62, 64, 66, 68, 70, 72, 74, 76, 78, 80, 82, 84, 86, 88, 90, 92, 94, 96, 98]\n"
       ]
      }
     ],
     "prompt_number": 59
    },
    {
     "cell_type": "raw",
     "metadata": {},
     "source": [
      "zip()"
     ]
    },
    {
     "cell_type": "code",
     "collapsed": false,
     "input": [
      "a = ['hello', 'good']\n",
      "b = ['world', 'morning']\n",
      "print zip(a,b)"
     ],
     "language": "python",
     "metadata": {},
     "outputs": [
      {
       "output_type": "stream",
       "stream": "stdout",
       "text": [
        "[('hello', 'world'), ('good', 'morning')]\n"
       ]
      }
     ],
     "prompt_number": 60
    }
   ],
   "metadata": {}
  }
 ]
}