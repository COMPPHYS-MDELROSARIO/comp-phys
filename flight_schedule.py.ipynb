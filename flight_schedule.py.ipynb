{
 "metadata": {
  "name": "",
  "signature": "sha256:b7f1e0f27cd85304e6cfa669a0ce1070eb0ab2ccae0f2920078606485293f77c"
 },
 "nbformat": 3,
 "nbformat_minor": 0,
 "worksheets": [
  {
   "cells": [
    {
     "cell_type": "code",
     "collapsed": false,
     "input": [
      "from pprint import pprint as p\n",
      "airports = {\"DCA\": \"Washington, D.C.\",\n",
      "            \"IAD\": \"Dulles\",\n",
      "            \"LHR\": \"London-Heathrow:\",\n",
      "            \"SVO\": \"Moscow\",\n",
      "            \"CDA\": \"Chicago-Midway:\",\n",
      "            \"SBA\": \"Santa Barbara\",\n",
      "            \"LAX\": \"Los Angeles\",\n",
      "            \"JFK\": \"New York City\",\n",
      "            \"MIA\": \"Miami\",\n",
      "            \"AUM\": \"Austin, Minnesota\"}\n",
      "\n",
      "#Airline Number, Destination, Gate, Time (Decimal Hours)\n",
      "flights = [(\"Southwest\", 145,  \"DCA\", 1, 6.00),\n",
      "           (\"United\",    31,   \"IAD\", 1, 7.1),\n",
      "           (\"United\",    302,  \"LHR\", 5, 6.5),\n",
      "           (\"Aeroflot\",  34,   \"SVO\", 5, 9.00),\n",
      "           (\"Southwest\", 146,  \"CDA\", 1, 9.60),\n",
      "           (\"United\",    46,   \"LAX\", 5, 6.5),\n",
      "           (\"Southwest\", 23,   \"SBA\", 6, 12.5),\n",
      "           (\"United\",    2,    \"LAX\", 10, 12.5),\n",
      "           (\"Southwest\", 59,   \"LAX\", 11, 14.5),\n",
      "           (\"American\",  1,    \"JFK\", 12, 11.3),\n",
      "           (\"USAirways\", 8,    \"MIA\", 20, 13.1),\n",
      "           (\"United\",    2032, \"MIA\", 21, 15.1),\n",
      "           (\"SpamAir\",   1,    \"AUM\", 42, 14.4)]\n",
      "\n",
      "#print 'Flight','\\t','Destination','\\t', 'Gate','\\t', 'Time'\n",
      "#print 'Flight \\t Destination \\t Gate \\t Time'\n",
      "\n",
      "#Sorts the list of tuples by element\n",
      "#p(sorted(flights, key=lambda x: x[4]))\n",
      "\n",
      "#Goes through the destination code and changes it to the city\n",
      "info = []\n",
      "\n",
      "for x in range(0, len(flights)):\n",
      "    #info.append(flights[x][y])\n",
      "    for y in range(0, len(flights[x])):\n",
      "        if y == 2:\n",
      "            print airports[flights[x][y]]\n",
      "    \n",
      "p(info)"
     ],
     "language": "python",
     "metadata": {},
     "outputs": [
      {
       "output_type": "stream",
       "stream": "stdout",
       "text": [
        "Washington, D.C.\n",
        "Dulles\n",
        "London-Heathrow:\n",
        "Moscow\n",
        "Chicago-Midway:\n",
        "Los Angeles\n",
        "Santa Barbara\n",
        "Los Angeles\n",
        "Los Angeles\n",
        "New York City\n",
        "Miami\n",
        "Miami\n",
        "Austin, Minnesota\n",
        "[6.0, 7.1, 6.5, 9.0, 9.6, 6.5, 12.5, 12.5, 14.5, 11.3, 13.1, 15.1, 14.4]\n"
       ]
      }
     ],
     "prompt_number": 60
    }
   ],
   "metadata": {}
  }
 ]
}