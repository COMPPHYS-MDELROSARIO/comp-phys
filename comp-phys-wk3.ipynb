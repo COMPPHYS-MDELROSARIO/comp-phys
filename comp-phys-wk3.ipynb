{
 "metadata": {
  "name": "",
  "signature": "sha256:e41ee2497541f4432234fff63b0f43f0edb48c456a2ffecbe2470de82cc7c2d7"
 },
 "nbformat": 3,
 "nbformat_minor": 0,
 "worksheets": [
  {
   "cells": [
    {
     "cell_type": "code",
     "collapsed": false,
     "input": [
      "a= 3\n",
      "print \"Outside f), a = \", a\n",
      "def f():\n",
      "    #global a\n",
      "    b = 3\n",
      "    d = 1./a\n",
      "    print \"Inside f(), a = \", d\n",
      "    return\n",
      "f()\n",
      "print \"Outside f(), a  \", a\n",
      "\n"
     ],
     "language": "python",
     "metadata": {},
     "outputs": [
      {
       "output_type": "stream",
       "stream": "stdout",
       "text": [
        " Outside f), a =  3\n",
        "Inside f(), a =  0.333333333333\n",
        "Outside f(), a   3\n"
       ]
      }
     ],
     "prompt_number": 5
    },
    {
     "cell_type": "code",
     "collapsed": false,
     "input": [
      "#Positional arguments\n",
      "def yfunc(t, v0):\n",
      "    \"\"\"\n",
      "    Finds displacement with constant graitational acceleaation on earth\n",
      "    Using positional arguments\n",
      "    \n",
      "    \"\"\"\n",
      "    g = 9.81\n",
      "    return v0*t - 0.5*g*t**2\n",
      "print yfunc(10, 100)\n",
      "print yfunc(100, 10)\n",
      "print 'docstring for yfunc():', yfunc.__doc__\n",
      "print 'docstring for yfunc():', sum.__doc__"
     ],
     "language": "python",
     "metadata": {},
     "outputs": [
      {
       "output_type": "stream",
       "stream": "stdout",
       "text": [
        "509.5\n",
        "-48050.0\n",
        "docstring for yfunc(): \n",
        "    Finds displacement with constant graitational acceleaation on earth\n",
        "    Using positional arguments\n",
        "    \n",
        "    \n",
        "docstring for yfunc(): sum(sequence[, start]) -> value\n",
        "\n",
        "Return the sum of a sequence of numbers (NOT strings) plus the value\n",
        "of parameter 'start' (which defaults to 0).  When the sequence is\n",
        "empty, return start.\n"
       ]
      }
     ],
     "prompt_number": 7
    },
    {
     "cell_type": "code",
     "collapsed": false,
     "input": [
      "#Magic Functions\n",
      "\n",
      "#line magic\n",
      "%timeit range(1000)\n",
      "\n",
      "#cell magic\n",
      "#%%timeit x = range(10000)\n",
      "#max(x)\n",
      "\n"
     ],
     "language": "python",
     "metadata": {},
     "outputs": [
      {
       "output_type": "stream",
       "stream": "stdout",
       "text": [
        "100000 loops, best of 3: 9.83 \u00b5s per loop\n"
       ]
      }
     ],
     "prompt_number": 11
    },
    {
     "cell_type": "code",
     "collapsed": false,
     "input": [
      "#Range function\n",
      "def makelist(start, stop, inc):\n",
      "    value = start\n",
      "    result = []\n",
      "    while value <= stop:\n",
      "        result.append(value)\n",
      "        value += inc\n",
      "    return result\n",
      "mylist = makelist(0, 100, 2)\n",
      "print mylist"
     ],
     "language": "python",
     "metadata": {},
     "outputs": []
    },
    {
     "cell_type": "code",
     "collapsed": false,
     "input": [
      "def yfunc2(t, v0):\n",
      "    g = 9.81\n",
      "    y = v0*t - 0.5*g*t**2\n",
      "    yprime = v0 - g*t\n",
      "    return y, yprime\n",
      "pos, vel = yfunc2(2,10) #The LHS is a tuple\n",
      "print 'position = {:10.2g} velocity = {:10.2g}'.format(pos,vel)\n",
      "print 'position = {:+10.2g} velocity = {:+10.2g}'.format(pos,vel)\n",
      "\n",
      "\n",
      "print 'position = {:+10.2g} velocity = {:+10.2g}'.format(*yfunc2(2,10))"
     ],
     "language": "python",
     "metadata": {},
     "outputs": [
      {
       "output_type": "stream",
       "stream": "stdout",
       "text": [
        "position =       0.38 velocity =       -9.6\n",
        "position =      +0.38 velocity =       -9.6\n",
        "position =      +0.38 velocity =       -9.6\n"
       ]
      }
     ],
     "prompt_number": 12
    },
    {
     "cell_type": "code",
     "collapsed": false,
     "input": [
      "#The\"unpacking operator\": \"*\"\n",
      "\n",
      "print range(3,6)\n",
      "range_params = [3,6]\n",
      "print range(*range_params)\n",
      "range_params = 3, 6\n",
      "print range(*range_params)\n",
      "\n",
      "#Explain why print range(range_params) won't work?"
     ],
     "language": "python",
     "metadata": {},
     "outputs": [
      {
       "output_type": "stream",
       "stream": "stdout",
       "text": [
        "[3, 4, 5]\n",
        "[3, 4, 5]\n",
        "[3, 4, 5]\n"
       ]
      }
     ],
     "prompt_number": 13
    },
    {
     "cell_type": "code",
     "collapsed": false,
     "input": [
      "#Interactive Python Debugging Tool (module: pdb)\n",
      "'''\n",
      "-n(ext)\n",
      "-s(tep)\n",
      "-p(rint)\n",
      "-unt(il)\n",
      "-c(ontinue)\n",
      "-l(ist)\n",
      "-w(here)\n",
      "-h(elp)\n",
      "-q(uit)\n",
      "\n",
      "google python pdb\n",
      "'''"
     ],
     "language": "python",
     "metadata": {},
     "outputs": []
    },
    {
     "cell_type": "code",
     "collapsed": false,
     "input": [
      "#Breakout exercise \n",
      "\n",
      "import pdb\n",
      "\n",
      "x = 2.\n",
      "def L(x, n):\n",
      "    approx = 0\n",
      "    #pdb.set_trace()\n",
      "    for i in range(0, n + 1):\n",
      "        approx += (1./(i+1.))*(x/(1.+x))**(i+1.)\n",
      "    return approx\n",
      "    return approx\n",
      "\n",
      "\n",
      "\n",
      "y = L(x, 100)\n",
      "print 'Taylor Series Approximation:', y\n",
      "from math import log  #you would guess math module would have log...yes!\n",
      "exact_val = log(1+x)\n",
      "print 'exact_val', exact_val\n",
      "from math import log1p  #more accurate for small x.\n",
      "print 'log1p output', log1p(x)\n",
      "\n",
      "%timeit L(x, 100)\n",
      "%timeit log(1+x)\n",
      "%timeit log1p(x)"
     ],
     "language": "python",
     "metadata": {},
     "outputs": [
      {
       "output_type": "stream",
       "stream": "stdout",
       "text": [
        "Taylor Series Approximation: 1.09861228867\n",
        "exact_val 1.09861228867\n",
        "log1p output 1.09861228867\n",
        "10000 loops, best of 3: 43.8 \u00b5s per loop"
       ]
      },
      {
       "output_type": "stream",
       "stream": "stdout",
       "text": [
        "\n",
        "1000000 loops, best of 3: 194 ns per loop"
       ]
      },
      {
       "output_type": "stream",
       "stream": "stdout",
       "text": [
        "\n",
        "10000000 loops, best of 3: 125 ns per loop"
       ]
      },
      {
       "output_type": "stream",
       "stream": "stdout",
       "text": [
        "\n"
       ]
      }
     ],
     "prompt_number": 42
    },
    {
     "cell_type": "code",
     "collapsed": false,
     "input": [
      "#Breakout Exercise\n",
      "\n",
      "import pdb\n",
      "\n",
      "x = 2.\n",
      "exact_val = log(1+x)\n",
      "def L(x, n):\n",
      "    approx = 0\n",
      "    #pdb.set_trace()\n",
      "    for i in range(0, n + 1):\n",
      "        approx += (1./(i+1.))*(x/(1.+x))**(i+1.)\n",
      "    if ((approx - exact_val)/exact_val)*100 >=\n",
      "    return approx\n",
      "    return approx\n",
      "\n",
      "\n",
      "param = input(\"Enter the starting value \")\n",
      "if param <= -1:\n",
      "    print \"Error. Function will not run with this value. Please increase\"\n",
      "else:\n",
      "    y = L(param, 100)\n",
      "    print 'Taylor Series Approximation:', y\n",
      "    from math import log  #you would guess math module would have log...yes!\n",
      "    print 'exact_val', exact_val\n",
      "    from math import log1p  #more accurate for small x.\n",
      "    print 'log1p output', log1p(x)"
     ],
     "language": "python",
     "metadata": {},
     "outputs": [
      {
       "name": "stdout",
       "output_type": "stream",
       "stream": "stdout",
       "text": [
        "Enter the starting value -5\n"
       ]
      },
      {
       "output_type": "stream",
       "stream": "stdout",
       "text": [
        "Error. Function will not run with this value. Please increase\n"
       ]
      }
     ],
     "prompt_number": 37
    },
    {
     "cell_type": "code",
     "collapsed": false,
     "input": [
      "#Numerical Instability and Arbitrary Precision\n",
      "\n",
      "def g(t):\n",
      "    return t**(-6)\n",
      "#A function as an argument to another function\n",
      "def diff2(f, x, h = 1e-6):\n",
      "    r = (f(x-h) - 2*f(x) + f(x+h))/float(h*h)\n",
      "    return r\n",
      "\n",
      "for k in range(1,15):\n",
      "    h = 10**(-k)\n",
      "    d2g = diff2(g, 1, h)\n",
      "    print 'h = {:.0e}: {:.5g}'.format(h, d2g)\n",
      "    \n"
     ],
     "language": "python",
     "metadata": {},
     "outputs": [
      {
       "output_type": "stream",
       "stream": "stdout",
       "text": [
        "h = 1e-01: 44.615\n",
        "h = 1e-02: 42.025\n",
        "h = 1e-03: 42\n",
        "h = 1e-04: 42\n",
        "h = 1e-05: 42\n",
        "h = 1e-06: 42.001\n",
        "h = 1e-07: 41.944\n",
        "h = 1e-08: 47.74\n",
        "h = 1e-09: -666.13\n",
        "h = 1e-10: 0\n",
        "h = 1e-11: 0\n",
        "h = 1e-12: -6.6613e+08\n",
        "h = 1e-13: 6.6613e+10\n",
        "h = 1e-14: 0\n"
       ]
      }
     ],
     "prompt_number": 45
    },
    {
     "cell_type": "code",
     "collapsed": false,
     "input": [
      "#Numerical Instability and Arbitrary Precision\n",
      "\n",
      "import decimal\n",
      "decimal.getcontext().prec = 30\n",
      "D = decimal.Decimal\n",
      "\n",
      "def g(t):\n",
      "    return t**(-6)\n",
      "#A function as an argument to another function\n",
      "\n",
      "def diff2(f, x, h = 1E-6):\n",
      "    x = D(str(x)); h = D(str(h)) # convert to high precision\n",
      "    r = (f(x-h) - 2*f(x) + f(x+h))/(h*h)\n",
      "    return r\n",
      "\n",
      "for k in range(1,15):\n",
      "    h = 10**(-k)\n",
      "    print 'h = {:.0e}: {:.5g}'.format(h, diff2(g, 1, h))\n",
      "    \n"
     ],
     "language": "python",
     "metadata": {},
     "outputs": [
      {
       "output_type": "stream",
       "stream": "stdout",
       "text": [
        "h = 1e-01: 44.615\n",
        "h = 1e-02: 42.025\n",
        "h = 1e-03: 42.000\n",
        "h = 1e-04: 42.000\n",
        "h = 1e-05: 42.000\n",
        "h = 1e-06: 42.000\n",
        "h = 1e-07: 42.000\n",
        "h = 1e-08: 42.000\n",
        "h = 1e-09: 42.000\n",
        "h = 1e-10: 42.000\n",
        "h = 1e-11: 42.000\n",
        "h = 1e-12: 42.000\n",
        "h = 1e-13: 42.000\n",
        "h = 1e-14: 42.00\n"
       ]
      }
     ],
     "prompt_number": 48
    },
    {
     "cell_type": "code",
     "collapsed": false,
     "input": [
      "#Lambda function\n",
      "#Both functions are equivalent\n",
      "\n",
      "g = lambda x: x**2 + 4\n",
      "\n",
      "def f(x):\n",
      "    return x**2 + 4\n",
      "\n",
      "print g(3), f(3)\n",
      "\n",
      "d2 = diff2(lambda t: t**(-6), 1, h = 1e-4)\n",
      "print d2"
     ],
     "language": "python",
     "metadata": {},
     "outputs": [
      {
       "output_type": "stream",
       "stream": "stdout",
       "text": [
        "13 13\n"
       ]
      }
     ],
     "prompt_number": 49
    },
    {
     "cell_type": "code",
     "collapsed": false,
     "input": [
      "x = 3\n",
      "a = 2 if x < 1 else 0\n"
     ],
     "language": "python",
     "metadata": {},
     "outputs": []
    },
    {
     "cell_type": "code",
     "collapsed": false,
     "input": [
      "#More sophisticated use of the lambda fuction\n",
      "\n",
      "from math import pi, sin\n",
      "x = 1.5\n",
      "f = lambda x: sin(x) if 0 <= x <= 2*pi else 0\n",
      "print type(f), f(x)\n"
     ],
     "language": "python",
     "metadata": {},
     "outputs": [
      {
       "output_type": "stream",
       "stream": "stdout",
       "text": [
        "<type 'function'> 0.997494986604\n"
       ]
      }
     ],
     "prompt_number": 52
    },
    {
     "cell_type": "code",
     "collapsed": false,
     "input": [
      "#Doctest -- Required for HW 2 onward\n",
      "\n",
      "if __name__ == \"__main__\":\n",
      "    \n",
      "    import doctest\n",
      "    doctest.testmod()\n",
      "    \n",
      "    x = 1000\n",
      "    y = L(x)\n",
      "    print 'Series Approximation', y"
     ],
     "language": "python",
     "metadata": {},
     "outputs": [
      {
       "ename": "TypeError",
       "evalue": "L() takes exactly 2 arguments (1 given)",
       "output_type": "pyerr",
       "traceback": [
        "\u001b[0;31m---------------------------------------------------------------------------\u001b[0m\n\u001b[0;31mTypeError\u001b[0m                                 Traceback (most recent call last)",
        "\u001b[0;32m<ipython-input-53-bd294dd130ec>\u001b[0m in \u001b[0;36m<module>\u001b[0;34m()\u001b[0m\n\u001b[1;32m      7\u001b[0m \u001b[0;34m\u001b[0m\u001b[0m\n\u001b[1;32m      8\u001b[0m     \u001b[0mx\u001b[0m \u001b[0;34m=\u001b[0m \u001b[0;36m1000\u001b[0m\u001b[0;34m\u001b[0m\u001b[0m\n\u001b[0;32m----> 9\u001b[0;31m     \u001b[0my\u001b[0m \u001b[0;34m=\u001b[0m \u001b[0mL\u001b[0m\u001b[0;34m(\u001b[0m\u001b[0mx\u001b[0m\u001b[0;34m)\u001b[0m\u001b[0;34m\u001b[0m\u001b[0m\n\u001b[0m\u001b[1;32m     10\u001b[0m     \u001b[0;32mprint\u001b[0m \u001b[0;34m'Series Approximation'\u001b[0m\u001b[0;34m,\u001b[0m \u001b[0my\u001b[0m\u001b[0;34m\u001b[0m\u001b[0m\n",
        "\u001b[0;31mTypeError\u001b[0m: L() takes exactly 2 arguments (1 given)"
       ]
      }
     ],
     "prompt_number": 53
    },
    {
     "cell_type": "code",
     "collapsed": false,
     "input": [
      "#At home breakout\n",
      "\n",
      "#Use the temperature conversion function but add doctest\n"
     ],
     "language": "python",
     "metadata": {},
     "outputs": []
    }
   ],
   "metadata": {}
  }
 ]
}