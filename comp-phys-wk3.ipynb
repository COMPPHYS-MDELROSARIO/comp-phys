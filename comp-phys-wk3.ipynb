{
 "metadata": {
  "name": "",
  "signature": "sha256:ee134dd0d5ed28111d7b1ebe94fe492351ec706fd8871d3653cc2a19ea632a6f"
 },
 "nbformat": 3,
 "nbformat_minor": 0,
 "worksheets": [
  {
   "cells": [
    {
     "cell_type": "code",
     "collapsed": false,
     "input": [
      "a= 3\n",
      "print \"Outside f), a = \", a\n",
      "def f():\n",
      "    #global a\n",
      "    b = 3\n",
      "    d = 1./a\n",
      "    print \"Inside f(), a = \", d\n",
      "    return\n",
      "f()\n",
      "print \"Outside f(), a  \", a\n",
      "\n"
     ],
     "language": "python",
     "metadata": {},
     "outputs": [
      {
       "output_type": "stream",
       "stream": "stdout",
       "text": [
        " Outside f), a =  3\n",
        "Inside f(), a =  0.333333333333\n",
        "Outside f(), a   3\n"
       ]
      }
     ],
     "prompt_number": 5
    },
    {
     "cell_type": "code",
     "collapsed": false,
     "input": [
      "#Positional arguments\n",
      "def yfunc(t, v0):\n",
      "    \"\"\"\n",
      "    Finds displacement with constant graitational acceleaation on earth\n",
      "    Using positional arguments\n",
      "    \n",
      "    \"\"\"\n",
      "    g = 9.81\n",
      "    return v0*t - 0.5*g*t**2\n",
      "print yfunc(10, 100)\n",
      "print yfunc(100, 10)\n",
      "print 'docstring for yfunc():', yfunc.__doc__\n",
      "print 'docstring for yfunc():', sum.__doc__"
     ],
     "language": "python",
     "metadata": {},
     "outputs": [
      {
       "output_type": "stream",
       "stream": "stdout",
       "text": [
        "509.5\n",
        "-48050.0\n",
        "docstring for yfunc(): \n",
        "    Finds displacement with constant graitational acceleaation on earth\n",
        "    Using positional arguments\n",
        "    \n",
        "    \n",
        "docstring for yfunc(): sum(sequence[, start]) -> value\n",
        "\n",
        "Return the sum of a sequence of numbers (NOT strings) plus the value\n",
        "of parameter 'start' (which defaults to 0).  When the sequence is\n",
        "empty, return start.\n"
       ]
      }
     ],
     "prompt_number": 7
    },
    {
     "cell_type": "code",
     "collapsed": false,
     "input": [
      "#Magic Functions\n",
      "\n",
      "#line magic\n",
      "%timeit range(1000)\n",
      "\n",
      "#cell magic\n",
      "#%%timeit x = range(10000)\n",
      "#max(x)\n",
      "\n"
     ],
     "language": "python",
     "metadata": {},
     "outputs": [
      {
       "output_type": "stream",
       "stream": "stdout",
       "text": [
        "100000 loops, best of 3: 9.83 \u00b5s per loop\n"
       ]
      }
     ],
     "prompt_number": 11
    },
    {
     "cell_type": "code",
     "collapsed": false,
     "input": [
      "#Range function\n",
      "def makelist(start, stop, inc):\n",
      "    value = start\n",
      "    result = []\n",
      "    while value <= stop:\n",
      "        result.append(value)\n",
      "        value += inc\n",
      "    return result\n",
      "mylist = makelist(0, 100, 2)\n",
      "print mylist"
     ],
     "language": "python",
     "metadata": {},
     "outputs": []
    },
    {
     "cell_type": "code",
     "collapsed": false,
     "input": [
      "def yfunc2(t, v0):\n",
      "    g = 9.81\n",
      "    y = v0*t - 0.5*g*t**2\n",
      "    yprime = v0 - g*t\n",
      "    return y, yprime\n",
      "pos, vel = yfunc2(2,10) #The LHS is a tuple\n",
      "print 'position = {:10.2g} velocity = {:10.2g}'.format(pos,vel)\n",
      "print 'position = {:+10.2g} velocity = {:+10.2g}'.format(pos,vel)\n",
      "\n",
      "\n",
      "print 'position = {:+10.2g} velocity = {:+10.2g}'.format(*yfunc2(2,10))"
     ],
     "language": "python",
     "metadata": {},
     "outputs": [
      {
       "output_type": "stream",
       "stream": "stdout",
       "text": [
        "position =       0.38 velocity =       -9.6\n",
        "position =      +0.38 velocity =       -9.6\n",
        "position =      +0.38 velocity =       -9.6\n"
       ]
      }
     ],
     "prompt_number": 12
    },
    {
     "cell_type": "code",
     "collapsed": false,
     "input": [
      "#The\"unpacking operator\": \"*\"\n",
      "\n",
      "print range(3,6)\n",
      "range_params = [3,6]\n",
      "print range(*range_params)\n",
      "range_params = 3, 6\n",
      "print range(*range_params)\n",
      "\n",
      "#Explain why print range(range_params) won't work?"
     ],
     "language": "python",
     "metadata": {},
     "outputs": [
      {
       "output_type": "stream",
       "stream": "stdout",
       "text": [
        "[3, 4, 5]\n",
        "[3, 4, 5]\n",
        "[3, 4, 5]\n"
       ]
      }
     ],
     "prompt_number": 13
    },
    {
     "cell_type": "code",
     "collapsed": false,
     "input": [
      "#Interactive Python Debugging Tool (module: pdb)\n",
      "'''\n",
      "-n(ext)\n",
      "-s(tep)\n",
      "-p(rint)\n",
      "-unt(il)\n",
      "-c(ontinue)\n",
      "-l(ist)\n",
      "-w(here)\n",
      "-h(elp)\n",
      "-q(uit)\n",
      "\n",
      "google python pdb\n",
      "'''"
     ],
     "language": "python",
     "metadata": {},
     "outputs": []
    },
    {
     "cell_type": "code",
     "collapsed": false,
     "input": [
      "#Breakout exercise \n",
      "\n",
      "import pdb\n",
      "\n",
      "x = 2.\n",
      "def L(x, n):\n",
      "    approx = 0\n",
      "    #pdb.set_trace()\n",
      "    for i in range(0, n + 1):\n",
      "        approx += (1./(i+1.))*(x/(1.+x))**(i+1.)\n",
      "    return approx\n",
      "    return approx\n",
      "\n",
      "\n",
      "\n",
      "y = L(x, 100)\n",
      "print 'Taylor Series Approximation:', y\n",
      "from math import log  #you would guess math module would have log...yes!\n",
      "exact_val = log(1+x)\n",
      "print 'exact_val', exact_val\n",
      "from math import log1p  #more accurate for small x.\n",
      "print 'log1p output', log1p(x)"
     ],
     "language": "python",
     "metadata": {},
     "outputs": [
      {
       "output_type": "stream",
       "stream": "stdout",
       "text": [
        "Taylor Series Approximation: 1.09861228867\n",
        "exact_val 1.09861228867\n",
        "log1p output 1.09861228867\n"
       ]
      }
     ],
     "prompt_number": 34
    }
   ],
   "metadata": {}
  }
 ]
}