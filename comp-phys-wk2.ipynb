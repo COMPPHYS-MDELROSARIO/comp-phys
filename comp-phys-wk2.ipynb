{
 "metadata": {
  "name": "",
  "signature": "sha256:38b5ac1b9943cf65c689a3335c3663eb42cf5d4a828fc15127b308a190352daa"
 },
 "nbformat": 3,
 "nbformat_minor": 0,
 "worksheets": [
  {
   "cells": [
    {
     "cell_type": "code",
     "collapsed": false,
     "input": [
      "from math import pi\n",
      "s = 0\n",
      "max = 1000\n",
      "\n",
      "for i in range(max):\n",
      "    s += 1./(i+1)**2\n",
      "    \n",
      "print 'With the for loop, the sum is', s\n",
      "\n",
      "#need to re-initialize i and s.\n",
      "i = 1\n",
      "s = 0\n",
      "\n",
      "while i<= max:\n",
      "    s += 1./i**2\n",
      "    i = i+1\n",
      "    \n",
      "print 'With the while loop, the sum is', s\n",
      "\n",
      "#correct answer is pi^2/. Let's see how close we get:\n",
      "\n",
      "print 'correct answer:' , pi**2/6\n",
      "\n"
     ],
     "language": "python",
     "metadata": {},
     "outputs": [
      {
       "output_type": "stream",
       "stream": "stdout",
       "text": [
        "With the for loop, the sum is 1.64393456668\n",
        "With the while loop, the sum is 1.64393456668\n",
        "correct answer: 1.64493406685\n"
       ]
      }
     ],
     "prompt_number": 5
    },
    {
     "cell_type": "code",
     "collapsed": false,
     "input": [
      "#str\n",
      "a = 'hello'\n",
      "space = ' '\n",
      "b = 'world'\n",
      "print a + space + b"
     ],
     "language": "python",
     "metadata": {},
     "outputs": [
      {
       "output_type": "stream",
       "stream": "stdout",
       "text": [
        "hello world\n"
       ]
      }
     ],
     "prompt_number": 7
    },
    {
     "cell_type": "code",
     "collapsed": false,
     "input": [
      "b = bool(1)\n",
      "print b\n",
      "b = bool(20)\n",
      "print b\n",
      "b = bool(-3)\n",
      "print b\n",
      "b = bool(0)\n",
      "print b\n",
      "b = bool(0.)\n",
      "print b\n",
      "b = bool(2.5)\n",
      "print b"
     ],
     "language": "python",
     "metadata": {},
     "outputs": [
      {
       "output_type": "stream",
       "stream": "stdout",
       "text": [
        "True\n",
        "True\n",
        "True\n",
        "False\n",
        "False\n",
        "True\n"
       ]
      }
     ],
     "prompt_number": 8
    },
    {
     "cell_type": "code",
     "collapsed": false,
     "input": [
      "Cdegrees = [-20, -15, -5, 5, 10, 15, 20]\n",
      "for C in Cdegrees:\n",
      "    print C in Cdegrees\n",
      "    F = (9.0/5)*C + 32.\n",
      "    print '%5d %5.lf' % (C, F)\n"
     ],
     "language": "python",
     "metadata": {},
     "outputs": [
      {
       "output_type": "stream",
       "stream": "stdout",
       "text": [
        "True\n",
        "  -20    -4\n",
        "True\n",
        "  -15     5\n",
        "True\n",
        "   -5    23\n",
        "True\n",
        "    5    41\n",
        "True\n",
        "   10    50\n",
        "True\n",
        "   15    59\n",
        "True\n",
        "   20    68\n"
       ]
      }
     ],
     "prompt_number": 9
    },
    {
     "cell_type": "code",
     "collapsed": false,
     "input": [
      "Cdegrees = [-20, -15, -5, 5, 10, 15, 20]\n",
      "x = 0\n",
      "while x < len(Cdegrees):\n",
      "    print C in Cdegrees\n",
      "    F = (9.0/5)*Cdegrees[x] + 32.\n",
      "    print '%5d %5.1f' % (Cdegrees[x], F)\n",
      "    x += 1"
     ],
     "language": "python",
     "metadata": {},
     "outputs": [
      {
       "output_type": "stream",
       "stream": "stdout",
       "text": [
        "True\n",
        "  -20  -4.0\n",
        "True\n",
        "  -15   5.0\n",
        "True\n",
        "   -5  23.0\n",
        "True\n",
        "    5  41.0\n",
        "True\n",
        "   10  50.0\n",
        "True\n",
        "   15  59.0\n",
        "True\n",
        "   20  68.0\n"
       ]
      }
     ],
     "prompt_number": 22
    }
   ],
   "metadata": {}
  }
 ]
}