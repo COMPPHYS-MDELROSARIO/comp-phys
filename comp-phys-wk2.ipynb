{
 "metadata": {
  "name": "",
  "signature": "sha256:57ae3802dcb64039b1e7c5c9a98665ba077444f037a50c8a07317fefd7dbd2b0"
 },
 "nbformat": 3,
 "nbformat_minor": 0,
 "worksheets": [
  {
   "cells": [
    {
     "cell_type": "code",
     "collapsed": false,
     "input": [
      "from math import pi\n",
      "s = 0\n",
      "max = 100\n",
      "\n",
      "for i in range(max):\n",
      "    s += 1./(i+1)**2\n",
      "    \n",
      "print 'With the for loop, the sum is', s\n",
      "\n",
      "#need to re-initialize i and s.\n",
      "i = 1\n",
      "s = 0\n",
      "\n",
      "while i<= max:\n",
      "    s += 1./i**2\n",
      "    i = i+1\n",
      "    \n",
      "print 'With the while loop, th"
     ],
     "language": "python",
     "metadata": {},
     "outputs": [
      {
       "output_type": "stream",
       "stream": "stdout",
       "text": [
        "With the for loop, the sum is 1.63498390018\n"
       ]
      }
     ],
     "prompt_number": 1
    }
   ],
   "metadata": {}
  }
 ]
}