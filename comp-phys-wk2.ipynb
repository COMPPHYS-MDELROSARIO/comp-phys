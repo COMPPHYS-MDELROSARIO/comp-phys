{
 "metadata": {
  "name": "",
  "signature": "sha256:7dce7a48bf5e4752f0e2b679ab4e3b03ddf388ee895151fb9299d4c19a5e2f70"
 },
 "nbformat": 3,
 "nbformat_minor": 0,
 "worksheets": [
  {
   "cells": [
    {
     "cell_type": "code",
     "collapsed": false,
     "input": [
      "from math import pi\n",
      "s = 0\n",
      "max = 1000\n",
      "\n",
      "for i in range(max):\n",
      "    s += 1./(i+1)**2\n",
      "    \n",
      "print 'With the for loop, the sum is', s\n",
      "\n",
      "#need to re-initialize i and s.\n",
      "i = 1\n",
      "s = 0\n",
      "\n",
      "while i<= max:\n",
      "    s += 1./i**2\n",
      "    i = i+1\n",
      "    \n",
      "print 'With the while loop, the sum is', s\n",
      "\n",
      "#correct answer is pi^2/. Let's see how close we get:\n",
      "\n",
      "print 'correct answer:' , pi**2/6\n",
      "\n"
     ],
     "language": "python",
     "metadata": {},
     "outputs": [
      {
       "output_type": "stream",
       "stream": "stdout",
       "text": [
        "With the for loop, the sum is 1.64393456668\n",
        "With the while loop, the sum is 1.64393456668\n",
        "correct answer: 1.64493406685\n"
       ]
      }
     ],
     "prompt_number": 5
    },
    {
     "cell_type": "code",
     "collapsed": false,
     "input": [
      "#str\n",
      "a = 'hello'\n",
      "space = ' '\n",
      "b = 'world'\n",
      "print a + space + b"
     ],
     "language": "python",
     "metadata": {},
     "outputs": [
      {
       "output_type": "stream",
       "stream": "stdout",
       "text": [
        "hello world\n"
       ]
      }
     ],
     "prompt_number": 7
    },
    {
     "cell_type": "code",
     "collapsed": false,
     "input": [
      "b = bool(1)\n",
      "print b\n",
      "b = bool(20)\n",
      "print b\n",
      "b = bool(-3)\n",
      "print b\n",
      "b = bool(0)\n",
      "print b\n",
      "b = bool(0.)\n",
      "print b\n",
      "b = bool(2.5)\n",
      "print b"
     ],
     "language": "python",
     "metadata": {},
     "outputs": [
      {
       "output_type": "stream",
       "stream": "stdout",
       "text": [
        "True\n",
        "True\n",
        "True\n",
        "False\n",
        "False\n",
        "True\n"
       ]
      }
     ],
     "prompt_number": 8
    },
    {
     "cell_type": "code",
     "collapsed": false,
     "input": [
      "Cdegrees = [-20, -15, -5, 5, 10, 15, 20]\n",
      "for C in Cdegrees:\n",
      "    print C in Cdegrees\n",
      "    Fdegrees = (9.0/5)*C + 32.\n",
      "    print '%5d %5.lf' % (C, F)\n"
     ],
     "language": "python",
     "metadata": {},
     "outputs": [
      {
       "output_type": "stream",
       "stream": "stdout",
       "text": [
        "True\n",
        "  -20    -4\n",
        "True\n",
        "  -15     5\n",
        "True\n",
        "   -5    23\n",
        "True\n",
        "    5    41\n",
        "True\n",
        "   10    50\n",
        "True\n",
        "   15    59\n",
        "True\n",
        "   20    68\n"
       ]
      }
     ],
     "prompt_number": 34
    },
    {
     "cell_type": "code",
     "collapsed": false,
     "input": [
      "Cdegrees = [-20, -15, -5, 5, 10, 15, 20]\n",
      "x = 0\n",
      "while x < len(Cdegrees):\n",
      "    print x in Cdegrees\n",
      "    Fdegrees = (9.0/5)*Cdegrees[x] + 32.\n",
      "    print '%5d %5.1f' % (Cdegrees[x], F)\n",
      "    x += 1"
     ],
     "language": "python",
     "metadata": {},
     "outputs": [
      {
       "output_type": "stream",
       "stream": "stdout",
       "text": [
        "False\n",
        "  -20  68.0\n",
        "False\n",
        "  -15  68.0\n",
        "False\n",
        "   -5  68.0\n",
        "False\n",
        "    5  68.0\n",
        "False\n",
        "   10  68.0\n",
        "True\n",
        "   15  68.0\n",
        "False\n",
        "   20  68.0\n"
       ]
      }
     ],
     "prompt_number": 36
    },
    {
     "cell_type": "code",
     "collapsed": false,
     "input": [
      "a = [1,2,3,4,5,6]\n",
      "r = a[:]\n",
      "s = a\n",
      "print 'r == a:' , r ==a\n",
      "print 'r is a:' , r is a \n",
      "print 's == a:' , s == a\n",
      "print 's is a:' , s is a"
     ],
     "language": "python",
     "metadata": {},
     "outputs": [
      {
       "output_type": "stream",
       "stream": "stdout",
       "text": [
        "r == a: True\n",
        "r is a: False\n",
        "s == a: True\n",
        "s is a: True\n"
       ]
      }
     ],
     "prompt_number": 2
    },
    {
     "cell_type": "code",
     "collapsed": false,
     "input": [
      "import copy\n",
      "c = copy.copy(a)\n",
      "print 'c == a:' , c == a\n",
      "print 'c is a:' , c is a"
     ],
     "language": "python",
     "metadata": {},
     "outputs": [
      {
       "output_type": "stream",
       "stream": "stdout",
       "text": [
        "c == a: True\n",
        "c is a: False\n"
       ]
      }
     ],
     "prompt_number": 7
    },
    {
     "cell_type": "code",
     "collapsed": false,
     "input": [
      "a.append(1.4e5)\n",
      "print 'a:' , a \n",
      "print 'r:' , r\n",
      "print 's:' , s"
     ],
     "language": "python",
     "metadata": {},
     "outputs": [
      {
       "output_type": "stream",
       "stream": "stdout",
       "text": [
        "a: [1, 2, 3, 4, 5, 6, 140000.0]\n",
        "r: [1, 2, 3, 4, 5, 6]\n",
        "s: [1, 2, 3, 4, 5, 6, 140000.0]\n"
       ]
      }
     ],
     "prompt_number": 5
    },
    {
     "cell_type": "code",
     "collapsed": false,
     "input": [
      "#if you need access to both the element in a list and its index:\n",
      "\n",
      "for i, c in enumerate(Cdegrees):\n",
      "    Cdegrees[i] = c+2*i\n",
      "    print i, Cdegrees[i]\n"
     ],
     "language": "python",
     "metadata": {},
     "outputs": [
      {
       "output_type": "stream",
       "stream": "stdout",
       "text": [
        "0 -20\n",
        "1 -13\n",
        "2 -1\n",
        "3 11\n",
        "4 18\n",
        "5 25\n",
        "6 32\n"
       ]
      }
     ],
     "prompt_number": 4
    },
    {
     "cell_type": "code",
     "collapsed": false,
     "input": [
      "c = -5.5\n",
      "while c < 5:\n",
      "    f = (9.0/5)*c + 32.\n",
      "    c += 0.5\n",
      "    print c, f"
     ],
     "language": "python",
     "metadata": {},
     "outputs": [
      {
       "output_type": "stream",
       "stream": "stdout",
       "text": [
        "-5.0 22.1\n",
        "-4.5 23.0\n",
        "-4.0 23.9\n",
        "-3.5 24.8\n",
        "-3.0 25.7\n",
        "-2.5 26.6\n",
        "-2.0 27.5\n",
        "-1.5 28.4\n",
        "-1.0 29.3\n",
        "-0.5 30.2\n",
        "0.0 31.1\n",
        "0.5 32.0\n",
        "1.0 32.9\n",
        "1.5 33.8\n",
        "2.0 34.7\n",
        "2.5 35.6\n",
        "3.0 36.5\n",
        "3.5 37.4\n",
        "4.0 38.3\n",
        "4.5 39.2\n",
        "5.0 40.1\n"
       ]
      }
     ],
     "prompt_number": 18
    },
    {
     "cell_type": "code",
     "collapsed": false,
     "input": [
      "#list comprehension\n",
      "newList = [(9.0/5)*(-5 + 0.5*i) + 32. for i in range(0,21)]\n",
      "print newList"
     ],
     "language": "python",
     "metadata": {},
     "outputs": [
      {
       "output_type": "stream",
       "stream": "stdout",
       "text": [
        "[23.0, 23.9, 24.8, 25.7, 26.6, 27.5, 28.4, 29.3, 30.2, 31.1, 32.0, 32.9, 33.8, 34.7, 35.6, 36.5, 37.4, 38.3, 39.2, 40.1, 41.0]\n"
       ]
      }
     ],
     "prompt_number": 31
    },
    {
     "cell_type": "code",
     "collapsed": false,
     "input": [
      "#zip function creates a list of tuples\n",
      "test1 = [0,1,2,3,4,5]\n",
      "zip(test1, test1)\n"
     ],
     "language": "python",
     "metadata": {},
     "outputs": [
      {
       "metadata": {},
       "output_type": "pyout",
       "prompt_number": 32,
       "text": [
        "[(0, 0), (1, 1), (2, 2), (3, 3), (4, 4), (5, 5)]"
       ]
      }
     ],
     "prompt_number": 32
    },
    {
     "cell_type": "code",
     "collapsed": false,
     "input": [
      "for C, F in zip(Cdegrees, Fdegrees):\n",
      "    print '%5.1f %5.1f' % (C, F)"
     ],
     "language": "python",
     "metadata": {},
     "outputs": [
      {
       "ename": "NameError",
       "evalue": "name 'Fdegrees' is not defined",
       "output_type": "pyerr",
       "traceback": [
        "\u001b[0;31m---------------------------------------------------------------------------\u001b[0m\n\u001b[0;31mNameError\u001b[0m                                 Traceback (most recent call last)",
        "\u001b[0;32m<ipython-input-33-3425979610e9>\u001b[0m in \u001b[0;36m<module>\u001b[0;34m()\u001b[0m\n\u001b[0;32m----> 1\u001b[0;31m \u001b[0;32mfor\u001b[0m \u001b[0mC\u001b[0m\u001b[0;34m,\u001b[0m \u001b[0mF\u001b[0m \u001b[0;32min\u001b[0m \u001b[0mzip\u001b[0m\u001b[0;34m(\u001b[0m\u001b[0mCdegrees\u001b[0m\u001b[0;34m,\u001b[0m \u001b[0mFdegrees\u001b[0m\u001b[0;34m)\u001b[0m\u001b[0;34m:\u001b[0m\u001b[0;34m\u001b[0m\u001b[0m\n\u001b[0m\u001b[1;32m      2\u001b[0m     \u001b[0;32mprint\u001b[0m \u001b[0;34m'%5.1f %5.1f'\u001b[0m \u001b[0;34m%\u001b[0m \u001b[0;34m(\u001b[0m\u001b[0mC\u001b[0m\u001b[0;34m,\u001b[0m \u001b[0mF\u001b[0m\u001b[0;34m)\u001b[0m\u001b[0;34m\u001b[0m\u001b[0m\n",
        "\u001b[0;31mNameError\u001b[0m: name 'Fdegrees' is not defined"
       ]
      }
     ],
     "prompt_number": 33
    },
    {
     "cell_type": "code",
     "collapsed": false,
     "input": [
      "#modern formatting\n",
      "for C, F in zip(Cdegrees, Fdegrees):\n",
      "    print '{:5.1f}, {:5.1f}' .format(C, F)"
     ],
     "language": "python",
     "metadata": {},
     "outputs": []
    },
    {
     "cell_type": "code",
     "collapsed": false,
     "input": [
      "Cdegrees = [(-5 + .5*i) for i in range(0,21)]\n",
      "Fdegrees = [(9.0/5)*(-5 + 0.5*i) + 32. for i in range(0,21)]\n",
      "table = [[C,F] for C, F in zip(Cdegrees, Fdegrees)]\n",
      "print table"
     ],
     "language": "python",
     "metadata": {},
     "outputs": [
      {
       "output_type": "stream",
       "stream": "stdout",
       "text": [
        "[[-5.0, 23.0], [-4.5, 23.9], [-4.0, 24.8], [-3.5, 25.7], [-3.0, 26.6], [-2.5, 27.5], [-2.0, 28.4], [-1.5, 29.3], [-1.0, 30.2], [-0.5, 31.1], [0.0, 32.0], [0.5, 32.9], [1.0, 33.8], [1.5, 34.7], [2.0, 35.6], [2.5, 36.5], [3.0, 37.4], [3.5, 38.3], [4.0, 39.2], [4.5, 40.1], [5.0, 41.0]]\n"
       ]
      }
     ],
     "prompt_number": 49
    },
    {
     "cell_type": "code",
     "collapsed": false,
     "input": [
      "table1 = [Cdegrees, Fdegrees]\n",
      "print table1\n",
      "newtable = table1[0:1][0]\n",
      "print newtable"
     ],
     "language": "python",
     "metadata": {},
     "outputs": [
      {
       "output_type": "stream",
       "stream": "stdout",
       "text": [
        "[[-5.0, -4.5, -4.0, -3.5, -3.0, -2.5, -2.0, -1.5, -1.0, -0.5, 0.0, 0.5, 1.0, 1.5, 2.0, 2.5, 3.0, 3.5, 4.0, 4.5, 5.0], [23.0, 23.9, 24.8, 25.7, 26.6, 27.5, 28.4, 29.3, 30.2, 31.1, 32.0, 32.9, 33.8, 34.7, 35.6, 36.5, 37.4, 38.3, 39.2, 40.1, 41.0]]\n",
        "[-5.0, -4.5, -4.0, -3.5, -3.0, -2.5, -2.0, -1.5, -1.0, -0.5, 0.0, 0.5, 1.0, 1.5, 2.0, 2.5, 3.0, 3.5, 4.0, 4.5, 5.0]\n"
       ]
      }
     ],
     "prompt_number": 48
    },
    {
     "cell_type": "code",
     "collapsed": false,
     "input": [
      "from pprint import pprint\n",
      "pprint(table)"
     ],
     "language": "python",
     "metadata": {},
     "outputs": [
      {
       "output_type": "stream",
       "stream": "stdout",
       "text": [
        "[[-5.0, 23.0],\n",
        " [-4.5, 23.9],\n",
        " [-4.0, 24.8],\n",
        " [-3.5, 25.7],\n",
        " [-3.0, 26.6],\n",
        " [-2.5, 27.5],\n",
        " [-2.0, 28.4],\n",
        " [-1.5, 29.3],\n",
        " [-1.0, 30.2],\n",
        " [-0.5, 31.1],\n",
        " [0.0, 32.0],\n",
        " [0.5, 32.9],\n",
        " [1.0, 33.8],\n",
        " [1.5, 34.7],\n",
        " [2.0, 35.6],\n",
        " [2.5, 36.5],\n",
        " [3.0, 37.4],\n",
        " [3.5, 38.3],\n",
        " [4.0, 39.2],\n",
        " [4.5, 40.1],\n",
        " [5.0, 41.0]]\n"
       ]
      }
     ],
     "prompt_number": 50
    },
    {
     "cell_type": "code",
     "collapsed": false,
     "input": [
      "#if you want an index for an element\n",
      "print Cdegrees.index(3.0)\n",
      "#if you want to print out the portion of the table corresponding \n",
      "#temperatures between 3 and 5 C but don't know how many elements\n",
      "#are in that range\n",
      "\n",
      "for C, F in table[Cdegrees.index(3.):Cdegrees.index(5.)]:\n",
      "        print '{:5.1f}, {:5.1f}' .format(C, F)\n",
      "    "
     ],
     "language": "python",
     "metadata": {},
     "outputs": [
      {
       "output_type": "stream",
       "stream": "stdout",
       "text": [
        "16\n",
        "  3.0,  37.4\n",
        "  3.5,  38.3\n",
        "  4.0,  39.2\n",
        "  4.5,  40.1\n"
       ]
      }
     ],
     "prompt_number": 51
    },
    {
     "cell_type": "code",
     "collapsed": false,
     "input": [
      "scores = []\n",
      "scores.append([12, 16, 11, 12])\n",
      "scores.append([9])\n",
      "scores.append([6, 9, 11, 14, 17, 15, 14, 20])\n",
      "\n",
      "for p in scores:\n",
      "    for g in p:\n",
      "        print '{:4d}'.format(g),\n",
      "        #print(g), linspace = \" \")\n",
      "    print\n",
      "    "
     ],
     "language": "python",
     "metadata": {},
     "outputs": [
      {
       "ename": "SyntaxError",
       "evalue": "invalid syntax (<ipython-input-70-2b229bbcb84a>, line 9)",
       "output_type": "pyerr",
       "traceback": [
        "\u001b[0;36m  File \u001b[0;32m\"<ipython-input-70-2b229bbcb84a>\"\u001b[0;36m, line \u001b[0;32m9\u001b[0m\n\u001b[0;31m    print(g), linspace  \" \")\u001b[0m\n\u001b[0m                          ^\u001b[0m\n\u001b[0;31mSyntaxError\u001b[0m\u001b[0;31m:\u001b[0m invalid syntax\n"
       ]
      }
     ],
     "prompt_number": 70
    },
    {
     "cell_type": "code",
     "collapsed": false,
     "input": [
      "#tuples\n",
      "#are immutable\n",
      "t = ('shark', 2, 'text.tx.', 6.0)\n",
      "t[1]\n",
      "t = t + (4,)"
     ],
     "language": "python",
     "metadata": {},
     "outputs": [
      {
       "metadata": {},
       "output_type": "pyout",
       "prompt_number": 68,
       "text": [
        "2"
       ]
      }
     ],
     "prompt_number": 68
    },
    {
     "cell_type": "code",
     "collapsed": false,
     "input": [
      "#functions\n",
      "def F(C):\n",
      "    return (9./5)*C + 32\n",
      "a = 10.\n",
      "F1 = F(a)\n",
      "F1\n",
      "\n",
      "fdeg = [F(C) for C in Cdegrees]\n",
      "fdeg"
     ],
     "language": "python",
     "metadata": {},
     "outputs": [
      {
       "metadata": {},
       "output_type": "pyout",
       "prompt_number": 72,
       "text": [
        "[23.0,\n",
        " 23.9,\n",
        " 24.8,\n",
        " 25.7,\n",
        " 26.6,\n",
        " 27.5,\n",
        " 28.4,\n",
        " 29.3,\n",
        " 30.2,\n",
        " 31.1,\n",
        " 32.0,\n",
        " 32.9,\n",
        " 33.8,\n",
        " 34.7,\n",
        " 35.6,\n",
        " 36.5,\n",
        " 37.4,\n",
        " 38.3,\n",
        " 39.2,\n",
        " 40.1,\n",
        " 41.0]"
       ]
      }
     ],
     "prompt_number": 72
    }
   ],
   "metadata": {}
  }
 ]
}