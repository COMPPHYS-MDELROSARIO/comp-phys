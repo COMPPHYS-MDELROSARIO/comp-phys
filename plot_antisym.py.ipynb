{
 "metadata": {
  "name": "",
  "signature": "sha256:537081bff117099c7290030d5074d45b4504a59e44316feb3fc75d8bea10d13a"
 },
 "nbformat": 3,
 "nbformat_minor": 0,
 "worksheets": []
}