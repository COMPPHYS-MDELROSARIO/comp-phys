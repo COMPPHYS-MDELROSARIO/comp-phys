{
 "metadata": {
  "name": "",
  "signature": "sha256:f805098e68047ea6fd6bd75ad36dd0cccabe5165eed54f251fe98591756e9225"
 },
 "nbformat": 3,
 "nbformat_minor": 0,
 "worksheets": [
  {
   "cells": [
    {
     "cell_type": "code",
     "collapsed": false,
     "input": [
      "%matplotlib inline\n",
      "import math as ma\n",
      "import matplotlib.pyplot as plt\n",
      "from matplotlib import cm\n",
      "\n",
      "def psi(x1, x2, n1, n2, a):\n",
      "    return 2/a*(ma.sin(n1*x1*ma.pi/a) * ma.sin(n2*x2*ma.pi/a) - ma.sin(n1*x2*ma.pi/a) * ma.sin(n2*x1*ma.pi/a))\n",
      "\n",
      "def prob_density(p):\n",
      "    return p**2\n",
      "\n",
      "def antisym(x1, x2, n1 = 1, n2 = 2, a = 1.0):\n",
      "    density = prob_density(psi(x1, x2, n1, n2, a))\n",
      "    return density\n",
      "\n",
      "print antisym(1,2)"
     ],
     "language": "python",
     "metadata": {},
     "outputs": [
      {
       "output_type": "stream",
       "stream": "stdout",
       "text": [
        "5.75815527857e-62\n"
       ]
      }
     ],
     "prompt_number": 3
    },
    {
     "cell_type": "code",
     "collapsed": false,
     "input": [
      "fig = plt.figure()\n",
      "#fig = plt.figure(figsize = (15, 5)) #Specific figure size\n",
      "plt.subplot(121) #2 Subplots by 1 arrangement #2 Rows 1 column; Wants the first of the two\n",
      "fig.subplots_adjust(top=0.85) #Without this, you won't be able to see the plot #Moves plots down so title fits\n",
      "pyplot.suptitle('Antisymmetric Spatial Wave Function', fontsize=14, fontweight='bold')\n",
      "\n",
      "#plt.plot(x,y1,'r', lw=2)\n",
      "plt.plot(x,y1, 'r.', lw=2)\n",
      "plt.title('Wave Function')\n",
      "plt.grid(True) #Has to come after plot\n",
      "ax.set_ylabel('y1')\n",
      "\n",
      "plt.subplot(122) #Second subplot out of 2 #Another method of adding as subplot\n",
      "#plt.plot(x,y2, 'g', lw=2)\n",
      "plt.title('Probability Density ')\n",
      "plt.plot(x, y2, 'g--', lw=2)\n",
      "plt.xlabel('x')\n",
      "plt.ylabel('y')\n",
      "\n",
      "plt.show()"
     ],
     "language": "python",
     "metadata": {},
     "outputs": []
    },
    {
     "cell_type": "code",
     "collapsed": false,
     "input": [
      "\n",
      "\n",
      "'''\n",
      "fig = plt.figure()\n",
      "ax = fig.add_subplot(111, projection='3d')\n",
      "x = y = np.linspace(-5, 5, 100)\n",
      "xv, yv = np.meshgrid(x,y) #Gives 2d plane of points\n",
      "z = antisym(xv, yv)\n",
      "#ax.plot_wireframe(xv, yv, z, rstride=4, cstride=4, linewidth=1)\n",
      "ax.plot_surface(xv, yv, z, rstride =1, cstride =1, cmap=cm.coolwarm, linewidth=0)\n",
      "plt.show()    \n",
      "'''\n",
      "\n"
     ],
     "language": "python",
     "metadata": {},
     "outputs": []
    }
   ],
   "metadata": {}
  }
 ]
}