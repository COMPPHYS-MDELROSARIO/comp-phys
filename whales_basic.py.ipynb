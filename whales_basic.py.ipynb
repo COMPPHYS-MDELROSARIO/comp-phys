{
 "metadata": {
  "name": "",
  "signature": "sha256:4e409fcbeab572c4af3f02b5e0e28e305348878e5ca6f503dbf836660153c7eb"
 },
 "nbformat": 3,
 "nbformat_minor": 0,
 "worksheets": [
  {
   "cells": [
    {
     "cell_type": "code",
     "collapsed": false,
     "input": [
      "import datetime as dt\n",
      "import random\n",
      "class whale:\n",
      "    def __init__(self, name, sex, age = dt.datetime.now()):\n",
      "        self.name = name\n",
      "        self.sex = sex\n",
      "        self.age = age\n",
      "        if self.sex == 'M':\n",
      "            sex = \"male\"\n",
      "        elif self.sex == 'F':\n",
      "            sex = \"female\"\n",
      "        print 'A {:s} whale named {:s} has been born!'.format(sex, name)\n",
      "        \n",
      "            \n",
      "    def __call__(self):\n",
      "        return 'A whale named {:s} age'.format(self.name) \n",
      "    \n",
      "    def sing(self):\n",
      "        return 5*'\\a'\n",
      "            \n",
      "        \n",
      "w1 = whale('Wailord', 'M')\n",
      "w2 = whale('Wailmer', 'F')\n",
      "\n",
      "print w1.name\n",
      "print w1.sex\n",
      "#print w1.sing()\n",
      "#print w1\n",
      "'''\n",
      "whale_list = []\n",
      "\n",
      "while len(whale_list) <= 20:\n",
      "    s = random.randint(0,1000)\n",
      "    if s % 2 == 0:\n",
      "        whale_list.append('M')\n",
      "    else:\n",
      "        whale_list.append('F')\n",
      "    \n",
      "\n",
      "print whale_list\n",
      "'''\n"
     ],
     "language": "python",
     "metadata": {},
     "outputs": [
      {
       "output_type": "stream",
       "stream": "stdout",
       "text": [
        "A male whale named Wailord has been born!\n",
        "A female whale named Wailmer has been born!\n",
        "Wailord\n",
        "M\n"
       ]
      },
      {
       "metadata": {},
       "output_type": "pyout",
       "prompt_number": 292,
       "text": [
        "\"\\nwhale_list = []\\n\\nwhile len(whale_list) <= 20:\\n    s = random.randint(0,1000)\\n    if s % 2 == 0:\\n        whale_list.append('M')\\n    else:\\n        whale_list.append('F')\\n    \\n\\nprint whale_list\\n\""
       ]
      }
     ],
     "prompt_number": 292
    },
    {
     "cell_type": "code",
     "collapsed": false,
     "input": [
      "import datetime as dt\n",
      "from pprint import pprint as p\n",
      "\n",
      "x = dt.datetime.now()\n",
      "z = dt.datetime.now()\n",
      "\n",
      "#FMT = '%H:%M:%S.%f'\n",
      "#a = dt.strftime(x, FMT)\n",
      "#b = dt.strftime(z, FMT)\n",
      "\n",
      "#y = x.strftime('%H:%M:%S.%f')\n",
      "\n",
      "#tdelta = (z-x)\n",
      "#newdelta = tdelta.time()\n",
      "#print tdelta\n",
      "#print x\n",
      "\n",
      "times = []\n",
      "\n",
      "for x in range(0, 10000):\n",
      "    a = dt.datetime.now()\n",
      "    times.append(a)\n",
      "\n",
      "print times[0]    \n",
      "print times[9999]\n",
      "\n",
      "print times[9999] - times[0]\n",
      "\n"
     ],
     "language": "python",
     "metadata": {},
     "outputs": [
      {
       "output_type": "stream",
       "stream": "stdout",
       "text": [
        "2015-09-30 17:35:12.475660\n",
        "2015-09-30 17:35:12.487803\n",
        "0:00:00.012143\n"
       ]
      }
     ],
     "prompt_number": 254
    },
    {
     "cell_type": "code",
     "collapsed": false,
     "input": [],
     "language": "python",
     "metadata": {},
     "outputs": []
    }
   ],
   "metadata": {}
  }
 ]
}