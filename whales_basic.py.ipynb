{
 "metadata": {
  "name": "",
  "signature": "sha256:42105acffcb7f82617196cea2d277dee1310d2f0f38685bc91e811bd02ab648d"
 },
 "nbformat": 3,
 "nbformat_minor": 0,
 "worksheets": [
  {
   "cells": [
    {
     "cell_type": "code",
     "collapsed": false,
     "input": [
      "import datetime as dt\n",
      "import random\n",
      "class whale:\n",
      "    def __init__(self, name):\n",
      "        self.name = name\n",
      "        self.sex = random.sample(['male', 'female'], 1)[0]\n",
      "        self.birth = dt.datetime.now()\n",
      "        if self.sex == 'M':\n",
      "            sex = \"male\"\n",
      "        elif self.sex == 'F':\n",
      "            sex = \"female\"\n",
      "        print 'A {:s} whale named {:s} has been born!'.format(self.sex, name)\n",
      "        \n",
      "\n",
      "    def sing(self):\n",
      "        return 5*'\\a'\n",
      "    \n",
      "    def age(self):\n",
      "        self.age = dt.datetime.now() - self.birth\n",
      "        return self.age\n",
      "              \n",
      "wa = whale('Wailord')\n",
      "#w2 = whale('Wailmer', 'F')\n",
      "\n",
      "#print w1.name\n",
      "print wa.sex\n",
      "print wa.age()\n",
      "#print w1.sing()\n",
      "\n"
     ],
     "language": "python",
     "metadata": {},
     "outputs": [
      {
       "output_type": "stream",
       "stream": "stdout",
       "text": [
        "A female whale named Wailord has been born!\n",
        "female\n",
        "0:00:00.000197\n"
       ]
      },
      {
       "metadata": {},
       "output_type": "pyout",
       "prompt_number": 9,
       "text": [
        "\"\\nwhale_list = []\\n\\nwhile len(whale_list) <= 20:\\n    s = random.randint(0,1000)\\n    if s % 2 == 0:\\n        whale_list.append('M')\\n    else:\\n        whale_list.append('F')\\n    \\n\\nprint whale_list\\n\""
       ]
      }
     ],
     "prompt_number": 9
    },
    {
     "cell_type": "code",
     "collapsed": false,
     "input": [
      "print wa.age()"
     ],
     "language": "python",
     "metadata": {},
     "outputs": [
      {
       "ename": "TypeError",
       "evalue": "'datetime.timedelta' object is not callable",
       "output_type": "pyerr",
       "traceback": [
        "\u001b[0;31m---------------------------------------------------------------------------\u001b[0m\n\u001b[0;31mTypeError\u001b[0m                                 Traceback (most recent call last)",
        "\u001b[0;32m<ipython-input-63-36cd8e4d1e5f>\u001b[0m in \u001b[0;36m<module>\u001b[0;34m()\u001b[0m\n\u001b[0;32m----> 1\u001b[0;31m \u001b[0;32mprint\u001b[0m \u001b[0mwa\u001b[0m\u001b[0;34m.\u001b[0m\u001b[0mage\u001b[0m\u001b[0;34m(\u001b[0m\u001b[0;34m)\u001b[0m\u001b[0;34m\u001b[0m\u001b[0m\n\u001b[0m",
        "\u001b[0;31mTypeError\u001b[0m: 'datetime.timedelta' object is not callable"
       ]
      }
     ],
     "prompt_number": 63
    },
    {
     "cell_type": "code",
     "collapsed": false,
     "input": [
      "import datetime as dt\n",
      "from pprint import pprint as p\n",
      "\n",
      "x = dt.datetime.now()\n",
      "z = dt.datetime.now()\n",
      "\n",
      "#FMT = '%H:%M:%S.%f'\n",
      "#a = dt.strftime(x, FMT)\n",
      "#b = dt.strftime(z, FMT)\n",
      "\n",
      "#y = x.strftime('%H:%M:%S.%f')\n",
      "\n",
      "#tdelta = (z-x)\n",
      "#newdelta = tdelta.time()\n",
      "#print tdelta\n",
      "#print x\n",
      "\n",
      "times = []\n",
      "\n",
      "for x in range(0, 10000):\n",
      "    a = dt.datetime.now()\n",
      "    times.append(a)\n",
      "\n",
      "print times[0]    \n",
      "print times[9999]\n",
      "\n",
      "print times[9999] - times[0]\n",
      "\n",
      "            \n",
      "    def __call__(self):\n",
      "        newage = dt.datetime.now() - self.age\n",
      "        return 'A whale named {:s} age {:d}'.format(self.name, newage) \n",
      "    "
     ],
     "language": "python",
     "metadata": {},
     "outputs": []
    },
    {
     "cell_type": "code",
     "collapsed": false,
     "input": [
      "'''\n",
      "whale_list = []\n",
      "\n",
      "while len(whale_list) <= 20:\n",
      "    s = random.randint(0,1000)\n",
      "    if s % 2 == 0:\n",
      "        whale_list.append('M')\n",
      "    else:\n",
      "        whale_list.append('F')\n",
      "    \n",
      "\n",
      "print whale_list\n",
      "'''\n"
     ],
     "language": "python",
     "metadata": {},
     "outputs": []
    }
   ],
   "metadata": {}
  }
 ]
}