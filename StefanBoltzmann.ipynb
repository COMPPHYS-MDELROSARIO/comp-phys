{
 "metadata": {
  "name": "",
  "signature": "sha256:d6975506cbd8d101944b8d001c46824595a3fb09a41ca156285bc04149d1b9ee"
 },
 "nbformat": 3,
 "nbformat_minor": 0,
 "worksheets": [
  {
   "cells": [
    {
     "cell_type": "code",
     "collapsed": false,
     "input": [
      "from math import exp, pi\n",
      "y = 1.\n",
      "dy = 1.\n",
      "h = 0\n",
      "frac_diff = 0\n",
      "\n",
      "def function(y):\n",
      "    h = (y**3*dy/(-1. + exp(y)))\n",
      "    return h\n",
      "\n",
      "while y <= 10:\n",
      "    if y == 1:\n",
      "        print \"running...\"\n",
      "        h += function(y)\n",
      "        print(y, dy, h)\n",
      "        y += 1\n",
      "        dy /= 2.\n",
      "    else:\n",
      "        h += function(y)\n",
      "        print(y, dy, h)\n",
      "        y += 1\n",
      "        dy /= 2.\n",
      "\n",
      "#print function(1)\n",
      "print h, (pi**4/15.)"
     ],
     "language": "python",
     "metadata": {},
     "outputs": [
      {
       "output_type": "stream",
       "stream": "stdout",
       "text": [
        "running...\n",
        "(1.0, 1.0, 0.5819767068693265)\n",
        "(2.0, 0.5, 1.2080472778679892)\n",
        "(3.0, 0.25, 1.5617182291839669)\n",
        "(4.0, 0.125, 1.7109771120941593)\n",
        "(5.0, 0.0625, 1.763974416049661)\n",
        "(6.0, 0.03125, 1.7807475697333621)\n",
        "(7.0, 0.015625, 1.7856391476842224)\n",
        "(8.0, 0.0078125, 1.7869814484875874)\n",
        "(9.0, 0.00390625, 1.787332920562606)\n",
        "(10.0, 0.001953125, 1.787421596326297)\n",
        "1.78742159633 6.49393940227\n"
       ]
      }
     ],
     "prompt_number": 13
    }
   ],
   "metadata": {}
  }
 ]
}