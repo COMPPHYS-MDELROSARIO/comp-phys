{
 "metadata": {
  "name": "",
  "signature": "sha256:0a294c741963927197d88a5f31ca9f741e6a42e85cebec9b43a9b8df58575652"
 },
 "nbformat": 3,
 "nbformat_minor": 0,
 "worksheets": [
  {
   "cells": [
    {
     "cell_type": "code",
     "collapsed": false,
     "input": [
      "import datetime as dt\n",
      "import random\n",
      "import numpy as np\n",
      "import pdb as p\n",
      "\n",
      "class Dolphins:\n",
      "    def __init__(self, name):\n",
      "        self.name = name\n",
      "        self.sex = random.sample(['male', 'female'], 1)[0]\n",
      "        self.birth = dt.datetime.now()\n",
      "        print 'A {:s} dolphin named {:s} has been born!'.format(self.sex, name)\n",
      "    \n",
      "    def age(self):\n",
      "        #p.set_trace()\n",
      "        self.present = dt.datetime.now()\n",
      "        self.newage = dt.datetime.now() - self.birth\n",
      "        return self.newage\n",
      "    \n",
      "    def procreate():\n",
      "        \n",
      "    \n",
      "\n",
      "d1 = Dolphins('hi')\n"
     ],
     "language": "python",
     "metadata": {},
     "outputs": [
      {
       "output_type": "stream",
       "stream": "stdout",
       "text": [
        "A male dolphin named hi has been born!\n"
       ]
      }
     ],
     "prompt_number": 13
    },
    {
     "cell_type": "code",
     "collapsed": false,
     "input": [
      "print d1.age()"
     ],
     "language": "python",
     "metadata": {},
     "outputs": [
      {
       "output_type": "stream",
       "stream": "stdout",
       "text": [
        "0:00:37.038668\n"
       ]
      }
     ],
     "prompt_number": 185
    }
   ],
   "metadata": {}
  }
 ]
}