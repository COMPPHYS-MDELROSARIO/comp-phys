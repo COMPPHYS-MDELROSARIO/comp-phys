{
 "metadata": {
  "name": "",
  "signature": "sha256:6705acda4d22b412862b46a34c1b84ce2bc8b4d1c6be07a0accb0f01690522fc"
 },
 "nbformat": 3,
 "nbformat_minor": 0,
 "worksheets": [
  {
   "cells": [
    {
     "cell_type": "code",
     "collapsed": false,
     "input": [
      "import datetime as dt\n",
      "import random\n",
      "import numpy as np\n",
      "import pdb as p\n",
      "\n",
      "class Dolphins:\n",
      "    def __init__(self, name, mother, father, sex, age = 0):\n",
      "        self.name = name\n",
      "        #self.sex = random.sample(['male', 'female'], 1)[0]\n",
      "        #self.birth = dt.datetime.now()\n",
      "        #print 'A {:s} dolphin named {:s} has been born!'.format(self.sex, name)\n",
      "        self.mother = mother\n",
      "        self.father = father\n",
      "        self.sex = sex\n",
      "        self.age = age\n",
      "    \n",
      "    def dolph_age(self):\n",
      "        self.age += 1\n",
      "        return self.age\n",
      "    \n",
      "    def procreate(self, dolphs):\n",
      "        can_mate = True\n",
      "        dad == False\n",
      "        mom == False\n",
      "        sex_prob = random.sample(['male', 'female'], 1)[0]\n",
      "        new_male = ''\n",
      "        new_female = ''\n",
      "        while dad == False or mom == False:\n",
      "            if random.sample(dolphs, 1)[0].sex == 'male':\n",
      "                new_male = random.sample(dolphs, 1)[0]\n",
      "                dad == True\n",
      "            if random.sample(dolphs, 1)[0].sex == 'female':\n",
      "                new_female = random.sample(dolphs, 1)[0]\n",
      "                mom == True\n",
      "        while can_mate == True:\n",
      "            if self.age < 8:\n",
      "                can_mate = False\n",
      "            if new_male.mother == new_female.mother or new_male.father == new_female.father\n",
      "                can_mate = False\n",
      "            if np.absolute(new_male.age - new_female.age) > 10:\n",
      "                can_mate = False\n",
      "            else:\n",
      "                namefromlist.Dolphins(namefromlist, dolphs, dolphs, sex_prob)\n",
      "            \n",
      "            \n",
      "            \n",
      "            \n",
      "    \n",
      "\n",
      "d1 = Dolphins('hi')\n"
     ],
     "language": "python",
     "metadata": {},
     "outputs": [
      {
       "output_type": "stream",
       "stream": "stdout",
       "text": [
        "A male dolphin named hi has been born!\n"
       ]
      }
     ],
     "prompt_number": 13
    },
    {
     "cell_type": "code",
     "collapsed": false,
     "input": [
      "names = ['a', 'b', 'c', 'd', 'e', 'f', 'g', 'h', 'i', 'j', 'k', 'l', 'm', 'n', 'o', 'p', 'q', 'r', 's', 't', 'u' ,'v', 'w', 'x', 'y', 'z']\n",
      "for x in names:\n",
      "    print x"
     ],
     "language": "python",
     "metadata": {},
     "outputs": []
    },
    {
     "cell_type": "code",
     "collapsed": false,
     "input": [
      "import datetime as dt\n",
      "import random\n",
      "import numpy as np\n",
      "import pdb as p\n",
      "\n",
      "class Dolphins:\n",
      "    count = 0\n",
      "    def __init__(self, name, mother, father, sex, age = 0):\n",
      "        #p.set_trace()\n",
      "        self.name = name\n",
      "        self.mother = mother\n",
      "        self.father = father\n",
      "        self.sex = sex\n",
      "        self.age = age\n",
      "        self.__class__.counter = age\n",
      "    \n",
      "    def dolph_age(self):\n",
      "        self.__class__.count += 1\n",
      "        #self.age = str(self.__class__.counter)\n",
      "        self.age = self.__class__.count\n",
      "        return self.age\n",
      "    \n",
      "d1 = Dolphins('Dolphina', 'hi', 'bye', 'female')\n"
     ],
     "language": "python",
     "metadata": {},
     "outputs": [],
     "prompt_number": 122
    },
    {
     "cell_type": "code",
     "collapsed": false,
     "input": [
      "import datetime as dt\n",
      "import random\n",
      "import numpy as np\n",
      "import pdb as p\n",
      "\n",
      "class Dolphins:\n",
      "    count = 0\n",
      "    def __init__(self, name, mother, father, sex, age = 0):\n",
      "        #p.set_trace()\n",
      "        self.name = name\n",
      "        self.mother = mother\n",
      "        self.father = father\n",
      "        self.sex = sex\n",
      "        self.age = age\n",
      "        self.can_give_birth = True\n",
      "\n",
      "    \n",
      "    def dolph_age(self):\n",
      "        self.age += 1\n",
      "        return self.age\n",
      "    \n",
      "    def possible(self):\n",
      "        if self.can_give_birth == True:\n",
      "            self.can_give_birth = False\n",
      "            return (\"can give birth\")  \n",
      "        if self.can_give_birth == False:\n",
      "            self.__class__.count += 1            \n",
      "            if self.__class__.count > 5:\n",
      "                self.can_give_birth = True\n",
      "                self.__class__.count = 0 \n",
      "\n",
      "    \n",
      "d1 = Dolphins('Dolphina', 'hi', 'bye', 'female')\n"
     ],
     "language": "python",
     "metadata": {},
     "outputs": [],
     "prompt_number": 458
    },
    {
     "cell_type": "code",
     "collapsed": false,
     "input": [
      "print d1.possible()"
     ],
     "language": "python",
     "metadata": {},
     "outputs": [
      {
       "output_type": "stream",
       "stream": "stdout",
       "text": [
        "can give birth\n"
       ]
      }
     ],
     "prompt_number": 466
    },
    {
     "cell_type": "code",
     "collapsed": false,
     "input": [
      "\n",
      "    "
     ],
     "language": "python",
     "metadata": {},
     "outputs": []
    },
    {
     "cell_type": "code",
     "collapsed": false,
     "input": [],
     "language": "python",
     "metadata": {},
     "outputs": []
    }
   ],
   "metadata": {}
  }
 ]
}