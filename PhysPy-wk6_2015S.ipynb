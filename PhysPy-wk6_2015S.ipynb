{
 "cells": [
  {
   "cell_type": "markdown",
   "metadata": {},
   "source": [
    "# Topics (related to the midterm project):\n",
    "\n",
    "## 1. Regular Expression (regex, or sometimes RE)\n",
    "## 2. return vs. yield\n",
    "## 3. random.sample, numpy.random, and histogram plots "
   ]
  },
  {
   "cell_type": "markdown",
   "metadata": {},
   "source": [
    "## Regular expression\n",
    "\n",
    "\n",
    "###\"The limits of my language mean the limits of my world.\"  \n",
    "\n",
    "###\\- Ludwig Wittgenstein\n",
    "\n",
    "\n",
    "Resources:\n",
    "\n",
    "* *Effective Computation in Physics * Chapter 8\n",
    "\n",
    "* https://docs.python.org/2/library/re.html"
   ]
  },
  {
   "cell_type": "raw",
   "metadata": {},
   "source": [
    "Expression   Matches\n",
    "\n",
    "uvwxyz       uvwxyz\n",
    "\n",
    "'.'          any character except a newline. \n",
    "'*'          0 or more repetitions of the preceding RE \n",
    "             (e.g. ab* will match ‘a’, ‘ab’, or ‘a’ followed by any number of ‘b')\n",
    "             \n",
    ".*           Zero or more of any character, such as supercalifragilisticexpialidocious or 42\n",
    "'?'          0 or 1 repetitions of the preceding RE. ab? will match either ‘a’ or ‘ab’.\n",
    "\n",
    "\n",
    "[A-Z]        any character between A and Z\n",
    "[a-z]        any character between a and z\n",
    "[0-9]        any digit        \n",
    "[^]          not, e.g. [^0-9] means not a digit\n",
    "\\s           any white space characters (usually single space or tab)\n",
    "\\d           any digits (equivalent to [0-9])\n",
    "\n",
    "[u-z]        One of either u, v, q, x, y, or z"
   ]
  },
  {
   "cell_type": "markdown",
   "metadata": {},
   "source": [
    "### re.match(pattern, string, flags=0)\n",
    "\n",
    "\n",
    "###pattern:\tThis is the regular expression to be matched.\n",
    "\n",
    "###string:\tThis is the string, which would be searched to match the pattern at the beginning of string.\n",
    "\n",
    "###flags:\tYou can specify different flags, e.g., to do case insensitive search, use flags = re.I (for all flags: https://docs.python.org/2/howto/regex.html)\n",
    "\n",
    "\n",
    "### The match() function returns a match object on success, None on failure.  \n",
    "\n",
    "### Use group(num) or groups() function of match object to get matched expression.\n",
    "\n",
    "\n",
    "###*Note: match() checks for a match only at the beginning of the string*"
   ]
  },
  {
   "cell_type": "code",
   "execution_count": null,
   "metadata": {
    "collapsed": false
   },
   "outputs": [],
   "source": [
    "# A match!\n",
    "import re\n",
    "m = re.match(\"20[01][0-9].*[0-9][0-9].*[0-9][0-9]\", '2015-12-16')\n",
    "print m\n",
    "print m.group()"
   ]
  },
  {
   "cell_type": "code",
   "execution_count": null,
   "metadata": {
    "collapsed": false
   },
   "outputs": [],
   "source": [
    "# A match!  [0-9] --> \\d\n",
    "import re\n",
    "m = re.match(\"20[01][0-9].*[0-9][0-9].*[0-9]\\d\", '2015-12-16')\n",
    "print m\n",
    "print m.group()"
   ]
  },
  {
   "cell_type": "code",
   "execution_count": null,
   "metadata": {
    "collapsed": false
   },
   "outputs": [],
   "source": [
    "# No match\n",
    "import re\n",
    "m = re.match(\"20[01][0-9].*[0-9][ 0-9].*[0-9][0-9]\", '20')\n",
    "print m"
   ]
  },
  {
   "cell_type": "code",
   "execution_count": null,
   "metadata": {
    "collapsed": false
   },
   "outputs": [],
   "source": [
    "# match or not?  '2015-12-16' --> '2015a12b16'\n",
    "import re\n",
    "m = re.match(\"20[01][0-9].*[ 0-9][ 0-9].*[0-9][0-9]\", '2015a12b16')\n",
    "if m:\n",
    "    print m.group()"
   ]
  },
  {
   "cell_type": "code",
   "execution_count": null,
   "metadata": {
    "collapsed": false
   },
   "outputs": [],
   "source": [
    "# match or not?  second '.*' --> [^a-z]\n",
    "import re\n",
    "m = re.match(\"20[ 01][ 0-9].*[0-9][0-9][^a-z][0-9][0-9]\", '2015a12b16')\n",
    "if m:\n",
    "    print m.group()\n",
    "else:\n",
    "    print 'no match'"
   ]
  },
  {
   "cell_type": "code",
   "execution_count": null,
   "metadata": {
    "collapsed": false
   },
   "outputs": [],
   "source": [
    "# match or not?  [^a-z] --> [^a]\n",
    "import re\n",
    "m = re.match(\"20[ 01][ 0-9].*[0-9][0-9][^a][0-9][0-9]\", '2015a12b16')\n",
    "if m:\n",
    "    print m.group()\n",
    "else:\n",
    "    print 'no match'"
   ]
  },
  {
   "cell_type": "code",
   "execution_count": null,
   "metadata": {
    "collapsed": false
   },
   "outputs": [],
   "source": [
    "# match or not?\n",
    "import re\n",
    "m = re.match(\"20[01][0-9].*[0-9][0-9].*[0-9][0-9]\", '2019adlkfj are1216')\n",
    "if m:\n",
    "    print m.group()\n",
    "else:\n",
    "    print 'no match'"
   ]
  },
  {
   "cell_type": "code",
   "execution_count": null,
   "metadata": {
    "collapsed": false
   },
   "outputs": [],
   "source": [
    "# match or not?\n",
    "import re\n",
    "m = re.match(\" 20[01][0-9].*[0-9][0-9].*[0-9][0-9]\", '2015^12&16')\n",
    "if m:\n",
    "    print m.group()\n",
    "else:\n",
    "    print 'no match'"
   ]
  },
  {
   "cell_type": "code",
   "execution_count": null,
   "metadata": {
    "collapsed": false
   },
   "outputs": [],
   "source": [
    "# match or not?\n",
    "import re\n",
    "m = re.match(\"20[01][0-9].*[0-9][0-9].*[0-9][0-9]\", 'Something very intereting \\\n",
    "will happen on 2015-12-16.  You just wait and see.')\n",
    "if m:\n",
    "    print m.group()\n",
    "else:\n",
    "    print 'no match'"
   ]
  },
  {
   "cell_type": "code",
   "execution_count": null,
   "metadata": {
    "collapsed": false
   },
   "outputs": [],
   "source": [
    "# match or not?\n",
    "import re\n",
    "m = re.match(\".*20[01][0-9].*[0-9][0-9].*[0-9][0-9]\", 'Something very intereting \\\n",
    "will happen on 2015-12-16.  You just wait and see.')\n",
    "if m:\n",
    "    print m.group()\n",
    "else:\n",
    "    print 'no match'"
   ]
  },
  {
   "cell_type": "code",
   "execution_count": null,
   "metadata": {
    "collapsed": false
   },
   "outputs": [],
   "source": [
    "# Match or not?\n",
    "import re\n",
    "m = re.match(\".*20[01][0-9]-[0-9][0-9]-[0-9][0-9]\", 'Something very intereting \\\n",
    "will happen on 2015.12.16.  You just wait and see.')\n",
    "print m"
   ]
  },
  {
   "cell_type": "markdown",
   "metadata": {},
   "source": [
    "## re.search()\n",
    "\n",
    "### If you want to locate a match anywhere in string, use search()"
   ]
  },
  {
   "cell_type": "code",
   "execution_count": null,
   "metadata": {
    "collapsed": false
   },
   "outputs": [],
   "source": [
    "import re\n",
    "m = re.search(\"20[01][0-9]-[0-9][0-9]-[0-9][0-9]\", 'Something very intereting \\\n",
    "will happen on 2015-12-16.  You just wait and see.')\n",
    "print m\n",
    "print m.group()"
   ]
  },
  {
   "cell_type": "code",
   "execution_count": null,
   "metadata": {
    "collapsed": false
   },
   "outputs": [],
   "source": [
    "# the .group() method, and note: the second occurrence was ignored.\n",
    "import re\n",
    "m = re.search(\"(20[01][0-9])-([0-9][0-9])-([0-9][0-9])\", 'Something very intereting \\\n",
    "will happen on 2015-12-16.  You just wait and see, only after 2015-12-16.')\n",
    "print m.group()\n",
    "print m.group(0)\n",
    "print 'year:', m.group(1)\n",
    "print 'month:', m.group(2)\n",
    "print 'date:', m.group(3)"
   ]
  },
  {
   "cell_type": "markdown",
   "metadata": {},
   "source": [
    "## re.search()\n",
    "\n",
    "### To find all occurrences, and return the results as a list"
   ]
  },
  {
   "cell_type": "code",
   "execution_count": null,
   "metadata": {
    "collapsed": false
   },
   "outputs": [],
   "source": [
    "# Match!\n",
    "import re\n",
    "m = re.findall(\"20[01][0-9]-[0-9][0-9]-[0-9][0-9]\", 'Something very intereting \\\n",
    "will happen on 2015-12-16.  You just wait and see, only after 2015-12-18.')\n",
    "print m, type(m)"
   ]
  },
  {
   "cell_type": "markdown",
   "metadata": {},
   "source": [
    "## Breakout Problem:\n",
    "\n",
    "### The following text is copied from wikipedia,\n",
    "\n",
    "### \"The current men's world record is 9.58 seconds, set by Jamaica's Usain Bolt in 2009,\"\n",
    "\n",
    "### By using re.match(), extract the world record time.  You cannot use any actual words in your pattern, e.g. \"seconds\" would not be allowed.\n",
    "\n"
   ]
  },
  {
   "cell_type": "markdown",
   "metadata": {},
   "source": [
    "## return vs. yield"
   ]
  },
  {
   "cell_type": "code",
   "execution_count": null,
   "metadata": {
    "collapsed": false
   },
   "outputs": [],
   "source": [
    "# A peculiar thing about enumerate(): you can't use len() with enumerate()!\n",
    "from collections import Iterable\n",
    "y = range(10)\n",
    "print len(y)\n",
    "print isinstance(y, Iterable)\n",
    "z = enumerate(range(10))\n",
    "print isinstance(z, Iterable)\n",
    "#print len(z)                     # will get error.\n",
    "print z.next()\n",
    "print z.next()\n",
    "#print z[3]                      # will also get error."
   ]
  },
  {
   "cell_type": "markdown",
   "metadata": {},
   "source": [
    "## eunmerate() *is* an iterable; but not all iterables have a length!"
   ]
  },
  {
   "cell_type": "code",
   "execution_count": null,
   "metadata": {
    "collapsed": false
   },
   "outputs": [],
   "source": [
    "# return:\n",
    "def create_integers(N):\n",
    "    lst=[]\n",
    "    for i in range(N):\n",
    "        lst.append(i)\n",
    "    return lst\n",
    "newints = create_integers(6)    \n",
    "print newints \n"
   ]
  },
  {
   "cell_type": "code",
   "execution_count": null,
   "metadata": {
    "collapsed": false
   },
   "outputs": [],
   "source": [
    "print type(create_integers), type(newints)\n"
   ]
  },
  {
   "cell_type": "code",
   "execution_count": null,
   "metadata": {
    "collapsed": false
   },
   "outputs": [],
   "source": [
    "# yield:\n",
    "from pdb import set_trace\n",
    "def generate_integers(N):\n",
    "    for i in range(N):\n",
    "        # note: it's inside the for loop!\n",
    "        yield i\n",
    "        #set_trace()\n",
    "        print 'The {:d}th time generate_integers() is called'.format(i+1)\n",
    "gen = generate_integers(6)\n",
    "print type(generate_integers), type(gen)\n"
   ]
  },
  {
   "cell_type": "code",
   "execution_count": null,
   "metadata": {
    "collapsed": false
   },
   "outputs": [],
   "source": [
    "# It shows you that the next generate_integers() is called, \n",
    "# python starts from the statement immediately below the yield statement.\n",
    "gen.next()"
   ]
  },
  {
   "cell_type": "code",
   "execution_count": null,
   "metadata": {
    "collapsed": false
   },
   "outputs": [],
   "source": [
    "for i in range(6):\n",
    "    print gen.next()\n"
   ]
  },
  {
   "cell_type": "code",
   "execution_count": null,
   "metadata": {
    "collapsed": false
   },
   "outputs": [],
   "source": [
    "# You will get error if the previous cell has been run.\n",
    "for i in range(6):\n",
    "    print gen.next()"
   ]
  },
  {
   "cell_type": "markdown",
   "metadata": {},
   "source": [
    "##Breakout Problem: Write a function that generates all Fibonacci numbers less than 300 by using yield.  \n",
    "\n",
    "Definition: F\\_n = F\\_{n-1} + F\\_{n-2}; F\\_0 = 0 and F\\_1 = 1.  \n",
    "\n",
    "Hint: Once you have calculated F\\_3, you have no need for F\\_0 and F\\_1; \n",
    "once you know F\\_4, you have no need for F\\_3 and F\\_2; and so forth.\n",
    "So for every new round, you only need to keep the previous two numbers.\n",
    "\n",
    "Computing by hand:\n",
    "F\\_0 = 0\n",
    "F\\_1 = 1\n",
    "F\\_2 = 1\n",
    "F\\_3 = 2\n",
    "...\n"
   ]
  },
  {
   "cell_type": "code",
   "execution_count": null,
   "metadata": {
    "collapsed": false
   },
   "outputs": [],
   "source": [
    "ind = 0\n",
    "for i in fib():\n",
    "    #print 'ind = ', ind\n",
    "    ind += 1\n",
    "    if i > 300:\n",
    "        break\n",
    "    else:\n",
    "        print i\n",
    "        \n",
    "# Let's work out the flow of the code.\n",
    "# This is an elegant, memory efficient way of generating Fibonacci numbers \n",
    "# (note: at any time only the latest two Fibonacci numbers take up memory, \n",
    "# as is necessary for the calculation of the next Fib number.   \n",
    "# All previous Fib numbers are \"forgotten\"!)\n",
    "# This is very different from the \"list\" way of doing things, where every element \n",
    "# takes up memory.\n"
   ]
  },
  {
   "cell_type": "markdown",
   "metadata": {},
   "source": [
    "## The random module\n",
    "\n",
    "from http://docs.python.org/2/library/random.html:"
   ]
  },
  {
   "cell_type": "code",
   "execution_count": 1,
   "metadata": {
    "collapsed": false
   },
   "outputs": [
    {
     "name": "stdout",
     "output_type": "stream",
     "text": [
      "['y', 'z', 'b', 'a', 'd', 'x', 'c']\n"
     ]
    }
   ],
   "source": [
    "import random\n",
    "lst = ['a', 'b', 'c', 'd', 'x', 'y', 'z']\n",
    "random.shuffle(lst)   ### this shuffles the list in place.  \n",
    "print lst   ### you can run this as many times as you want."
   ]
  },
  {
   "cell_type": "code",
   "execution_count": 62,
   "metadata": {
    "collapsed": false
   },
   "outputs": [
    {
     "data": {
      "text/plain": [
       "0.388552439744812"
      ]
     },
     "execution_count": 62,
     "metadata": {},
     "output_type": "execute_result"
    }
   ],
   "source": [
    "import random\n",
    "random.random()"
   ]
  },
  {
   "cell_type": "markdown",
   "metadata": {},
   "source": [
    "##random.sample(population, k)\n",
    "\n",
    "Return a k length list of unique elements chosen from the population sequence. \n",
    "\n",
    "Returns a new list containing elements from the population while leaving the original population unchanged. \n"
   ]
  },
  {
   "cell_type": "code",
   "execution_count": 63,
   "metadata": {
    "collapsed": false
   },
   "outputs": [
    {
     "name": "stdout",
     "output_type": "stream",
     "text": [
      "[798742, 6554902, 1535914, 5618555, 6415846, 5859789, 7320610, 808968, 6749287, 97866]\n"
     ]
    }
   ],
   "source": [
    "# Example of random.sample:\n",
    "from random import sample\n",
    "print sample(xrange(10000000), 10)\n",
    "# Note the difference between xrange() and range(): xrange() doesn't create an entire list, \n",
    "# but creates the values when asked for them.\n",
    "# So it's much better to use xrange() here owing to the large argument."
   ]
  },
  {
   "cell_type": "code",
   "execution_count": 64,
   "metadata": {
    "collapsed": false
   },
   "outputs": [
    {
     "name": "stdout",
     "output_type": "stream",
     "text": [
      "<type 'str'> 26\n",
      "abcdefghijklmnopqrstuvwxyz\n",
      "['r', 'k', 'j', 'x', 'c', 'a', 't', 'h', 'q', 'g']\n"
     ]
    }
   ],
   "source": [
    "### Another example: \n",
    "from string import ascii_lowercase\n",
    "print type(ascii_lowercase), len(ascii_lowercase)\n",
    "# So yes, you can only import modules, functions but also strings and other objects.\n",
    "# In Python: almost everything is an object (modules, functions, strings, ints, floats,\n",
    "# dictionaries, lists, classes, etc.)\n",
    "# and therefore, there is no fundamental difference between them in terms of how they\n",
    "# are treated and used in Python.\n",
    "print ascii_lowercase\n",
    "print sample(ascii_lowercase, 10)"
   ]
  },
  {
   "cell_type": "markdown",
   "metadata": {},
   "source": [
    "## ASCII stands for: American Standard Code for Information Interchange"
   ]
  },
  {
   "cell_type": "markdown",
   "metadata": {},
   "source": [
    "## numpyr.random\n",
    "\n",
    "http://docs.scipy.org/doc/numpy/reference/routines.random.html\n",
    "\n",
    "Gaussian distribution -- mu is the mean, and sigma is the standard deviation. "
   ]
  },
  {
   "cell_type": "code",
   "execution_count": 552,
   "metadata": {
    "collapsed": false
   },
   "outputs": [
    {
     "name": "stdout",
     "output_type": "stream",
     "text": [
      "0.194360262393\n"
     ]
    }
   ],
   "source": [
    "from numpy.random import randn\n",
    "x = randn()\n",
    "print x"
   ]
  },
  {
   "cell_type": "code",
   "execution_count": 657,
   "metadata": {
    "collapsed": false
   },
   "outputs": [
    {
     "name": "stdout",
     "output_type": "stream",
     "text": [
      "[ 2.56397067  6.59473282  4.31187982 -0.12339069  2.78883297  5.15685986\n",
      "  0.44727972  3.70922709  6.92051044  4.5493075 ]\n",
      "3.69192101898\n",
      "2.22009126632\n"
     ]
    }
   ],
   "source": [
    "import numpy as np\n",
    "from numpy.random import randn\n",
    "x = randn(10)*2. + 3.\n",
    "print x\n",
    "print np.mean(x)\n",
    "print np.std(x)"
   ]
  },
  {
   "cell_type": "code",
   "execution_count": 659,
   "metadata": {
    "collapsed": false
   },
   "outputs": [
    {
     "name": "stdout",
     "output_type": "stream",
     "text": [
      "n (normalized height, or probability density): [  1.30699078e-04   1.30699078e-04   4.35663595e-05   0.00000000e+00\n",
      "   1.74265438e-04   1.30699078e-04   4.35663595e-04   5.22796314e-04\n",
      "   1.17629171e-03   1.08915899e-03   1.43768986e-03   2.43971613e-03\n",
      "   4.18237051e-03   5.05369770e-03   6.92705116e-03   8.80040461e-03\n",
      "   1.19807489e-02   1.16757843e-02   1.74701101e-02   1.87335346e-02\n",
      "   2.12168171e-02   2.34387014e-02   2.36565332e-02   2.62705148e-02\n",
      "   2.70982756e-02   2.60091166e-02   2.63576475e-02   2.55298866e-02\n",
      "   2.23931088e-02   2.13910825e-02   1.78622074e-02   1.61195530e-02\n",
      "   1.52482258e-02   1.18064834e-02   9.10536913e-03   8.66970553e-03\n",
      "   6.09929033e-03   4.83586590e-03   3.00607880e-03   2.26545069e-03\n",
      "   1.39412350e-03   1.04559263e-03   7.84194470e-04   5.66362673e-04\n",
      "   2.61398157e-04   2.61398157e-04   1.74265438e-04   8.71327189e-05\n",
      "   8.71327189e-05   8.71327189e-05] 50\n",
      "bins (locations of bin edges): [  42.31806719   44.6134162    46.9087652    49.20411421   51.49946322\n",
      "   53.79481223   56.09016124   58.38551025   60.68085925   62.97620826\n",
      "   65.27155727   67.56690628   69.86225529   72.1576043    74.4529533\n",
      "   76.74830231   79.04365132   81.33900033   83.63434934   85.92969834\n",
      "   88.22504735   90.52039636   92.81574537   95.11109438   97.40644339\n",
      "   99.70179239  101.9971414   104.29249041  106.58783942  108.88318843\n",
      "  111.17853744  113.47388644  115.76923545  118.06458446  120.35993347\n",
      "  122.65528248  124.95063149  127.24598049  129.5413295   131.83667851\n",
      "  134.13202752  136.42737653  138.72272554  141.01807454  143.31342355\n",
      "  145.60877256  147.90412157  150.19947058  152.49481959  154.79016859\n",
      "  157.0855176 ] 51\n"
     ]
    },
    {
     "data": {
      "image/png": "[encoded data removed]",
      "text/plain": [
       "<matplotlib.figure.Figure at 0x10c674590>"
      ]
     },
     "metadata": {},
     "output_type": "display_data"
    }
   ],
   "source": [
    "%matplotlib inline\n",
    "import numpy as np\n",
    "import matplotlib.pyplot as plt\n",
    "\n",
    "\n",
    "x = np.random.randn(10000)*15 + 100\n",
    "fig = plt.figure()\n",
    "ax = fig.add_subplot(111)\n",
    "\n",
    "# the histogram of the data\n",
    "\n",
    "Nbins = 50\n",
    "# normed=1: the total area adds up to 1; # alpha: level of tranparency.\n",
    "n, bins, patches = ax.hist(x, Nbins, normed=1, facecolor='violet', alpha=.5)\n",
    "print 'n (normalized height, or probability density):', n, len(n)\n",
    "print 'bins (locations of bin edges):', bins, len(bins)\n",
    "\n",
    "# hist uses np.histogram under the hood to create 'n' and 'bins'.\n",
    "# np.histogram returns the bin edges, so there will be Nbin probability\n",
    "# density values (n), Nbin+1 bin edges (bins), and finally, Nbin patches.\n",
    "\n",
    "ax.set_xlabel('IQ')\n",
    "ax.set_ylabel('Probability')\n",
    "# The is Latex, a typsetting \"program\".\n",
    "ax.set_title(r'$\\mathrm{Histogram\\ of\\ IQ:}\\ \\mu=100,\\ \\sigma=15$')\n",
    "# Pay attention to how the x and y axis limits are set.\n",
    "ax.set_xlim(0, 200)\n",
    "ax.set_ylim(0, 0.03)\n",
    "ax.grid(True)\n",
    "\n",
    "plt.show()\n"
   ]
  },
  {
   "cell_type": "markdown",
   "metadata": {},
   "source": [
    "## End of wk 6-1"
   ]
  }
 ],
 "metadata": {
  "kernelspec": {
   "display_name": "Python 2",
   "language": "python",
   "name": "python2"
  },
  "language_info": {
   "codemirror_mode": {
    "name": "ipython",
    "version": 2
   },
   "file_extension": ".py",
   "mimetype": "text/x-python",
   "name": "python",
   "nbconvert_exporter": "python",
   "pygments_lexer": "ipython2",
   "version": "2.7.9"
  }
 },
 "nbformat": 4,
 "nbformat_minor": 0
}
